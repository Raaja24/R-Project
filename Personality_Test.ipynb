{
  "nbformat": 4,
  "nbformat_minor": 0,
  "metadata": {
    "colab": {
      "provenance": [],
      "authorship_tag": "ABX9TyNRBqM+XJG1IG/4odw/t+/9",
      "include_colab_link": true
    },
    "kernelspec": {
      "name": "ir",
      "display_name": "R"
    },
    "language_info": {
      "name": "R"
    }
  },
  "cells": [
    {
      "cell_type": "markdown",
      "metadata": {
        "id": "view-in-github",
        "colab_type": "text"
      },
      "source": [
        "<a href=\"https://colab.research.google.com/github/Raaja24/R-Project/blob/main/Personality_Test.ipynb\" target=\"_parent\"><img src=\"https://colab.research.google.com/assets/colab-badge.svg\" alt=\"Open In Colab\"/></a>"
      ]
    },
    {
      "cell_type": "markdown",
      "source": [
        "<font size ='7'><B> Personality Test </B></font>"
      ],
      "metadata": {
        "id": "4dtRAVBJBBgH"
      }
    },
    {
      "cell_type": "markdown",
      "source": [
        "## Objective of this program\n",
        "\n",
        "\n",
        "\n",
        "\n",
        "\n",
        "\n",
        "*   Personality test is self-reporting system that measures personality traits on a 0 - 10 scale.\n",
        "\n",
        "*   The results of these simple questions are then used to create a personality profile that provides a thorough analysis of the test-actions, taker's way of thinking, and unique personality.\n",
        "\n",
        "\n",
        "*   The main objective of this research work is to analyze help the person make important life decisions. \n",
        "\n",
        "\n",
        "\n",
        "\n"
      ],
      "metadata": {
        "id": "U-GK0456BmW1"
      }
    },
    {
      "cell_type": "markdown",
      "source": [
        "First read data in xlsx file and merge two different xlsx file"
      ],
      "metadata": {
        "id": "KuNqG5O0G_Yn"
      }
    },
    {
      "cell_type": "code",
      "source": [
        "install.packages('readxl')"
      ],
      "metadata": {
        "colab": {
          "base_uri": "https://localhost:8080/"
        },
        "id": "uTfdkQc1GfvB",
        "outputId": "c8f4b106-9a00-4638-c50e-21b6f3a34dc6"
      },
      "execution_count": null,
      "outputs": [
        {
          "output_type": "stream",
          "name": "stderr",
          "text": [
            "Installing package into ‘/usr/local/lib/R/site-library’\n",
            "(as ‘lib’ is unspecified)\n",
            "\n"
          ]
        }
      ]
    },
    {
      "cell_type": "code",
      "source": [
        "library('readxl')"
      ],
      "metadata": {
        "id": "i5f-zHhUGjub"
      },
      "execution_count": null,
      "outputs": []
    },
    {
      "cell_type": "code",
      "execution_count": null,
      "metadata": {
        "colab": {
          "base_uri": "https://localhost:8080/",
          "height": 34
        },
        "id": "ao8vLMHGGHuk",
        "outputId": "b3ca98f4-5171-454f-f33a-28860635dbb1"
      },
      "outputs": [
        {
          "output_type": "display_data",
          "data": {
            "text/html": [
              "52"
            ],
            "text/markdown": "52",
            "text/latex": "52",
            "text/plain": [
              "[1] 52"
            ]
          },
          "metadata": {}
        }
      ],
      "source": [
        "excel1<- read_excel(\"1.xlsx\")\n",
        "nrow(excel1)"
      ]
    },
    {
      "cell_type": "code",
      "source": [
        "excel2<- read_excel(\"2.xlsx\")\n",
        "nrow(excel2)"
      ],
      "metadata": {
        "colab": {
          "base_uri": "https://localhost:8080/",
          "height": 34
        },
        "id": "Euz7v9ffHC0j",
        "outputId": "46eeb877-6f69-42c7-9da6-a284b4aba3e5"
      },
      "execution_count": null,
      "outputs": [
        {
          "output_type": "display_data",
          "data": {
            "text/html": [
              "10"
            ],
            "text/markdown": "10",
            "text/latex": "10",
            "text/plain": [
              "[1] 10"
            ]
          },
          "metadata": {}
        }
      ]
    },
    {
      "cell_type": "code",
      "source": [
        "excel2u<- excel2[,-2:-4]\n",
        "nrow(excel2u)"
      ],
      "metadata": {
        "colab": {
          "base_uri": "https://localhost:8080/",
          "height": 34
        },
        "id": "QWSPZIQgLG1s",
        "outputId": "9cabdcce-cdf3-4c33-bca5-42c440817fb3"
      },
      "execution_count": null,
      "outputs": [
        {
          "output_type": "display_data",
          "data": {
            "text/html": [
              "10"
            ],
            "text/markdown": "10",
            "text/latex": "10",
            "text/plain": [
              "[1] 10"
            ]
          },
          "metadata": {}
        }
      ]
    },
    {
      "cell_type": "code",
      "source": [
        "data_merged<-merge(excel1,excel2u,all.x = TRUE, all.y = TRUE)"
      ],
      "metadata": {
        "id": "OYaSn3UV-qNM"
      },
      "execution_count": null,
      "outputs": []
    },
    {
      "cell_type": "code",
      "source": [
        "tail(data_merged)"
      ],
      "metadata": {
        "colab": {
          "base_uri": "https://localhost:8080/",
          "height": 497
        },
        "id": "0spw-p_eMPlE",
        "outputId": "84507b9c-d9b4-4c23-d96d-9c0e66f29b50"
      },
      "execution_count": null,
      "outputs": [
        {
          "output_type": "display_data",
          "data": {
            "text/html": [
              "<table class=\"dataframe\">\n",
              "<caption>A data.frame: 6 × 52</caption>\n",
              "<thead>\n",
              "\t<tr><th></th><th scope=col>Student Name</th><th scope=col>You enjoy vibrant social events with lots of peopleYour response should be a decimal number from 1 (strongly disagree) to 10 (strongly agree), for example 3.8\r\n",
              "Based on https://www.16personalities.com/free-personality-test</th><th scope=col>You often spend time exploring unrealistic yet intriguing ideas.Your response should be a decimal number from 1 (strongly disagree) to 10 (strongly agree), for example 3.8\r\n",
              "Based on https://www.16personalities.com/free-personality-test</th><th scope=col>Your travel plans are more likely to look like a rough list of ideas than a detailed itinerary.Your response should be a decimal number from 1 (strongly disagree) to 10 (strongly agree), for example 3.8\r\n",
              "Based on https://www.16personalities.com/free-personality-test</th><th scope=col>You often think about what you should have said in a conversation long after it has taken place.Your response should be a decimal number from 1 (strongly disagree) to 10 (strongly agree), for example 3.8\r\n",
              "Based on https://www.16personalities.com/free-personality-test</th><th scope=col>If your friend is sad about something, your first instinct is to support them emotionally, not try to solve their problem.Your response should be a decimal number from 1 (strongly disagree) to 10 (strongly agree), for example 3.8\r\n",
              "Based on https://www.16personalities.com/free-personality-test</th><th scope=col>People can rarely upset you.Your response should be a decimal number from 1 (strongly disagree) to 10 (strongly agree), for example 3.8\r\n",
              "Based on https://www.16personalities.com/free-personality-test</th><th scope=col>You often rely on other people to be the ones to start a conversation and keep it going.Your response should be a decimal number from 1 (strongly disagree) to 10 (strongly agree), for example 3.8\r\n",
              "Based on https://www.16personalities.com/free-personality-test</th><th scope=col>If you have to temporarily put your plans on hold, you make sure it is your top priority to get back on track as soon as possible.Your response should be a decimal number from 1 (strongly disagree) to 10 (strongly agree), for example 3.8\r\n",
              "Based on https://www.16personalities.com/free-personality-test</th><th scope=col>You rarely worry if you made a good impression on someone you met.Your response should be a decimal number from 1 (strongly disagree) to 10 (strongly agree), for example 3.8\r\n",
              "Based on https://www.16personalities.com/free-personality-test</th><th scope=col>⋯</th><th scope=col>You feel comfortable just walking up to someone you find interesting and striking up a conversation.Your response should be a decimal number from 1 (strongly disagree) to 10 (strongly agree), for example 3.8\r\n",
              "Based on https://www.16personalities.com/free-personality-test</th><th scope=col>Even when you have planned a particular daily routine, you usually just end up doing what you feel like at any given moment.Your response should be a decimal number from 1 (strongly disagree) to 10 (strongly agree), for example 3.8\r\n",
              "Based on https://www.16personalities.com/free-personality-test</th><th scope=col>Your mood can change very quickly.Your response should be a decimal number from 1 (strongly disagree) to 10 (strongly agree), for example 3.8\r\n",
              "Based on https://www.16personalities.com/free-personality-test</th><th scope=col>You often contemplate the reasons for human existence or the meaning of life.Your response should be a decimal number from 1 (strongly disagree) to 10 (strongly agree), for example 3.8\r\n",
              "Based on https://www.16personalities.com/free-personality-test</th><th scope=col>You often talk about your own feelings and emotions.\r\n",
              "Your response should be a decimal number from 1 (strongly disagree) to 10 (strongly agree), for example 3.8\r\n",
              "Based on https://www.16personalities.com/free-personality-test</th><th scope=col>You rarely dwell on your regrets.Your response should be a decimal number from 1 (strongly disagree) to 10 (strongly agree), for example 3.8\r\n",
              "Based on https://www.16personalities.com/free-personality-test</th><th scope=col>You see yourself as more of a realist than a visionary.\r\n",
              "Your response should be a decimal number from 1 (strongly disagree) to 10 (strongly agree), for example 3.8\r\n",
              "Based on https://www.16personalities.com/free-personality-test</th><th scope=col>You find it easy to empathize with a person who has gone through something you never have.Your response should be a decimal number from 1 (strongly disagree) to 10 (strongly agree), for example 3.8\r\n",
              "Based on https://www.16personalities.com/free-personality-test</th><th scope=col>Your emotions control you more than you control them.Your response should be a decimal number from 1 (strongly disagree) to 10 (strongly agree), for example 3.8\r\n",
              "Based on https://www.16personalities.com/free-personality-test</th><th scope=col>You rarely feel insecure.Your response should be a decimal number from 1 (strongly disagree) to 10 (strongly agree), for example 3.8\r\n",
              "Based on https://www.16personalities.com/free-personality-test</th></tr>\n",
              "\t<tr><th></th><th scope=col>&lt;chr&gt;</th><th scope=col>&lt;chr&gt;</th><th scope=col>&lt;chr&gt;</th><th scope=col>&lt;chr&gt;</th><th scope=col>&lt;chr&gt;</th><th scope=col>&lt;chr&gt;</th><th scope=col>&lt;chr&gt;</th><th scope=col>&lt;chr&gt;</th><th scope=col>&lt;chr&gt;</th><th scope=col>&lt;chr&gt;</th><th scope=col>⋯</th><th scope=col>&lt;chr&gt;</th><th scope=col>&lt;chr&gt;</th><th scope=col>&lt;chr&gt;</th><th scope=col>&lt;chr&gt;</th><th scope=col>&lt;chr&gt;</th><th scope=col>&lt;chr&gt;</th><th scope=col>&lt;chr&gt;</th><th scope=col>&lt;chr&gt;</th><th scope=col>&lt;chr&gt;</th><th scope=col>&lt;chr&gt;</th></tr>\n",
              "</thead>\n",
              "<tbody>\n",
              "\t<tr><th scope=row>55</th><td>Venkat                </td><td>8.5    </td><td>6.5    </td><td>6.4    </td><td>4.5    </td><td>7.2    </td><td>5.5    </td><td>4.3    </td><td>7.3    </td><td>7.7    </td><td>⋯</td><td>8.6    </td><td>8.7    </td><td>9.9    </td><td>7.5    </td><td>7.3    </td><td>1.4    </td><td>7.3    </td><td>2.4    </td><td>5.7    </td><td>5.5    </td></tr>\n",
              "\t<tr><th scope=row>56</th><td>Venkata sai Medidaraju</td><td>9.9    </td><td>9.5    </td><td>8.9    </td><td>9.5    </td><td>9.9    </td><td>6.1    </td><td>7.1    </td><td>7.5    </td><td>5.9    </td><td>⋯</td><td>9.9    </td><td>7.5    </td><td>5.5    </td><td>6.1    </td><td>7.5    </td><td>5.5    </td><td>7.9    </td><td>5.5    </td><td>4.5    </td><td>0.1    </td></tr>\n",
              "\t<tr><th scope=row>57</th><td>vrushabh              </td><td>5.4    </td><td>5.1    </td><td>4.3    </td><td>9.1    </td><td>4.9    </td><td>1.1    </td><td>1.4    </td><td>2.5    </td><td>7.2    </td><td>⋯</td><td>3.9    </td><td>1.5    </td><td>9.1    </td><td>5.7    </td><td>3.5    </td><td>3.9    </td><td>2.4    </td><td>2.5    </td><td>1.5    </td><td>2.6    </td></tr>\n",
              "\t<tr><th scope=row>58</th><td>Wenbo,Yu              </td><td>1      </td><td>8      </td><td>10     </td><td>10     </td><td>9      </td><td>3      </td><td>10     </td><td>10     </td><td>1      </td><td>⋯</td><td>10     </td><td>10     </td><td>10     </td><td>10     </td><td>10     </td><td>1      </td><td>1      </td><td>10     </td><td>10     </td><td>1      </td></tr>\n",
              "\t<tr><th scope=row>59</th><td>Zeki Tekin            </td><td>5.4    </td><td>6.2    </td><td>8.4    </td><td>3.4    </td><td>3.2    </td><td>5.1    </td><td>6.2    </td><td>9.2    </td><td>6.2    </td><td>⋯</td><td>6.7    </td><td>1.4    </td><td>1.7    </td><td>8.9    </td><td>1.5    </td><td>4.6    </td><td>5.2    </td><td>6.3    </td><td>1.7    </td><td>8.2    </td></tr>\n",
              "\t<tr><th scope=row>60</th><td>NA                    </td><td>1 point</td><td>1 point</td><td>1 point</td><td>1 point</td><td>1 point</td><td>1 point</td><td>1 point</td><td>1 point</td><td>1 point</td><td>⋯</td><td>1 point</td><td>1 point</td><td>1 point</td><td>1 point</td><td>1 point</td><td>1 point</td><td>1 point</td><td>1 point</td><td>1 point</td><td>1 point</td></tr>\n",
              "</tbody>\n",
              "</table>\n"
            ],
            "text/markdown": "\nA data.frame: 6 × 52\n\n| <!--/--> | Student Name &lt;chr&gt; | You enjoy vibrant social events with lots of peopleYour response should be a decimal number from 1 (strongly disagree) to 10 (strongly agree), for example 3.8\r\nBased on https://www.16personalities.com/free-personality-test &lt;chr&gt; | You often spend time exploring unrealistic yet intriguing ideas.Your response should be a decimal number from 1 (strongly disagree) to 10 (strongly agree), for example 3.8\r\nBased on https://www.16personalities.com/free-personality-test &lt;chr&gt; | Your travel plans are more likely to look like a rough list of ideas than a detailed itinerary.Your response should be a decimal number from 1 (strongly disagree) to 10 (strongly agree), for example 3.8\r\nBased on https://www.16personalities.com/free-personality-test &lt;chr&gt; | You often think about what you should have said in a conversation long after it has taken place.Your response should be a decimal number from 1 (strongly disagree) to 10 (strongly agree), for example 3.8\r\nBased on https://www.16personalities.com/free-personality-test &lt;chr&gt; | If your friend is sad about something, your first instinct is to support them emotionally, not try to solve their problem.Your response should be a decimal number from 1 (strongly disagree) to 10 (strongly agree), for example 3.8\r\nBased on https://www.16personalities.com/free-personality-test &lt;chr&gt; | People can rarely upset you.Your response should be a decimal number from 1 (strongly disagree) to 10 (strongly agree), for example 3.8\r\nBased on https://www.16personalities.com/free-personality-test &lt;chr&gt; | You often rely on other people to be the ones to start a conversation and keep it going.Your response should be a decimal number from 1 (strongly disagree) to 10 (strongly agree), for example 3.8\r\nBased on https://www.16personalities.com/free-personality-test &lt;chr&gt; | If you have to temporarily put your plans on hold, you make sure it is your top priority to get back on track as soon as possible.Your response should be a decimal number from 1 (strongly disagree) to 10 (strongly agree), for example 3.8\r\nBased on https://www.16personalities.com/free-personality-test &lt;chr&gt; | You rarely worry if you made a good impression on someone you met.Your response should be a decimal number from 1 (strongly disagree) to 10 (strongly agree), for example 3.8\r\nBased on https://www.16personalities.com/free-personality-test &lt;chr&gt; | ⋯ ⋯ | You feel comfortable just walking up to someone you find interesting and striking up a conversation.Your response should be a decimal number from 1 (strongly disagree) to 10 (strongly agree), for example 3.8\r\nBased on https://www.16personalities.com/free-personality-test &lt;chr&gt; | Even when you have planned a particular daily routine, you usually just end up doing what you feel like at any given moment.Your response should be a decimal number from 1 (strongly disagree) to 10 (strongly agree), for example 3.8\r\nBased on https://www.16personalities.com/free-personality-test &lt;chr&gt; | Your mood can change very quickly.Your response should be a decimal number from 1 (strongly disagree) to 10 (strongly agree), for example 3.8\r\nBased on https://www.16personalities.com/free-personality-test &lt;chr&gt; | You often contemplate the reasons for human existence or the meaning of life.Your response should be a decimal number from 1 (strongly disagree) to 10 (strongly agree), for example 3.8\r\nBased on https://www.16personalities.com/free-personality-test &lt;chr&gt; | You often talk about your own feelings and emotions.\r\nYour response should be a decimal number from 1 (strongly disagree) to 10 (strongly agree), for example 3.8\r\nBased on https://www.16personalities.com/free-personality-test &lt;chr&gt; | You rarely dwell on your regrets.Your response should be a decimal number from 1 (strongly disagree) to 10 (strongly agree), for example 3.8\r\nBased on https://www.16personalities.com/free-personality-test &lt;chr&gt; | You see yourself as more of a realist than a visionary.\r\nYour response should be a decimal number from 1 (strongly disagree) to 10 (strongly agree), for example 3.8\r\nBased on https://www.16personalities.com/free-personality-test &lt;chr&gt; | You find it easy to empathize with a person who has gone through something you never have.Your response should be a decimal number from 1 (strongly disagree) to 10 (strongly agree), for example 3.8\r\nBased on https://www.16personalities.com/free-personality-test &lt;chr&gt; | Your emotions control you more than you control them.Your response should be a decimal number from 1 (strongly disagree) to 10 (strongly agree), for example 3.8\r\nBased on https://www.16personalities.com/free-personality-test &lt;chr&gt; | You rarely feel insecure.Your response should be a decimal number from 1 (strongly disagree) to 10 (strongly agree), for example 3.8\r\nBased on https://www.16personalities.com/free-personality-test &lt;chr&gt; |\n|---|---|---|---|---|---|---|---|---|---|---|---|---|---|---|---|---|---|---|---|---|---|\n| 55 | Venkat                 | 8.5     | 6.5     | 6.4     | 4.5     | 7.2     | 5.5     | 4.3     | 7.3     | 7.7     | ⋯ | 8.6     | 8.7     | 9.9     | 7.5     | 7.3     | 1.4     | 7.3     | 2.4     | 5.7     | 5.5     |\n| 56 | Venkata sai Medidaraju | 9.9     | 9.5     | 8.9     | 9.5     | 9.9     | 6.1     | 7.1     | 7.5     | 5.9     | ⋯ | 9.9     | 7.5     | 5.5     | 6.1     | 7.5     | 5.5     | 7.9     | 5.5     | 4.5     | 0.1     |\n| 57 | vrushabh               | 5.4     | 5.1     | 4.3     | 9.1     | 4.9     | 1.1     | 1.4     | 2.5     | 7.2     | ⋯ | 3.9     | 1.5     | 9.1     | 5.7     | 3.5     | 3.9     | 2.4     | 2.5     | 1.5     | 2.6     |\n| 58 | Wenbo,Yu               | 1       | 8       | 10      | 10      | 9       | 3       | 10      | 10      | 1       | ⋯ | 10      | 10      | 10      | 10      | 10      | 1       | 1       | 10      | 10      | 1       |\n| 59 | Zeki Tekin             | 5.4     | 6.2     | 8.4     | 3.4     | 3.2     | 5.1     | 6.2     | 9.2     | 6.2     | ⋯ | 6.7     | 1.4     | 1.7     | 8.9     | 1.5     | 4.6     | 5.2     | 6.3     | 1.7     | 8.2     |\n| 60 | NA                     | 1 point | 1 point | 1 point | 1 point | 1 point | 1 point | 1 point | 1 point | 1 point | ⋯ | 1 point | 1 point | 1 point | 1 point | 1 point | 1 point | 1 point | 1 point | 1 point | 1 point |\n\n",
            "text/latex": "A data.frame: 6 × 52\n\\begin{tabular}{r|lllllllllllllllllllll}\n  & Student Name & You enjoy vibrant social events with lots of peopleYour response should be a decimal number from 1 (strongly disagree) to 10 (strongly agree), for example 3.8\r\nBased on https://www.16personalities.com/free-personality-test & You often spend time exploring unrealistic yet intriguing ideas.Your response should be a decimal number from 1 (strongly disagree) to 10 (strongly agree), for example 3.8\r\nBased on https://www.16personalities.com/free-personality-test & Your travel plans are more likely to look like a rough list of ideas than a detailed itinerary.Your response should be a decimal number from 1 (strongly disagree) to 10 (strongly agree), for example 3.8\r\nBased on https://www.16personalities.com/free-personality-test & You often think about what you should have said in a conversation long after it has taken place.Your response should be a decimal number from 1 (strongly disagree) to 10 (strongly agree), for example 3.8\r\nBased on https://www.16personalities.com/free-personality-test & If your friend is sad about something, your first instinct is to support them emotionally, not try to solve their problem.Your response should be a decimal number from 1 (strongly disagree) to 10 (strongly agree), for example 3.8\r\nBased on https://www.16personalities.com/free-personality-test & People can rarely upset you.Your response should be a decimal number from 1 (strongly disagree) to 10 (strongly agree), for example 3.8\r\nBased on https://www.16personalities.com/free-personality-test & You often rely on other people to be the ones to start a conversation and keep it going.Your response should be a decimal number from 1 (strongly disagree) to 10 (strongly agree), for example 3.8\r\nBased on https://www.16personalities.com/free-personality-test & If you have to temporarily put your plans on hold, you make sure it is your top priority to get back on track as soon as possible.Your response should be a decimal number from 1 (strongly disagree) to 10 (strongly agree), for example 3.8\r\nBased on https://www.16personalities.com/free-personality-test & You rarely worry if you made a good impression on someone you met.Your response should be a decimal number from 1 (strongly disagree) to 10 (strongly agree), for example 3.8\r\nBased on https://www.16personalities.com/free-personality-test & ⋯ & You feel comfortable just walking up to someone you find interesting and striking up a conversation.Your response should be a decimal number from 1 (strongly disagree) to 10 (strongly agree), for example 3.8\r\nBased on https://www.16personalities.com/free-personality-test & Even when you have planned a particular daily routine, you usually just end up doing what you feel like at any given moment.Your response should be a decimal number from 1 (strongly disagree) to 10 (strongly agree), for example 3.8\r\nBased on https://www.16personalities.com/free-personality-test & Your mood can change very quickly.Your response should be a decimal number from 1 (strongly disagree) to 10 (strongly agree), for example 3.8\r\nBased on https://www.16personalities.com/free-personality-test & You often contemplate the reasons for human existence or the meaning of life.Your response should be a decimal number from 1 (strongly disagree) to 10 (strongly agree), for example 3.8\r\nBased on https://www.16personalities.com/free-personality-test & You often talk about your own feelings and emotions.\r\nYour response should be a decimal number from 1 (strongly disagree) to 10 (strongly agree), for example 3.8\r\nBased on https://www.16personalities.com/free-personality-test & You rarely dwell on your regrets.Your response should be a decimal number from 1 (strongly disagree) to 10 (strongly agree), for example 3.8\r\nBased on https://www.16personalities.com/free-personality-test & You see yourself as more of a realist than a visionary.\r\nYour response should be a decimal number from 1 (strongly disagree) to 10 (strongly agree), for example 3.8\r\nBased on https://www.16personalities.com/free-personality-test & You find it easy to empathize with a person who has gone through something you never have.Your response should be a decimal number from 1 (strongly disagree) to 10 (strongly agree), for example 3.8\r\nBased on https://www.16personalities.com/free-personality-test & Your emotions control you more than you control them.Your response should be a decimal number from 1 (strongly disagree) to 10 (strongly agree), for example 3.8\r\nBased on https://www.16personalities.com/free-personality-test & You rarely feel insecure.Your response should be a decimal number from 1 (strongly disagree) to 10 (strongly agree), for example 3.8\r\nBased on https://www.16personalities.com/free-personality-test\\\\\n  & <chr> & <chr> & <chr> & <chr> & <chr> & <chr> & <chr> & <chr> & <chr> & <chr> & ⋯ & <chr> & <chr> & <chr> & <chr> & <chr> & <chr> & <chr> & <chr> & <chr> & <chr>\\\\\n\\hline\n\t55 & Venkat                 & 8.5     & 6.5     & 6.4     & 4.5     & 7.2     & 5.5     & 4.3     & 7.3     & 7.7     & ⋯ & 8.6     & 8.7     & 9.9     & 7.5     & 7.3     & 1.4     & 7.3     & 2.4     & 5.7     & 5.5    \\\\\n\t56 & Venkata sai Medidaraju & 9.9     & 9.5     & 8.9     & 9.5     & 9.9     & 6.1     & 7.1     & 7.5     & 5.9     & ⋯ & 9.9     & 7.5     & 5.5     & 6.1     & 7.5     & 5.5     & 7.9     & 5.5     & 4.5     & 0.1    \\\\\n\t57 & vrushabh               & 5.4     & 5.1     & 4.3     & 9.1     & 4.9     & 1.1     & 1.4     & 2.5     & 7.2     & ⋯ & 3.9     & 1.5     & 9.1     & 5.7     & 3.5     & 3.9     & 2.4     & 2.5     & 1.5     & 2.6    \\\\\n\t58 & Wenbo,Yu               & 1       & 8       & 10      & 10      & 9       & 3       & 10      & 10      & 1       & ⋯ & 10      & 10      & 10      & 10      & 10      & 1       & 1       & 10      & 10      & 1      \\\\\n\t59 & Zeki Tekin             & 5.4     & 6.2     & 8.4     & 3.4     & 3.2     & 5.1     & 6.2     & 9.2     & 6.2     & ⋯ & 6.7     & 1.4     & 1.7     & 8.9     & 1.5     & 4.6     & 5.2     & 6.3     & 1.7     & 8.2    \\\\\n\t60 & NA                     & 1 point & 1 point & 1 point & 1 point & 1 point & 1 point & 1 point & 1 point & 1 point & ⋯ & 1 point & 1 point & 1 point & 1 point & 1 point & 1 point & 1 point & 1 point & 1 point & 1 point\\\\\n\\end{tabular}\n",
            "text/plain": [
              "   Student Name          \n",
              "55 Venkat                \n",
              "56 Venkata sai Medidaraju\n",
              "57 vrushabh              \n",
              "58 Wenbo,Yu              \n",
              "59 Zeki Tekin            \n",
              "60 NA                    \n",
              "   You enjoy vibrant social events with lots of peopleYour response should be a decimal number from 1 (strongly disagree) to 10 (strongly agree), for example 3.8\\r\\nBased on https://www.16personalities.com/free-personality-test\n",
              "55 8.5                                                                                                                                                                                                                             \n",
              "56 9.9                                                                                                                                                                                                                             \n",
              "57 5.4                                                                                                                                                                                                                             \n",
              "58 1                                                                                                                                                                                                                               \n",
              "59 5.4                                                                                                                                                                                                                             \n",
              "60 1 point                                                                                                                                                                                                                         \n",
              "   You often spend time exploring unrealistic yet intriguing ideas.Your response should be a decimal number from 1 (strongly disagree) to 10 (strongly agree), for example 3.8\\r\\nBased on https://www.16personalities.com/free-personality-test\n",
              "55 6.5                                                                                                                                                                                                                                          \n",
              "56 9.5                                                                                                                                                                                                                                          \n",
              "57 5.1                                                                                                                                                                                                                                          \n",
              "58 8                                                                                                                                                                                                                                            \n",
              "59 6.2                                                                                                                                                                                                                                          \n",
              "60 1 point                                                                                                                                                                                                                                      \n",
              "   Your travel plans are more likely to look like a rough list of ideas than a detailed itinerary.Your response should be a decimal number from 1 (strongly disagree) to 10 (strongly agree), for example 3.8\\r\\nBased on https://www.16personalities.com/free-personality-test\n",
              "55 6.4                                                                                                                                                                                                                                                                         \n",
              "56 8.9                                                                                                                                                                                                                                                                         \n",
              "57 4.3                                                                                                                                                                                                                                                                         \n",
              "58 10                                                                                                                                                                                                                                                                          \n",
              "59 8.4                                                                                                                                                                                                                                                                         \n",
              "60 1 point                                                                                                                                                                                                                                                                     \n",
              "   You often think about what you should have said in a conversation long after it has taken place.Your response should be a decimal number from 1 (strongly disagree) to 10 (strongly agree), for example 3.8\\r\\nBased on https://www.16personalities.com/free-personality-test\n",
              "55 4.5                                                                                                                                                                                                                                                                          \n",
              "56 9.5                                                                                                                                                                                                                                                                          \n",
              "57 9.1                                                                                                                                                                                                                                                                          \n",
              "58 10                                                                                                                                                                                                                                                                           \n",
              "59 3.4                                                                                                                                                                                                                                                                          \n",
              "60 1 point                                                                                                                                                                                                                                                                      \n",
              "   If your friend is sad about something, your first instinct is to support them emotionally, not try to solve their problem.Your response should be a decimal number from 1 (strongly disagree) to 10 (strongly agree), for example 3.8\\r\\nBased on https://www.16personalities.com/free-personality-test\n",
              "55 7.2                                                                                                                                                                                                                                                                                                    \n",
              "56 9.9                                                                                                                                                                                                                                                                                                    \n",
              "57 4.9                                                                                                                                                                                                                                                                                                    \n",
              "58 9                                                                                                                                                                                                                                                                                                      \n",
              "59 3.2                                                                                                                                                                                                                                                                                                    \n",
              "60 1 point                                                                                                                                                                                                                                                                                                \n",
              "   People can rarely upset you.Your response should be a decimal number from 1 (strongly disagree) to 10 (strongly agree), for example 3.8\\r\\nBased on https://www.16personalities.com/free-personality-test\n",
              "55 5.5                                                                                                                                                                                                      \n",
              "56 6.1                                                                                                                                                                                                      \n",
              "57 1.1                                                                                                                                                                                                      \n",
              "58 3                                                                                                                                                                                                        \n",
              "59 5.1                                                                                                                                                                                                      \n",
              "60 1 point                                                                                                                                                                                                  \n",
              "   You often rely on other people to be the ones to start a conversation and keep it going.Your response should be a decimal number from 1 (strongly disagree) to 10 (strongly agree), for example 3.8\\r\\nBased on https://www.16personalities.com/free-personality-test\n",
              "55 4.3                                                                                                                                                                                                                                                                  \n",
              "56 7.1                                                                                                                                                                                                                                                                  \n",
              "57 1.4                                                                                                                                                                                                                                                                  \n",
              "58 10                                                                                                                                                                                                                                                                   \n",
              "59 6.2                                                                                                                                                                                                                                                                  \n",
              "60 1 point                                                                                                                                                                                                                                                              \n",
              "   If you have to temporarily put your plans on hold, you make sure it is your top priority to get back on track as soon as possible.Your response should be a decimal number from 1 (strongly disagree) to 10 (strongly agree), for example 3.8\\r\\nBased on https://www.16personalities.com/free-personality-test\n",
              "55 7.3                                                                                                                                                                                                                                                                                                            \n",
              "56 7.5                                                                                                                                                                                                                                                                                                            \n",
              "57 2.5                                                                                                                                                                                                                                                                                                            \n",
              "58 10                                                                                                                                                                                                                                                                                                             \n",
              "59 9.2                                                                                                                                                                                                                                                                                                            \n",
              "60 1 point                                                                                                                                                                                                                                                                                                        \n",
              "   You rarely worry if you made a good impression on someone you met.Your response should be a decimal number from 1 (strongly disagree) to 10 (strongly agree), for example 3.8\\r\\nBased on https://www.16personalities.com/free-personality-test\n",
              "55 7.7                                                                                                                                                                                                                                            \n",
              "56 5.9                                                                                                                                                                                                                                            \n",
              "57 7.2                                                                                                                                                                                                                                            \n",
              "58 1                                                                                                                                                                                                                                              \n",
              "59 6.2                                                                                                                                                                                                                                            \n",
              "60 1 point                                                                                                                                                                                                                                        \n",
              "   ⋯\n",
              "55 ⋯\n",
              "56 ⋯\n",
              "57 ⋯\n",
              "58 ⋯\n",
              "59 ⋯\n",
              "60 ⋯\n",
              "   You feel comfortable just walking up to someone you find interesting and striking up a conversation.Your response should be a decimal number from 1 (strongly disagree) to 10 (strongly agree), for example 3.8\\r\\nBased on https://www.16personalities.com/free-personality-test\n",
              "55 8.6                                                                                                                                                                                                                                                                              \n",
              "56 9.9                                                                                                                                                                                                                                                                              \n",
              "57 3.9                                                                                                                                                                                                                                                                              \n",
              "58 10                                                                                                                                                                                                                                                                               \n",
              "59 6.7                                                                                                                                                                                                                                                                              \n",
              "60 1 point                                                                                                                                                                                                                                                                          \n",
              "   Even when you have planned a particular daily routine, you usually just end up doing what you feel like at any given moment.Your response should be a decimal number from 1 (strongly disagree) to 10 (strongly agree), for example 3.8\\r\\nBased on https://www.16personalities.com/free-personality-test\n",
              "55 8.7                                                                                                                                                                                                                                                                                                      \n",
              "56 7.5                                                                                                                                                                                                                                                                                                      \n",
              "57 1.5                                                                                                                                                                                                                                                                                                      \n",
              "58 10                                                                                                                                                                                                                                                                                                       \n",
              "59 1.4                                                                                                                                                                                                                                                                                                      \n",
              "60 1 point                                                                                                                                                                                                                                                                                                  \n",
              "   Your mood can change very quickly.Your response should be a decimal number from 1 (strongly disagree) to 10 (strongly agree), for example 3.8\\r\\nBased on https://www.16personalities.com/free-personality-test\n",
              "55 9.9                                                                                                                                                                                                            \n",
              "56 5.5                                                                                                                                                                                                            \n",
              "57 9.1                                                                                                                                                                                                            \n",
              "58 10                                                                                                                                                                                                             \n",
              "59 1.7                                                                                                                                                                                                            \n",
              "60 1 point                                                                                                                                                                                                        \n",
              "   You often contemplate the reasons for human existence or the meaning of life.Your response should be a decimal number from 1 (strongly disagree) to 10 (strongly agree), for example 3.8\\r\\nBased on https://www.16personalities.com/free-personality-test\n",
              "55 7.5                                                                                                                                                                                                                                                       \n",
              "56 6.1                                                                                                                                                                                                                                                       \n",
              "57 5.7                                                                                                                                                                                                                                                       \n",
              "58 10                                                                                                                                                                                                                                                        \n",
              "59 8.9                                                                                                                                                                                                                                                       \n",
              "60 1 point                                                                                                                                                                                                                                                   \n",
              "   You often talk about your own feelings and emotions.\\r\\nYour response should be a decimal number from 1 (strongly disagree) to 10 (strongly agree), for example 3.8\\r\\nBased on https://www.16personalities.com/free-personality-test\n",
              "55 7.3                                                                                                                                                                                                                                  \n",
              "56 7.5                                                                                                                                                                                                                                  \n",
              "57 3.5                                                                                                                                                                                                                                  \n",
              "58 10                                                                                                                                                                                                                                   \n",
              "59 1.5                                                                                                                                                                                                                                  \n",
              "60 1 point                                                                                                                                                                                                                              \n",
              "   You rarely dwell on your regrets.Your response should be a decimal number from 1 (strongly disagree) to 10 (strongly agree), for example 3.8\\r\\nBased on https://www.16personalities.com/free-personality-test\n",
              "55 1.4                                                                                                                                                                                                           \n",
              "56 5.5                                                                                                                                                                                                           \n",
              "57 3.9                                                                                                                                                                                                           \n",
              "58 1                                                                                                                                                                                                             \n",
              "59 4.6                                                                                                                                                                                                           \n",
              "60 1 point                                                                                                                                                                                                       \n",
              "   You see yourself as more of a realist than a visionary.\\r\\nYour response should be a decimal number from 1 (strongly disagree) to 10 (strongly agree), for example 3.8\\r\\nBased on https://www.16personalities.com/free-personality-test\n",
              "55 7.3                                                                                                                                                                                                                                     \n",
              "56 7.9                                                                                                                                                                                                                                     \n",
              "57 2.4                                                                                                                                                                                                                                     \n",
              "58 1                                                                                                                                                                                                                                       \n",
              "59 5.2                                                                                                                                                                                                                                     \n",
              "60 1 point                                                                                                                                                                                                                                 \n",
              "   You find it easy to empathize with a person who has gone through something you never have.Your response should be a decimal number from 1 (strongly disagree) to 10 (strongly agree), for example 3.8\\r\\nBased on https://www.16personalities.com/free-personality-test\n",
              "55 2.4                                                                                                                                                                                                                                                                    \n",
              "56 5.5                                                                                                                                                                                                                                                                    \n",
              "57 2.5                                                                                                                                                                                                                                                                    \n",
              "58 10                                                                                                                                                                                                                                                                     \n",
              "59 6.3                                                                                                                                                                                                                                                                    \n",
              "60 1 point                                                                                                                                                                                                                                                                \n",
              "   Your emotions control you more than you control them.Your response should be a decimal number from 1 (strongly disagree) to 10 (strongly agree), for example 3.8\\r\\nBased on https://www.16personalities.com/free-personality-test\n",
              "55 5.7                                                                                                                                                                                                                               \n",
              "56 4.5                                                                                                                                                                                                                               \n",
              "57 1.5                                                                                                                                                                                                                               \n",
              "58 10                                                                                                                                                                                                                                \n",
              "59 1.7                                                                                                                                                                                                                               \n",
              "60 1 point                                                                                                                                                                                                                           \n",
              "   You rarely feel insecure.Your response should be a decimal number from 1 (strongly disagree) to 10 (strongly agree), for example 3.8\\r\\nBased on https://www.16personalities.com/free-personality-test\n",
              "55 5.5                                                                                                                                                                                                   \n",
              "56 0.1                                                                                                                                                                                                   \n",
              "57 2.6                                                                                                                                                                                                   \n",
              "58 1                                                                                                                                                                                                     \n",
              "59 8.2                                                                                                                                                                                                   \n",
              "60 1 point                                                                                                                                                                                               "
            ]
          },
          "metadata": {}
        }
      ]
    },
    {
      "cell_type": "code",
      "source": [
        "nrow(data_merged)"
      ],
      "metadata": {
        "colab": {
          "base_uri": "https://localhost:8080/",
          "height": 34
        },
        "id": "oJhRADeA9xVO",
        "outputId": "eec0d73d-3415-4c16-b22c-0fe693b375b8"
      },
      "execution_count": null,
      "outputs": [
        {
          "output_type": "display_data",
          "data": {
            "text/html": [
              "60"
            ],
            "text/markdown": "60",
            "text/latex": "60",
            "text/plain": [
              "[1] 60"
            ]
          },
          "metadata": {}
        }
      ]
    },
    {
      "cell_type": "markdown",
      "source": [
        "## Data exploration \n"
      ],
      "metadata": {
        "id": "7jr7qOyiHe07"
      }
    },
    {
      "cell_type": "markdown",
      "source": [
        "\n",
        "Data cleaning"
      ],
      "metadata": {
        "id": "SYBQeS4cHizV"
      }
    },
    {
      "cell_type": "markdown",
      "source": [
        "first I removed 60 number row which is not useful in data "
      ],
      "metadata": {
        "id": "cvq6fKnM_bhg"
      }
    },
    {
      "cell_type": "code",
      "source": [
        "data <- data_merged[-c(60),]"
      ],
      "metadata": {
        "id": "o4JMqnZD_NrL"
      },
      "execution_count": null,
      "outputs": []
    },
    {
      "cell_type": "code",
      "source": [
        "head(data)"
      ],
      "metadata": {
        "colab": {
          "base_uri": "https://localhost:8080/",
          "height": 549
        },
        "id": "CTBSDAZzIYG0",
        "outputId": "9d93ca0b-1693-4441-a3e3-7cbd2242b27d"
      },
      "execution_count": null,
      "outputs": [
        {
          "output_type": "display_data",
          "data": {
            "text/html": [
              "<table class=\"dataframe\">\n",
              "<caption>A data.frame: 6 × 52</caption>\n",
              "<thead>\n",
              "\t<tr><th></th><th scope=col>Student Name</th><th scope=col>You enjoy vibrant social events with lots of peopleYour response should be a decimal number from 1 (strongly disagree) to 10 (strongly agree), for example 3.8\r\n",
              "Based on https://www.16personalities.com/free-personality-test</th><th scope=col>You often spend time exploring unrealistic yet intriguing ideas.Your response should be a decimal number from 1 (strongly disagree) to 10 (strongly agree), for example 3.8\r\n",
              "Based on https://www.16personalities.com/free-personality-test</th><th scope=col>Your travel plans are more likely to look like a rough list of ideas than a detailed itinerary.Your response should be a decimal number from 1 (strongly disagree) to 10 (strongly agree), for example 3.8\r\n",
              "Based on https://www.16personalities.com/free-personality-test</th><th scope=col>You often think about what you should have said in a conversation long after it has taken place.Your response should be a decimal number from 1 (strongly disagree) to 10 (strongly agree), for example 3.8\r\n",
              "Based on https://www.16personalities.com/free-personality-test</th><th scope=col>If your friend is sad about something, your first instinct is to support them emotionally, not try to solve their problem.Your response should be a decimal number from 1 (strongly disagree) to 10 (strongly agree), for example 3.8\r\n",
              "Based on https://www.16personalities.com/free-personality-test</th><th scope=col>People can rarely upset you.Your response should be a decimal number from 1 (strongly disagree) to 10 (strongly agree), for example 3.8\r\n",
              "Based on https://www.16personalities.com/free-personality-test</th><th scope=col>You often rely on other people to be the ones to start a conversation and keep it going.Your response should be a decimal number from 1 (strongly disagree) to 10 (strongly agree), for example 3.8\r\n",
              "Based on https://www.16personalities.com/free-personality-test</th><th scope=col>If you have to temporarily put your plans on hold, you make sure it is your top priority to get back on track as soon as possible.Your response should be a decimal number from 1 (strongly disagree) to 10 (strongly agree), for example 3.8\r\n",
              "Based on https://www.16personalities.com/free-personality-test</th><th scope=col>You rarely worry if you made a good impression on someone you met.Your response should be a decimal number from 1 (strongly disagree) to 10 (strongly agree), for example 3.8\r\n",
              "Based on https://www.16personalities.com/free-personality-test</th><th scope=col>⋯</th><th scope=col>You feel comfortable just walking up to someone you find interesting and striking up a conversation.Your response should be a decimal number from 1 (strongly disagree) to 10 (strongly agree), for example 3.8\r\n",
              "Based on https://www.16personalities.com/free-personality-test</th><th scope=col>Even when you have planned a particular daily routine, you usually just end up doing what you feel like at any given moment.Your response should be a decimal number from 1 (strongly disagree) to 10 (strongly agree), for example 3.8\r\n",
              "Based on https://www.16personalities.com/free-personality-test</th><th scope=col>Your mood can change very quickly.Your response should be a decimal number from 1 (strongly disagree) to 10 (strongly agree), for example 3.8\r\n",
              "Based on https://www.16personalities.com/free-personality-test</th><th scope=col>You often contemplate the reasons for human existence or the meaning of life.Your response should be a decimal number from 1 (strongly disagree) to 10 (strongly agree), for example 3.8\r\n",
              "Based on https://www.16personalities.com/free-personality-test</th><th scope=col>You often talk about your own feelings and emotions.\r\n",
              "Your response should be a decimal number from 1 (strongly disagree) to 10 (strongly agree), for example 3.8\r\n",
              "Based on https://www.16personalities.com/free-personality-test</th><th scope=col>You rarely dwell on your regrets.Your response should be a decimal number from 1 (strongly disagree) to 10 (strongly agree), for example 3.8\r\n",
              "Based on https://www.16personalities.com/free-personality-test</th><th scope=col>You see yourself as more of a realist than a visionary.\r\n",
              "Your response should be a decimal number from 1 (strongly disagree) to 10 (strongly agree), for example 3.8\r\n",
              "Based on https://www.16personalities.com/free-personality-test</th><th scope=col>You find it easy to empathize with a person who has gone through something you never have.Your response should be a decimal number from 1 (strongly disagree) to 10 (strongly agree), for example 3.8\r\n",
              "Based on https://www.16personalities.com/free-personality-test</th><th scope=col>Your emotions control you more than you control them.Your response should be a decimal number from 1 (strongly disagree) to 10 (strongly agree), for example 3.8\r\n",
              "Based on https://www.16personalities.com/free-personality-test</th><th scope=col>You rarely feel insecure.Your response should be a decimal number from 1 (strongly disagree) to 10 (strongly agree), for example 3.8\r\n",
              "Based on https://www.16personalities.com/free-personality-test</th></tr>\n",
              "\t<tr><th></th><th scope=col>&lt;chr&gt;</th><th scope=col>&lt;chr&gt;</th><th scope=col>&lt;chr&gt;</th><th scope=col>&lt;chr&gt;</th><th scope=col>&lt;chr&gt;</th><th scope=col>&lt;chr&gt;</th><th scope=col>&lt;chr&gt;</th><th scope=col>&lt;chr&gt;</th><th scope=col>&lt;chr&gt;</th><th scope=col>&lt;chr&gt;</th><th scope=col>⋯</th><th scope=col>&lt;chr&gt;</th><th scope=col>&lt;chr&gt;</th><th scope=col>&lt;chr&gt;</th><th scope=col>&lt;chr&gt;</th><th scope=col>&lt;chr&gt;</th><th scope=col>&lt;chr&gt;</th><th scope=col>&lt;chr&gt;</th><th scope=col>&lt;chr&gt;</th><th scope=col>&lt;chr&gt;</th><th scope=col>&lt;chr&gt;</th></tr>\n",
              "</thead>\n",
              "<tbody>\n",
              "\t<tr><th scope=row>1</th><td>AdArSh BaYyA    </td><td>9.99</td><td>9.99   </td><td>4.2</td><td>9.99</td><td>9  </td><td>0.9</td><td>8.15</td><td>8.1</td><td>0.2</td><td>⋯</td><td>NA </td><td>NA </td><td>NA </td><td>NA  </td><td>NA  </td><td>NA   </td><td>NA </td><td>NA </td><td>NA </td><td>NA  </td></tr>\n",
              "\t<tr><th scope=row>2</th><td>Ali Khalilli    </td><td>5   </td><td>6      </td><td>2  </td><td>4   </td><td>2  </td><td>8  </td><td>4   </td><td>8  </td><td>5  </td><td>⋯</td><td>2  </td><td>4  </td><td>8  </td><td>10  </td><td>3   </td><td>5    </td><td>5  </td><td>8  </td><td>5  </td><td>5   </td></tr>\n",
              "\t<tr><th scope=row>3</th><td>Ali Khalilli    </td><td>NA  </td><td>NA     </td><td>NA </td><td>NA  </td><td>NA </td><td>NA </td><td>NA  </td><td>NA </td><td>NA </td><td>⋯</td><td>NA </td><td>NA </td><td>NA </td><td>NA  </td><td>NA  </td><td>NA   </td><td>NA </td><td>NA </td><td>NA </td><td>NA  </td></tr>\n",
              "\t<tr><th scope=row>4</th><td>Anh T           </td><td>5.5 </td><td>3.3    </td><td>6.7</td><td>7.5 </td><td>8.4</td><td>4.2</td><td>5.3 </td><td>2.2</td><td>4.9</td><td>⋯</td><td>2.1</td><td>9.5</td><td>9.2</td><td>1.9 </td><td>3.9 </td><td>7.5  </td><td>2.1</td><td>6.1</td><td>5.2</td><td>2.3 </td></tr>\n",
              "\t<tr><th scope=row>5</th><td>anusha reddy    </td><td>9   </td><td>9.5    </td><td>8  </td><td>10  </td><td>9.5</td><td>8  </td><td>7   </td><td>9.5</td><td>8.3</td><td>⋯</td><td>NA </td><td>NA </td><td>NA </td><td>NA  </td><td>NA  </td><td>NA   </td><td>NA </td><td>NA </td><td>NA </td><td>NA  </td></tr>\n",
              "\t<tr><th scope=row>6</th><td>Brandon Inoshita</td><td>1.01</td><td>1.00001</td><td>3.1</td><td>9.75</td><td>5  </td><td>2.5</td><td>8.7 </td><td>2.2</td><td>3.9</td><td>⋯</td><td>1.5</td><td>5.2</td><td>9.8</td><td>1.01</td><td>1.01</td><td>1.011</td><td>9.8</td><td>5.2</td><td>9.1</td><td>1.01</td></tr>\n",
              "</tbody>\n",
              "</table>\n"
            ],
            "text/markdown": "\nA data.frame: 6 × 52\n\n| <!--/--> | Student Name &lt;chr&gt; | You enjoy vibrant social events with lots of peopleYour response should be a decimal number from 1 (strongly disagree) to 10 (strongly agree), for example 3.8\r\nBased on https://www.16personalities.com/free-personality-test &lt;chr&gt; | You often spend time exploring unrealistic yet intriguing ideas.Your response should be a decimal number from 1 (strongly disagree) to 10 (strongly agree), for example 3.8\r\nBased on https://www.16personalities.com/free-personality-test &lt;chr&gt; | Your travel plans are more likely to look like a rough list of ideas than a detailed itinerary.Your response should be a decimal number from 1 (strongly disagree) to 10 (strongly agree), for example 3.8\r\nBased on https://www.16personalities.com/free-personality-test &lt;chr&gt; | You often think about what you should have said in a conversation long after it has taken place.Your response should be a decimal number from 1 (strongly disagree) to 10 (strongly agree), for example 3.8\r\nBased on https://www.16personalities.com/free-personality-test &lt;chr&gt; | If your friend is sad about something, your first instinct is to support them emotionally, not try to solve their problem.Your response should be a decimal number from 1 (strongly disagree) to 10 (strongly agree), for example 3.8\r\nBased on https://www.16personalities.com/free-personality-test &lt;chr&gt; | People can rarely upset you.Your response should be a decimal number from 1 (strongly disagree) to 10 (strongly agree), for example 3.8\r\nBased on https://www.16personalities.com/free-personality-test &lt;chr&gt; | You often rely on other people to be the ones to start a conversation and keep it going.Your response should be a decimal number from 1 (strongly disagree) to 10 (strongly agree), for example 3.8\r\nBased on https://www.16personalities.com/free-personality-test &lt;chr&gt; | If you have to temporarily put your plans on hold, you make sure it is your top priority to get back on track as soon as possible.Your response should be a decimal number from 1 (strongly disagree) to 10 (strongly agree), for example 3.8\r\nBased on https://www.16personalities.com/free-personality-test &lt;chr&gt; | You rarely worry if you made a good impression on someone you met.Your response should be a decimal number from 1 (strongly disagree) to 10 (strongly agree), for example 3.8\r\nBased on https://www.16personalities.com/free-personality-test &lt;chr&gt; | ⋯ ⋯ | You feel comfortable just walking up to someone you find interesting and striking up a conversation.Your response should be a decimal number from 1 (strongly disagree) to 10 (strongly agree), for example 3.8\r\nBased on https://www.16personalities.com/free-personality-test &lt;chr&gt; | Even when you have planned a particular daily routine, you usually just end up doing what you feel like at any given moment.Your response should be a decimal number from 1 (strongly disagree) to 10 (strongly agree), for example 3.8\r\nBased on https://www.16personalities.com/free-personality-test &lt;chr&gt; | Your mood can change very quickly.Your response should be a decimal number from 1 (strongly disagree) to 10 (strongly agree), for example 3.8\r\nBased on https://www.16personalities.com/free-personality-test &lt;chr&gt; | You often contemplate the reasons for human existence or the meaning of life.Your response should be a decimal number from 1 (strongly disagree) to 10 (strongly agree), for example 3.8\r\nBased on https://www.16personalities.com/free-personality-test &lt;chr&gt; | You often talk about your own feelings and emotions.\r\nYour response should be a decimal number from 1 (strongly disagree) to 10 (strongly agree), for example 3.8\r\nBased on https://www.16personalities.com/free-personality-test &lt;chr&gt; | You rarely dwell on your regrets.Your response should be a decimal number from 1 (strongly disagree) to 10 (strongly agree), for example 3.8\r\nBased on https://www.16personalities.com/free-personality-test &lt;chr&gt; | You see yourself as more of a realist than a visionary.\r\nYour response should be a decimal number from 1 (strongly disagree) to 10 (strongly agree), for example 3.8\r\nBased on https://www.16personalities.com/free-personality-test &lt;chr&gt; | You find it easy to empathize with a person who has gone through something you never have.Your response should be a decimal number from 1 (strongly disagree) to 10 (strongly agree), for example 3.8\r\nBased on https://www.16personalities.com/free-personality-test &lt;chr&gt; | Your emotions control you more than you control them.Your response should be a decimal number from 1 (strongly disagree) to 10 (strongly agree), for example 3.8\r\nBased on https://www.16personalities.com/free-personality-test &lt;chr&gt; | You rarely feel insecure.Your response should be a decimal number from 1 (strongly disagree) to 10 (strongly agree), for example 3.8\r\nBased on https://www.16personalities.com/free-personality-test &lt;chr&gt; |\n|---|---|---|---|---|---|---|---|---|---|---|---|---|---|---|---|---|---|---|---|---|---|\n| 1 | AdArSh BaYyA     | 9.99 | 9.99    | 4.2 | 9.99 | 9   | 0.9 | 8.15 | 8.1 | 0.2 | ⋯ | NA  | NA  | NA  | NA   | NA   | NA    | NA  | NA  | NA  | NA   |\n| 2 | Ali Khalilli     | 5    | 6       | 2   | 4    | 2   | 8   | 4    | 8   | 5   | ⋯ | 2   | 4   | 8   | 10   | 3    | 5     | 5   | 8   | 5   | 5    |\n| 3 | Ali Khalilli     | NA   | NA      | NA  | NA   | NA  | NA  | NA   | NA  | NA  | ⋯ | NA  | NA  | NA  | NA   | NA   | NA    | NA  | NA  | NA  | NA   |\n| 4 | Anh T            | 5.5  | 3.3     | 6.7 | 7.5  | 8.4 | 4.2 | 5.3  | 2.2 | 4.9 | ⋯ | 2.1 | 9.5 | 9.2 | 1.9  | 3.9  | 7.5   | 2.1 | 6.1 | 5.2 | 2.3  |\n| 5 | anusha reddy     | 9    | 9.5     | 8   | 10   | 9.5 | 8   | 7    | 9.5 | 8.3 | ⋯ | NA  | NA  | NA  | NA   | NA   | NA    | NA  | NA  | NA  | NA   |\n| 6 | Brandon Inoshita | 1.01 | 1.00001 | 3.1 | 9.75 | 5   | 2.5 | 8.7  | 2.2 | 3.9 | ⋯ | 1.5 | 5.2 | 9.8 | 1.01 | 1.01 | 1.011 | 9.8 | 5.2 | 9.1 | 1.01 |\n\n",
            "text/latex": "A data.frame: 6 × 52\n\\begin{tabular}{r|lllllllllllllllllllll}\n  & Student Name & You enjoy vibrant social events with lots of peopleYour response should be a decimal number from 1 (strongly disagree) to 10 (strongly agree), for example 3.8\r\nBased on https://www.16personalities.com/free-personality-test & You often spend time exploring unrealistic yet intriguing ideas.Your response should be a decimal number from 1 (strongly disagree) to 10 (strongly agree), for example 3.8\r\nBased on https://www.16personalities.com/free-personality-test & Your travel plans are more likely to look like a rough list of ideas than a detailed itinerary.Your response should be a decimal number from 1 (strongly disagree) to 10 (strongly agree), for example 3.8\r\nBased on https://www.16personalities.com/free-personality-test & You often think about what you should have said in a conversation long after it has taken place.Your response should be a decimal number from 1 (strongly disagree) to 10 (strongly agree), for example 3.8\r\nBased on https://www.16personalities.com/free-personality-test & If your friend is sad about something, your first instinct is to support them emotionally, not try to solve their problem.Your response should be a decimal number from 1 (strongly disagree) to 10 (strongly agree), for example 3.8\r\nBased on https://www.16personalities.com/free-personality-test & People can rarely upset you.Your response should be a decimal number from 1 (strongly disagree) to 10 (strongly agree), for example 3.8\r\nBased on https://www.16personalities.com/free-personality-test & You often rely on other people to be the ones to start a conversation and keep it going.Your response should be a decimal number from 1 (strongly disagree) to 10 (strongly agree), for example 3.8\r\nBased on https://www.16personalities.com/free-personality-test & If you have to temporarily put your plans on hold, you make sure it is your top priority to get back on track as soon as possible.Your response should be a decimal number from 1 (strongly disagree) to 10 (strongly agree), for example 3.8\r\nBased on https://www.16personalities.com/free-personality-test & You rarely worry if you made a good impression on someone you met.Your response should be a decimal number from 1 (strongly disagree) to 10 (strongly agree), for example 3.8\r\nBased on https://www.16personalities.com/free-personality-test & ⋯ & You feel comfortable just walking up to someone you find interesting and striking up a conversation.Your response should be a decimal number from 1 (strongly disagree) to 10 (strongly agree), for example 3.8\r\nBased on https://www.16personalities.com/free-personality-test & Even when you have planned a particular daily routine, you usually just end up doing what you feel like at any given moment.Your response should be a decimal number from 1 (strongly disagree) to 10 (strongly agree), for example 3.8\r\nBased on https://www.16personalities.com/free-personality-test & Your mood can change very quickly.Your response should be a decimal number from 1 (strongly disagree) to 10 (strongly agree), for example 3.8\r\nBased on https://www.16personalities.com/free-personality-test & You often contemplate the reasons for human existence or the meaning of life.Your response should be a decimal number from 1 (strongly disagree) to 10 (strongly agree), for example 3.8\r\nBased on https://www.16personalities.com/free-personality-test & You often talk about your own feelings and emotions.\r\nYour response should be a decimal number from 1 (strongly disagree) to 10 (strongly agree), for example 3.8\r\nBased on https://www.16personalities.com/free-personality-test & You rarely dwell on your regrets.Your response should be a decimal number from 1 (strongly disagree) to 10 (strongly agree), for example 3.8\r\nBased on https://www.16personalities.com/free-personality-test & You see yourself as more of a realist than a visionary.\r\nYour response should be a decimal number from 1 (strongly disagree) to 10 (strongly agree), for example 3.8\r\nBased on https://www.16personalities.com/free-personality-test & You find it easy to empathize with a person who has gone through something you never have.Your response should be a decimal number from 1 (strongly disagree) to 10 (strongly agree), for example 3.8\r\nBased on https://www.16personalities.com/free-personality-test & Your emotions control you more than you control them.Your response should be a decimal number from 1 (strongly disagree) to 10 (strongly agree), for example 3.8\r\nBased on https://www.16personalities.com/free-personality-test & You rarely feel insecure.Your response should be a decimal number from 1 (strongly disagree) to 10 (strongly agree), for example 3.8\r\nBased on https://www.16personalities.com/free-personality-test\\\\\n  & <chr> & <chr> & <chr> & <chr> & <chr> & <chr> & <chr> & <chr> & <chr> & <chr> & ⋯ & <chr> & <chr> & <chr> & <chr> & <chr> & <chr> & <chr> & <chr> & <chr> & <chr>\\\\\n\\hline\n\t1 & AdArSh BaYyA     & 9.99 & 9.99    & 4.2 & 9.99 & 9   & 0.9 & 8.15 & 8.1 & 0.2 & ⋯ & NA  & NA  & NA  & NA   & NA   & NA    & NA  & NA  & NA  & NA  \\\\\n\t2 & Ali Khalilli     & 5    & 6       & 2   & 4    & 2   & 8   & 4    & 8   & 5   & ⋯ & 2   & 4   & 8   & 10   & 3    & 5     & 5   & 8   & 5   & 5   \\\\\n\t3 & Ali Khalilli     & NA   & NA      & NA  & NA   & NA  & NA  & NA   & NA  & NA  & ⋯ & NA  & NA  & NA  & NA   & NA   & NA    & NA  & NA  & NA  & NA  \\\\\n\t4 & Anh T            & 5.5  & 3.3     & 6.7 & 7.5  & 8.4 & 4.2 & 5.3  & 2.2 & 4.9 & ⋯ & 2.1 & 9.5 & 9.2 & 1.9  & 3.9  & 7.5   & 2.1 & 6.1 & 5.2 & 2.3 \\\\\n\t5 & anusha reddy     & 9    & 9.5     & 8   & 10   & 9.5 & 8   & 7    & 9.5 & 8.3 & ⋯ & NA  & NA  & NA  & NA   & NA   & NA    & NA  & NA  & NA  & NA  \\\\\n\t6 & Brandon Inoshita & 1.01 & 1.00001 & 3.1 & 9.75 & 5   & 2.5 & 8.7  & 2.2 & 3.9 & ⋯ & 1.5 & 5.2 & 9.8 & 1.01 & 1.01 & 1.011 & 9.8 & 5.2 & 9.1 & 1.01\\\\\n\\end{tabular}\n",
            "text/plain": [
              "  Student Name    \n",
              "1 AdArSh BaYyA    \n",
              "2 Ali Khalilli    \n",
              "3 Ali Khalilli    \n",
              "4 Anh T           \n",
              "5 anusha reddy    \n",
              "6 Brandon Inoshita\n",
              "  You enjoy vibrant social events with lots of peopleYour response should be a decimal number from 1 (strongly disagree) to 10 (strongly agree), for example 3.8\\r\\nBased on https://www.16personalities.com/free-personality-test\n",
              "1 9.99                                                                                                                                                                                                                            \n",
              "2 5                                                                                                                                                                                                                               \n",
              "3 NA                                                                                                                                                                                                                              \n",
              "4 5.5                                                                                                                                                                                                                             \n",
              "5 9                                                                                                                                                                                                                               \n",
              "6 1.01                                                                                                                                                                                                                            \n",
              "  You often spend time exploring unrealistic yet intriguing ideas.Your response should be a decimal number from 1 (strongly disagree) to 10 (strongly agree), for example 3.8\\r\\nBased on https://www.16personalities.com/free-personality-test\n",
              "1 9.99                                                                                                                                                                                                                                         \n",
              "2 6                                                                                                                                                                                                                                            \n",
              "3 NA                                                                                                                                                                                                                                           \n",
              "4 3.3                                                                                                                                                                                                                                          \n",
              "5 9.5                                                                                                                                                                                                                                          \n",
              "6 1.00001                                                                                                                                                                                                                                      \n",
              "  Your travel plans are more likely to look like a rough list of ideas than a detailed itinerary.Your response should be a decimal number from 1 (strongly disagree) to 10 (strongly agree), for example 3.8\\r\\nBased on https://www.16personalities.com/free-personality-test\n",
              "1 4.2                                                                                                                                                                                                                                                                         \n",
              "2 2                                                                                                                                                                                                                                                                           \n",
              "3 NA                                                                                                                                                                                                                                                                          \n",
              "4 6.7                                                                                                                                                                                                                                                                         \n",
              "5 8                                                                                                                                                                                                                                                                           \n",
              "6 3.1                                                                                                                                                                                                                                                                         \n",
              "  You often think about what you should have said in a conversation long after it has taken place.Your response should be a decimal number from 1 (strongly disagree) to 10 (strongly agree), for example 3.8\\r\\nBased on https://www.16personalities.com/free-personality-test\n",
              "1 9.99                                                                                                                                                                                                                                                                         \n",
              "2 4                                                                                                                                                                                                                                                                            \n",
              "3 NA                                                                                                                                                                                                                                                                           \n",
              "4 7.5                                                                                                                                                                                                                                                                          \n",
              "5 10                                                                                                                                                                                                                                                                           \n",
              "6 9.75                                                                                                                                                                                                                                                                         \n",
              "  If your friend is sad about something, your first instinct is to support them emotionally, not try to solve their problem.Your response should be a decimal number from 1 (strongly disagree) to 10 (strongly agree), for example 3.8\\r\\nBased on https://www.16personalities.com/free-personality-test\n",
              "1 9                                                                                                                                                                                                                                                                                                      \n",
              "2 2                                                                                                                                                                                                                                                                                                      \n",
              "3 NA                                                                                                                                                                                                                                                                                                     \n",
              "4 8.4                                                                                                                                                                                                                                                                                                    \n",
              "5 9.5                                                                                                                                                                                                                                                                                                    \n",
              "6 5                                                                                                                                                                                                                                                                                                      \n",
              "  People can rarely upset you.Your response should be a decimal number from 1 (strongly disagree) to 10 (strongly agree), for example 3.8\\r\\nBased on https://www.16personalities.com/free-personality-test\n",
              "1 0.9                                                                                                                                                                                                      \n",
              "2 8                                                                                                                                                                                                        \n",
              "3 NA                                                                                                                                                                                                       \n",
              "4 4.2                                                                                                                                                                                                      \n",
              "5 8                                                                                                                                                                                                        \n",
              "6 2.5                                                                                                                                                                                                      \n",
              "  You often rely on other people to be the ones to start a conversation and keep it going.Your response should be a decimal number from 1 (strongly disagree) to 10 (strongly agree), for example 3.8\\r\\nBased on https://www.16personalities.com/free-personality-test\n",
              "1 8.15                                                                                                                                                                                                                                                                 \n",
              "2 4                                                                                                                                                                                                                                                                    \n",
              "3 NA                                                                                                                                                                                                                                                                   \n",
              "4 5.3                                                                                                                                                                                                                                                                  \n",
              "5 7                                                                                                                                                                                                                                                                    \n",
              "6 8.7                                                                                                                                                                                                                                                                  \n",
              "  If you have to temporarily put your plans on hold, you make sure it is your top priority to get back on track as soon as possible.Your response should be a decimal number from 1 (strongly disagree) to 10 (strongly agree), for example 3.8\\r\\nBased on https://www.16personalities.com/free-personality-test\n",
              "1 8.1                                                                                                                                                                                                                                                                                                            \n",
              "2 8                                                                                                                                                                                                                                                                                                              \n",
              "3 NA                                                                                                                                                                                                                                                                                                             \n",
              "4 2.2                                                                                                                                                                                                                                                                                                            \n",
              "5 9.5                                                                                                                                                                                                                                                                                                            \n",
              "6 2.2                                                                                                                                                                                                                                                                                                            \n",
              "  You rarely worry if you made a good impression on someone you met.Your response should be a decimal number from 1 (strongly disagree) to 10 (strongly agree), for example 3.8\\r\\nBased on https://www.16personalities.com/free-personality-test\n",
              "1 0.2                                                                                                                                                                                                                                            \n",
              "2 5                                                                                                                                                                                                                                              \n",
              "3 NA                                                                                                                                                                                                                                             \n",
              "4 4.9                                                                                                                                                                                                                                            \n",
              "5 8.3                                                                                                                                                                                                                                            \n",
              "6 3.9                                                                                                                                                                                                                                            \n",
              "  ⋯\n",
              "1 ⋯\n",
              "2 ⋯\n",
              "3 ⋯\n",
              "4 ⋯\n",
              "5 ⋯\n",
              "6 ⋯\n",
              "  You feel comfortable just walking up to someone you find interesting and striking up a conversation.Your response should be a decimal number from 1 (strongly disagree) to 10 (strongly agree), for example 3.8\\r\\nBased on https://www.16personalities.com/free-personality-test\n",
              "1 NA                                                                                                                                                                                                                                                                               \n",
              "2 2                                                                                                                                                                                                                                                                                \n",
              "3 NA                                                                                                                                                                                                                                                                               \n",
              "4 2.1                                                                                                                                                                                                                                                                              \n",
              "5 NA                                                                                                                                                                                                                                                                               \n",
              "6 1.5                                                                                                                                                                                                                                                                              \n",
              "  Even when you have planned a particular daily routine, you usually just end up doing what you feel like at any given moment.Your response should be a decimal number from 1 (strongly disagree) to 10 (strongly agree), for example 3.8\\r\\nBased on https://www.16personalities.com/free-personality-test\n",
              "1 NA                                                                                                                                                                                                                                                                                                       \n",
              "2 4                                                                                                                                                                                                                                                                                                        \n",
              "3 NA                                                                                                                                                                                                                                                                                                       \n",
              "4 9.5                                                                                                                                                                                                                                                                                                      \n",
              "5 NA                                                                                                                                                                                                                                                                                                       \n",
              "6 5.2                                                                                                                                                                                                                                                                                                      \n",
              "  Your mood can change very quickly.Your response should be a decimal number from 1 (strongly disagree) to 10 (strongly agree), for example 3.8\\r\\nBased on https://www.16personalities.com/free-personality-test\n",
              "1 NA                                                                                                                                                                                                             \n",
              "2 8                                                                                                                                                                                                              \n",
              "3 NA                                                                                                                                                                                                             \n",
              "4 9.2                                                                                                                                                                                                            \n",
              "5 NA                                                                                                                                                                                                             \n",
              "6 9.8                                                                                                                                                                                                            \n",
              "  You often contemplate the reasons for human existence or the meaning of life.Your response should be a decimal number from 1 (strongly disagree) to 10 (strongly agree), for example 3.8\\r\\nBased on https://www.16personalities.com/free-personality-test\n",
              "1 NA                                                                                                                                                                                                                                                        \n",
              "2 10                                                                                                                                                                                                                                                        \n",
              "3 NA                                                                                                                                                                                                                                                        \n",
              "4 1.9                                                                                                                                                                                                                                                       \n",
              "5 NA                                                                                                                                                                                                                                                        \n",
              "6 1.01                                                                                                                                                                                                                                                      \n",
              "  You often talk about your own feelings and emotions.\\r\\nYour response should be a decimal number from 1 (strongly disagree) to 10 (strongly agree), for example 3.8\\r\\nBased on https://www.16personalities.com/free-personality-test\n",
              "1 NA                                                                                                                                                                                                                                   \n",
              "2 3                                                                                                                                                                                                                                    \n",
              "3 NA                                                                                                                                                                                                                                   \n",
              "4 3.9                                                                                                                                                                                                                                  \n",
              "5 NA                                                                                                                                                                                                                                   \n",
              "6 1.01                                                                                                                                                                                                                                 \n",
              "  You rarely dwell on your regrets.Your response should be a decimal number from 1 (strongly disagree) to 10 (strongly agree), for example 3.8\\r\\nBased on https://www.16personalities.com/free-personality-test\n",
              "1 NA                                                                                                                                                                                                            \n",
              "2 5                                                                                                                                                                                                             \n",
              "3 NA                                                                                                                                                                                                            \n",
              "4 7.5                                                                                                                                                                                                           \n",
              "5 NA                                                                                                                                                                                                            \n",
              "6 1.011                                                                                                                                                                                                         \n",
              "  You see yourself as more of a realist than a visionary.\\r\\nYour response should be a decimal number from 1 (strongly disagree) to 10 (strongly agree), for example 3.8\\r\\nBased on https://www.16personalities.com/free-personality-test\n",
              "1 NA                                                                                                                                                                                                                                      \n",
              "2 5                                                                                                                                                                                                                                       \n",
              "3 NA                                                                                                                                                                                                                                      \n",
              "4 2.1                                                                                                                                                                                                                                     \n",
              "5 NA                                                                                                                                                                                                                                      \n",
              "6 9.8                                                                                                                                                                                                                                     \n",
              "  You find it easy to empathize with a person who has gone through something you never have.Your response should be a decimal number from 1 (strongly disagree) to 10 (strongly agree), for example 3.8\\r\\nBased on https://www.16personalities.com/free-personality-test\n",
              "1 NA                                                                                                                                                                                                                                                                     \n",
              "2 8                                                                                                                                                                                                                                                                      \n",
              "3 NA                                                                                                                                                                                                                                                                     \n",
              "4 6.1                                                                                                                                                                                                                                                                    \n",
              "5 NA                                                                                                                                                                                                                                                                     \n",
              "6 5.2                                                                                                                                                                                                                                                                    \n",
              "  Your emotions control you more than you control them.Your response should be a decimal number from 1 (strongly disagree) to 10 (strongly agree), for example 3.8\\r\\nBased on https://www.16personalities.com/free-personality-test\n",
              "1 NA                                                                                                                                                                                                                                \n",
              "2 5                                                                                                                                                                                                                                 \n",
              "3 NA                                                                                                                                                                                                                                \n",
              "4 5.2                                                                                                                                                                                                                               \n",
              "5 NA                                                                                                                                                                                                                                \n",
              "6 9.1                                                                                                                                                                                                                               \n",
              "  You rarely feel insecure.Your response should be a decimal number from 1 (strongly disagree) to 10 (strongly agree), for example 3.8\\r\\nBased on https://www.16personalities.com/free-personality-test\n",
              "1 NA                                                                                                                                                                                                    \n",
              "2 5                                                                                                                                                                                                     \n",
              "3 NA                                                                                                                                                                                                    \n",
              "4 2.3                                                                                                                                                                                                   \n",
              "5 NA                                                                                                                                                                                                    \n",
              "6 1.01                                                                                                                                                                                                  "
            ]
          },
          "metadata": {}
        }
      ]
    },
    {
      "cell_type": "markdown",
      "source": [
        "secondly, i use na.omit command to remove NA terms by removing row so i can run \n",
        "\n",
        "*   secondly, i use na.omit command to remove NA terms by removing row so i can runany mathematical problem.\n",
        "\n",
        "*   after that change the column name and write column name appropriately.\n",
        "\n",
        "*   after that convert character to numeric \n",
        "\n"
      ],
      "metadata": {
        "id": "Pk_r5XIB_qWM"
      }
    },
    {
      "cell_type": "code",
      "source": [
        "ompleterecords <- na.omit(data) "
      ],
      "metadata": {
        "id": "L52i7TXcIZJZ"
      },
      "execution_count": null,
      "outputs": []
    },
    {
      "cell_type": "code",
      "source": [
        "colnames(ompleterecords) <- c(\"name\", \"participation in social events\",\"explore unrealistic\",\"not listed plans of yravel\",\"conversion after long time\",\"support emotionally or solve problem\",\"people upset you\",\"rely on other to start discussion\",\"back to plans\",\"impression\",\"without being bored in weekends\",\"detsil-oriented\",\"caring\",\"methodical approach\",\"bothered about mistake\",\"alone in parties\",\"guidence in emotion\",\"browsing internet for watching movie\",\"calmness\",\"jumping into the conversation\",\"types of dreams\",\"go ahead in life\",\"focus on goals\",\"doubting\",\"introducing new people\",\"philosophical interest\",\"cry infront of others\",\"crowdy or quite atmosphere\",\"think about future\",\"think of heart or head\",\"imagine life\",\"revenge or forgive\",\"decision on whim\",\"like spending\",\"interpreting message\",\"goal fix\",\"past success\",\"like less crowded areas\",\"focus on today or future\",\"understand others feeling\",\"take decision\",\"disappointment\",\"comfortable in conversation\",\"daily routine\",\"mood change\",\"human existance\",\"feeling and emotion\",\"feel about regrets\",\"realist or visionary\",\"think about we don't have something\",\"emotion control\",\"insecure\")"
      ],
      "metadata": {
        "id": "VNk-tTcxS7Ml"
      },
      "execution_count": null,
      "outputs": []
    },
    {
      "cell_type": "code",
      "source": [
        " head(ompleterecords)"
      ],
      "metadata": {
        "colab": {
          "base_uri": "https://localhost:8080/",
          "height": 428
        },
        "id": "WV87WJSaTyEY",
        "outputId": "bd16aa9a-2653-416f-c3d0-ed280df82f76"
      },
      "execution_count": null,
      "outputs": [
        {
          "output_type": "display_data",
          "data": {
            "text/html": [
              "<table class=\"dataframe\">\n",
              "<caption>A data.frame: 6 × 52</caption>\n",
              "<thead>\n",
              "\t<tr><th></th><th scope=col>name</th><th scope=col>participation in social events</th><th scope=col>explore unrealistic</th><th scope=col>not listed plans of yravel</th><th scope=col>conversion after long time</th><th scope=col>support emotionally or solve problem</th><th scope=col>people upset you</th><th scope=col>rely on other to start discussion</th><th scope=col>back to plans</th><th scope=col>impression</th><th scope=col>⋯</th><th scope=col>comfortable in conversation</th><th scope=col>daily routine</th><th scope=col>mood change</th><th scope=col>human existance</th><th scope=col>feeling and emotion</th><th scope=col>feel about regrets</th><th scope=col>realist or visionary</th><th scope=col>think about we don't have something</th><th scope=col>emotion control</th><th scope=col>insecure</th></tr>\n",
              "\t<tr><th></th><th scope=col>&lt;chr&gt;</th><th scope=col>&lt;chr&gt;</th><th scope=col>&lt;chr&gt;</th><th scope=col>&lt;chr&gt;</th><th scope=col>&lt;chr&gt;</th><th scope=col>&lt;chr&gt;</th><th scope=col>&lt;chr&gt;</th><th scope=col>&lt;chr&gt;</th><th scope=col>&lt;chr&gt;</th><th scope=col>&lt;chr&gt;</th><th scope=col>⋯</th><th scope=col>&lt;chr&gt;</th><th scope=col>&lt;chr&gt;</th><th scope=col>&lt;chr&gt;</th><th scope=col>&lt;chr&gt;</th><th scope=col>&lt;chr&gt;</th><th scope=col>&lt;chr&gt;</th><th scope=col>&lt;chr&gt;</th><th scope=col>&lt;chr&gt;</th><th scope=col>&lt;chr&gt;</th><th scope=col>&lt;chr&gt;</th></tr>\n",
              "</thead>\n",
              "<tbody>\n",
              "\t<tr><th scope=row>2</th><td>Ali Khalilli    </td><td>5   </td><td>6      </td><td>2  </td><td>4   </td><td>2  </td><td>8  </td><td>4  </td><td>8  </td><td>5  </td><td>⋯</td><td>2  </td><td>4  </td><td>8  </td><td>10  </td><td>3   </td><td>5    </td><td>5  </td><td>8  </td><td>5  </td><td>5   </td></tr>\n",
              "\t<tr><th scope=row>4</th><td>Anh T           </td><td>5.5 </td><td>3.3    </td><td>6.7</td><td>7.5 </td><td>8.4</td><td>4.2</td><td>5.3</td><td>2.2</td><td>4.9</td><td>⋯</td><td>2.1</td><td>9.5</td><td>9.2</td><td>1.9 </td><td>3.9 </td><td>7.5  </td><td>2.1</td><td>6.1</td><td>5.2</td><td>2.3 </td></tr>\n",
              "\t<tr><th scope=row>6</th><td>Brandon Inoshita</td><td>1.01</td><td>1.00001</td><td>3.1</td><td>9.75</td><td>5  </td><td>2.5</td><td>8.7</td><td>2.2</td><td>3.9</td><td>⋯</td><td>1.5</td><td>5.2</td><td>9.8</td><td>1.01</td><td>1.01</td><td>1.011</td><td>9.8</td><td>5.2</td><td>9.1</td><td>1.01</td></tr>\n",
              "\t<tr><th scope=row>7</th><td>Chandu          </td><td>6.5 </td><td>9      </td><td>9  </td><td>9   </td><td>9  </td><td>9  </td><td>6  </td><td>9.9</td><td>2.5</td><td>⋯</td><td>8.9</td><td>1  </td><td>5  </td><td>9   </td><td>9   </td><td>6    </td><td>9  </td><td>7  </td><td>4  </td><td>4   </td></tr>\n",
              "\t<tr><th scope=row>8</th><td>Changhao Dong   </td><td>5.0 </td><td>6.2    </td><td>8.6</td><td>6.4 </td><td>2.4</td><td>8.6</td><td>7.6</td><td>3.5</td><td>8.5</td><td>⋯</td><td>3.4</td><td>7.4</td><td>3.7</td><td>8.9 </td><td>3.2 </td><td>2.3  </td><td>5.0</td><td>6.7</td><td>2.7</td><td>8.3 </td></tr>\n",
              "\t<tr><th scope=row>10</th><td>Clark Blatter   </td><td>7.2 </td><td>8.9    </td><td>5.4</td><td>7.0 </td><td>6.2</td><td>8.8</td><td>2.3</td><td>4.2</td><td>4.7</td><td>⋯</td><td>3.9</td><td>2.9</td><td>2.3</td><td>9.2 </td><td>7.6 </td><td>4.4  </td><td>5.5</td><td>8.7</td><td>2.1</td><td>7.1 </td></tr>\n",
              "</tbody>\n",
              "</table>\n"
            ],
            "text/markdown": "\nA data.frame: 6 × 52\n\n| <!--/--> | name &lt;chr&gt; | participation in social events &lt;chr&gt; | explore unrealistic &lt;chr&gt; | not listed plans of yravel &lt;chr&gt; | conversion after long time &lt;chr&gt; | support emotionally or solve problem &lt;chr&gt; | people upset you &lt;chr&gt; | rely on other to start discussion &lt;chr&gt; | back to plans &lt;chr&gt; | impression &lt;chr&gt; | ⋯ ⋯ | comfortable in conversation &lt;chr&gt; | daily routine &lt;chr&gt; | mood change &lt;chr&gt; | human existance &lt;chr&gt; | feeling and emotion &lt;chr&gt; | feel about regrets &lt;chr&gt; | realist or visionary &lt;chr&gt; | think about we don't have something &lt;chr&gt; | emotion control &lt;chr&gt; | insecure &lt;chr&gt; |\n|---|---|---|---|---|---|---|---|---|---|---|---|---|---|---|---|---|---|---|---|---|---|\n| 2 | Ali Khalilli     | 5    | 6       | 2   | 4    | 2   | 8   | 4   | 8   | 5   | ⋯ | 2   | 4   | 8   | 10   | 3    | 5     | 5   | 8   | 5   | 5    |\n| 4 | Anh T            | 5.5  | 3.3     | 6.7 | 7.5  | 8.4 | 4.2 | 5.3 | 2.2 | 4.9 | ⋯ | 2.1 | 9.5 | 9.2 | 1.9  | 3.9  | 7.5   | 2.1 | 6.1 | 5.2 | 2.3  |\n| 6 | Brandon Inoshita | 1.01 | 1.00001 | 3.1 | 9.75 | 5   | 2.5 | 8.7 | 2.2 | 3.9 | ⋯ | 1.5 | 5.2 | 9.8 | 1.01 | 1.01 | 1.011 | 9.8 | 5.2 | 9.1 | 1.01 |\n| 7 | Chandu           | 6.5  | 9       | 9   | 9    | 9   | 9   | 6   | 9.9 | 2.5 | ⋯ | 8.9 | 1   | 5   | 9    | 9    | 6     | 9   | 7   | 4   | 4    |\n| 8 | Changhao Dong    | 5.0  | 6.2     | 8.6 | 6.4  | 2.4 | 8.6 | 7.6 | 3.5 | 8.5 | ⋯ | 3.4 | 7.4 | 3.7 | 8.9  | 3.2  | 2.3   | 5.0 | 6.7 | 2.7 | 8.3  |\n| 10 | Clark Blatter    | 7.2  | 8.9     | 5.4 | 7.0  | 6.2 | 8.8 | 2.3 | 4.2 | 4.7 | ⋯ | 3.9 | 2.9 | 2.3 | 9.2  | 7.6  | 4.4   | 5.5 | 8.7 | 2.1 | 7.1  |\n\n",
            "text/latex": "A data.frame: 6 × 52\n\\begin{tabular}{r|lllllllllllllllllllll}\n  & name & participation in social events & explore unrealistic & not listed plans of yravel & conversion after long time & support emotionally or solve problem & people upset you & rely on other to start discussion & back to plans & impression & ⋯ & comfortable in conversation & daily routine & mood change & human existance & feeling and emotion & feel about regrets & realist or visionary & think about we don't have something & emotion control & insecure\\\\\n  & <chr> & <chr> & <chr> & <chr> & <chr> & <chr> & <chr> & <chr> & <chr> & <chr> & ⋯ & <chr> & <chr> & <chr> & <chr> & <chr> & <chr> & <chr> & <chr> & <chr> & <chr>\\\\\n\\hline\n\t2 & Ali Khalilli     & 5    & 6       & 2   & 4    & 2   & 8   & 4   & 8   & 5   & ⋯ & 2   & 4   & 8   & 10   & 3    & 5     & 5   & 8   & 5   & 5   \\\\\n\t4 & Anh T            & 5.5  & 3.3     & 6.7 & 7.5  & 8.4 & 4.2 & 5.3 & 2.2 & 4.9 & ⋯ & 2.1 & 9.5 & 9.2 & 1.9  & 3.9  & 7.5   & 2.1 & 6.1 & 5.2 & 2.3 \\\\\n\t6 & Brandon Inoshita & 1.01 & 1.00001 & 3.1 & 9.75 & 5   & 2.5 & 8.7 & 2.2 & 3.9 & ⋯ & 1.5 & 5.2 & 9.8 & 1.01 & 1.01 & 1.011 & 9.8 & 5.2 & 9.1 & 1.01\\\\\n\t7 & Chandu           & 6.5  & 9       & 9   & 9    & 9   & 9   & 6   & 9.9 & 2.5 & ⋯ & 8.9 & 1   & 5   & 9    & 9    & 6     & 9   & 7   & 4   & 4   \\\\\n\t8 & Changhao Dong    & 5.0  & 6.2     & 8.6 & 6.4  & 2.4 & 8.6 & 7.6 & 3.5 & 8.5 & ⋯ & 3.4 & 7.4 & 3.7 & 8.9  & 3.2  & 2.3   & 5.0 & 6.7 & 2.7 & 8.3 \\\\\n\t10 & Clark Blatter    & 7.2  & 8.9     & 5.4 & 7.0  & 6.2 & 8.8 & 2.3 & 4.2 & 4.7 & ⋯ & 3.9 & 2.9 & 2.3 & 9.2  & 7.6  & 4.4   & 5.5 & 8.7 & 2.1 & 7.1 \\\\\n\\end{tabular}\n",
            "text/plain": [
              "   name             participation in social events explore unrealistic\n",
              "2  Ali Khalilli     5                              6                  \n",
              "4  Anh T            5.5                            3.3                \n",
              "6  Brandon Inoshita 1.01                           1.00001            \n",
              "7  Chandu           6.5                            9                  \n",
              "8  Changhao Dong    5.0                            6.2                \n",
              "10 Clark Blatter    7.2                            8.9                \n",
              "   not listed plans of yravel conversion after long time\n",
              "2  2                          4                         \n",
              "4  6.7                        7.5                       \n",
              "6  3.1                        9.75                      \n",
              "7  9                          9                         \n",
              "8  8.6                        6.4                       \n",
              "10 5.4                        7.0                       \n",
              "   support emotionally or solve problem people upset you\n",
              "2  2                                    8               \n",
              "4  8.4                                  4.2             \n",
              "6  5                                    2.5             \n",
              "7  9                                    9               \n",
              "8  2.4                                  8.6             \n",
              "10 6.2                                  8.8             \n",
              "   rely on other to start discussion back to plans impression ⋯\n",
              "2  4                                 8             5          ⋯\n",
              "4  5.3                               2.2           4.9        ⋯\n",
              "6  8.7                               2.2           3.9        ⋯\n",
              "7  6                                 9.9           2.5        ⋯\n",
              "8  7.6                               3.5           8.5        ⋯\n",
              "10 2.3                               4.2           4.7        ⋯\n",
              "   comfortable in conversation daily routine mood change human existance\n",
              "2  2                           4             8           10             \n",
              "4  2.1                         9.5           9.2         1.9            \n",
              "6  1.5                         5.2           9.8         1.01           \n",
              "7  8.9                         1             5           9              \n",
              "8  3.4                         7.4           3.7         8.9            \n",
              "10 3.9                         2.9           2.3         9.2            \n",
              "   feeling and emotion feel about regrets realist or visionary\n",
              "2  3                   5                  5                   \n",
              "4  3.9                 7.5                2.1                 \n",
              "6  1.01                1.011              9.8                 \n",
              "7  9                   6                  9                   \n",
              "8  3.2                 2.3                5.0                 \n",
              "10 7.6                 4.4                5.5                 \n",
              "   think about we don't have something emotion control insecure\n",
              "2  8                                   5               5       \n",
              "4  6.1                                 5.2             2.3     \n",
              "6  5.2                                 9.1             1.01    \n",
              "7  7                                   4               4       \n",
              "8  6.7                                 2.7             8.3     \n",
              "10 8.7                                 2.1             7.1     "
            ]
          },
          "metadata": {}
        }
      ]
    },
    {
      "cell_type": "code",
      "source": [
        "df<-ompleterecords"
      ],
      "metadata": {
        "id": "fxQ2EoepBvtu"
      },
      "execution_count": null,
      "outputs": []
    },
    {
      "cell_type": "code",
      "source": [
        "for (i in 2:52){\n",
        "  df[i]<-as.numeric(unlist(df[i]))\n",
        "}"
      ],
      "metadata": {
        "colab": {
          "base_uri": "https://localhost:8080/"
        },
        "id": "QlMHCqGNB0uC",
        "outputId": "758bb726-9b5d-48e4-8425-3adf6f78d290"
      },
      "execution_count": null,
      "outputs": [
        {
          "output_type": "stream",
          "name": "stderr",
          "text": [
            "Warning message in eval(expr, envir, enclos):\n",
            "“NAs introduced by coercion”\n",
            "Warning message in eval(expr, envir, enclos):\n",
            "“NAs introduced by coercion”\n"
          ]
        }
      ]
    },
    {
      "cell_type": "code",
      "source": [
        "str(df)"
      ],
      "metadata": {
        "colab": {
          "base_uri": "https://localhost:8080/"
        },
        "id": "EL8tuK6HB2u8",
        "outputId": "e36ed962-3f95-4431-fca0-114b9a9ef081"
      },
      "execution_count": null,
      "outputs": [
        {
          "output_type": "stream",
          "name": "stdout",
          "text": [
            "'data.frame':\t40 obs. of  52 variables:\n",
            " $ name                                : chr  \"Ali Khalilli\" \"Anh T\" \"Brandon Inoshita\" \"Chandu\" ...\n",
            " $ participation in social events      : num  5 5.5 1.01 6.5 5 7.2 0 3 7.5 9.9 ...\n",
            " $ explore unrealistic                 : num  6 3.3 1 9 6.2 ...\n",
            " $ not listed plans of yravel          : num  2 6.7 3.1 9 8.6 5.4 0 5 9.5 9.9 ...\n",
            " $ conversion after long time          : num  4 7.5 9.75 9 6.4 7 0 7 2 8.5 ...\n",
            " $ support emotionally or solve problem: num  2 8.4 5 9 2.4 6.2 0 6 3 9.9 ...\n",
            " $ people upset you                    : num  8 4.2 2.5 9 8.6 8.8 0 1 5 8.7 ...\n",
            " $ rely on other to start discussion   : num  4 5.3 8.7 6 7.6 2.3 0 1.3 7 2.3 ...\n",
            " $ back to plans                       : num  8 2.2 2.2 9.9 3.5 4.2 0 10 9 5.7 ...\n",
            " $ impression                          : num  5 4.9 3.9 2.5 8.5 4.7 0 9 4 6.1 ...\n",
            " $ without being bored in weekends     : num  2 1.9 1 2.35 2.6 ...\n",
            " $ detsil-oriented                     : num  4 3.8 7.8 9.8 5.6 8.8 0 7 1 5.9 ...\n",
            " $ caring                              : num  8 6.7 2.3 9.9 3.2 10 0 10 9.5 9.9 ...\n",
            " $ methodical approach                 : num  8 3.1 5.54 9.2 2.5 9.5 0 10 3 8.7 ...\n",
            " $ bothered about mistake              : num  5 6.3 10 1 1.7 8.4 0 1.5 9 4.3 ...\n",
            " $ alone in parties                    : num  6 8.8 9.7 5 2.3 6.7 0 3 6 3.2 ...\n",
            " $ guidence in emotion                 : num  7.5 4.2 1.5 5 8.7 8.5 0 5 4 5.6 ...\n",
            " $ browsing internet for watching movie: num  3 9.2 8.7 NA 9.3 8.5 0 9 7.3 8.7 ...\n",
            " $ calmness                            : num  9 2.1 1.01 9 9.3 9.1 0 9 3.5 9.6 ...\n",
            " $ jumping into the conversation       : num  6 1.9 1.2 7 5.4 7.6 0 2 6.3 9 ...\n",
            " $ types of dreams                     : num  4 7.5 1 9 8.7 ...\n",
            " $ go ahead in life                    : num  7 3.1 5 7.2 3.3 1 0 4 3.6 2.01 ...\n",
            " $ focus on goals                      : num  9 2.8 1.9 9.2 2.1 8.9 0 8 7.7 4.5 ...\n",
            " $ doubting                            : num  5 5.5 9.8 9.1 1.1 7.3 0 1 5.6 7.7 ...\n",
            " $ introducing new people              : num  8 9.3 9.8 9 8.4 9.1 0 2 8.3 2.3 ...\n",
            " $ philosophical interest              : num  2 9.9 7.1 3 2.1 3.1 0 5 2.9 2.1 ...\n",
            " $ cry infront of others               : num  9 6.9 1 9 8.8 3.6 0 10 8.3 1.7 ...\n",
            " $ crowdy or quite atmosphere          : num  5 5.8 1.4 8.3 5.1 4.1 0 4 6.5 10 ...\n",
            " $ think about future                  : num  9 2.5 1.01 9.8 3.2 9.2 0 10 9.4 10 ...\n",
            " $ think of heart or head              : num  5 6.6 7.5 9.9 4.9 5.2 0 10 3.5 10 ...\n",
            " $ imagine life                        : num  3 3.5 5.2 8 2.3 5.2 0 5 7.9 2.3 ...\n",
            " $ revenge or forgive                  : num  8 5.9 5.2 1 5.2 2.1 0 1 3.2 2.1 ...\n",
            " $ decision on whim                    : num  5 4.5 9.2 5 4.5 1.5 0 5 8.8 3.4 ...\n",
            " $ like spending                       : num  5 7.2 9.8 9 5.2 5.9 0 9 4.7 9.7 ...\n",
            " $ interpreting message                : num  3 3.6 1.01 9.9 9.4 9.6 0 2 5.5 6.7 ...\n",
            " $ goal fix                            : num  5 2.6 1.91 9.9 6.3 6.9 0 4 9.2 8.9 ...\n",
            " $ past success                        : num  5 3.9 1.2 9.9 3.5 3.2 0 7 1.2 6.1 ...\n",
            " $ like less crowded areas             : num  5 8.8 8.9 9 8.3 4.5 0 5 3.6 3.2 ...\n",
            " $ focus on today or future            : num  5 5.3 9.2 9 6.2 3.9 0 4 4 2.6 ...\n",
            " $ understand others feeling           : num  2 2.2 8.2 9.6 4.1 4.2 0 6 2.4 1.1 ...\n",
            " $ take decision                       : num  6.5 6.1 9.2 9.9 3.1 8.6 0 7 5.5 7.9 ...\n",
            " $ disappointment                      : num  5 3.3 4 8.9 4.3 6.8 0 5 8.3 2.2 ...\n",
            " $ comfortable in conversation         : num  2 2.1 1.5 8.9 3.4 3.9 0 6 5.3 7.7 ...\n",
            " $ daily routine                       : num  4 9.5 5.2 1 7.4 2.9 0 3 2.9 9.9 ...\n",
            " $ mood change                         : num  8 9.2 9.8 5 3.7 2.3 0 8 7.7 5.2 ...\n",
            " $ human existance                     : num  10 1.9 1.01 9 8.9 9.2 0 7 5.9 9.9 ...\n",
            " $ feeling and emotion                 : num  3 3.9 1.01 9 3.2 7.6 0 2 7.7 9.7 ...\n",
            " $ feel about regrets                  : num  5 7.5 1.01 6 2.3 ...\n",
            " $ realist or visionary                : num  5 2.1 9.8 9 5 5.5 0 7 5.2 9.6 ...\n",
            " $ think about we don't have something : num  8 6.1 5.2 7 6.7 8.7 0 5 3.6 9.9 ...\n",
            " $ emotion control                     : num  5 5.2 9.1 4 2.7 2.1 0 1 8.5 2.2 ...\n",
            " $ insecure                            : num  5 2.3 1.01 4 8.3 7.1 0 4 6.2 7.5 ...\n",
            " - attr(*, \"na.action\")= 'omit' Named int [1:19] 1 3 5 9 13 16 22 23 26 27 ...\n",
            "  ..- attr(*, \"names\")= chr [1:19] \"1\" \"3\" \"5\" \"9\" ...\n"
          ]
        }
      ]
    },
    {
      "cell_type": "markdown",
      "source": [
        "# Ans2.2 \n",
        "\n",
        "Number of rows and and column"
      ],
      "metadata": {
        "id": "EyE-3WaJKwli"
      }
    },
    {
      "cell_type": "code",
      "source": [
        "nrow(ompleterecords)"
      ],
      "metadata": {
        "colab": {
          "base_uri": "https://localhost:8080/",
          "height": 34
        },
        "id": "9xb-uCrrKuRz",
        "outputId": "7609384c-1e65-4ee7-ba88-59a2793229a3"
      },
      "execution_count": null,
      "outputs": [
        {
          "output_type": "display_data",
          "data": {
            "text/html": [
              "40"
            ],
            "text/markdown": "40",
            "text/latex": "40",
            "text/plain": [
              "[1] 40"
            ]
          },
          "metadata": {}
        }
      ]
    },
    {
      "cell_type": "code",
      "source": [
        "ncol(ompleterecords)"
      ],
      "metadata": {
        "colab": {
          "base_uri": "https://localhost:8080/",
          "height": 34
        },
        "id": "hdofWpNnLDF3",
        "outputId": "b01a32cf-d99e-45ae-b829-e0f75ded9dac"
      },
      "execution_count": null,
      "outputs": [
        {
          "output_type": "display_data",
          "data": {
            "text/html": [
              "52"
            ],
            "text/markdown": "52",
            "text/latex": "52",
            "text/plain": [
              "[1] 52"
            ]
          },
          "metadata": {}
        }
      ]
    },
    {
      "cell_type": "markdown",
      "source": [
        "### find quartile of first five rows "
      ],
      "metadata": {
        "id": "7C1fVR-1p4s8"
      }
    },
    {
      "cell_type": "code",
      "source": [
        "quantile(participation_in_social_events,probs = seq(0,1,0.25),na.rm = T)"
      ],
      "metadata": {
        "colab": {
          "base_uri": "https://localhost:8080/",
          "height": 34
        },
        "id": "LAxYekMQrNdF",
        "outputId": "2414cd15-d150-4e74-d6b5-173d238567ad"
      },
      "execution_count": null,
      "outputs": [
        {
          "output_type": "display_data",
          "data": {
            "text/html": [
              "<style>\n",
              ".dl-inline {width: auto; margin:0; padding: 0}\n",
              ".dl-inline>dt, .dl-inline>dd {float: none; width: auto; display: inline-block}\n",
              ".dl-inline>dt::after {content: \":\\0020\"; padding-right: .5ex}\n",
              ".dl-inline>dt:not(:first-of-type) {padding-left: .5ex}\n",
              "</style><dl class=dl-inline><dt>0%</dt><dd>0</dd><dt>25%</dt><dd>5.4</dd><dt>50%</dt><dd>7.35</dd><dt>75%</dt><dd>8.5</dd><dt>100%</dt><dd>10</dd></dl>\n"
            ],
            "text/markdown": "0%\n:   025%\n:   5.450%\n:   7.3575%\n:   8.5100%\n:   10\n\n",
            "text/latex": "\\begin{description*}\n\\item[0\\textbackslash{}\\%] 0\n\\item[25\\textbackslash{}\\%] 5.4\n\\item[50\\textbackslash{}\\%] 7.35\n\\item[75\\textbackslash{}\\%] 8.5\n\\item[100\\textbackslash{}\\%] 10\n\\end{description*}\n",
            "text/plain": [
              "   0%   25%   50%   75%  100% \n",
              " 0.00  5.40  7.35  8.50 10.00 "
            ]
          },
          "metadata": {}
        }
      ]
    },
    {
      "cell_type": "code",
      "source": [
        "quantile(explore_unrealistic,probs = seq(0,1,0.25),na.rm = T)"
      ],
      "metadata": {
        "colab": {
          "base_uri": "https://localhost:8080/",
          "height": 34
        },
        "id": "st26bQiJtPrm",
        "outputId": "f640b285-5b08-43e0-bb35-ba2ddc89edbf"
      },
      "execution_count": null,
      "outputs": [
        {
          "output_type": "display_data",
          "data": {
            "text/html": [
              "<style>\n",
              ".dl-inline {width: auto; margin:0; padding: 0}\n",
              ".dl-inline>dt, .dl-inline>dd {float: none; width: auto; display: inline-block}\n",
              ".dl-inline>dt::after {content: \":\\0020\"; padding-right: .5ex}\n",
              ".dl-inline>dt:not(:first-of-type) {padding-left: .5ex}\n",
              "</style><dl class=dl-inline><dt>0%</dt><dd>0</dd><dt>25%</dt><dd>5.075</dd><dt>50%</dt><dd>7.1</dd><dt>75%</dt><dd>8.55</dd><dt>100%</dt><dd>9.8</dd></dl>\n"
            ],
            "text/markdown": "0%\n:   025%\n:   5.07550%\n:   7.175%\n:   8.55100%\n:   9.8\n\n",
            "text/latex": "\\begin{description*}\n\\item[0\\textbackslash{}\\%] 0\n\\item[25\\textbackslash{}\\%] 5.075\n\\item[50\\textbackslash{}\\%] 7.1\n\\item[75\\textbackslash{}\\%] 8.55\n\\item[100\\textbackslash{}\\%] 9.8\n\\end{description*}\n",
            "text/plain": [
              "   0%   25%   50%   75%  100% \n",
              "0.000 5.075 7.100 8.550 9.800 "
            ]
          },
          "metadata": {}
        }
      ]
    },
    {
      "cell_type": "code",
      "source": [
        "quantile(not_listed_plans_of_travel,probs = seq(0,1,0.25),na.rm = T)"
      ],
      "metadata": {
        "colab": {
          "base_uri": "https://localhost:8080/",
          "height": 34
        },
        "id": "ryWOIz9htdLK",
        "outputId": "72fd9c2a-4f13-4155-a804-32cdc17f8870"
      },
      "execution_count": null,
      "outputs": [
        {
          "output_type": "display_data",
          "data": {
            "text/html": [
              "<style>\n",
              ".dl-inline {width: auto; margin:0; padding: 0}\n",
              ".dl-inline>dt, .dl-inline>dd {float: none; width: auto; display: inline-block}\n",
              ".dl-inline>dt::after {content: \":\\0020\"; padding-right: .5ex}\n",
              ".dl-inline>dt:not(:first-of-type) {padding-left: .5ex}\n",
              "</style><dl class=dl-inline><dt>0%</dt><dd>0</dd><dt>25%</dt><dd>5</dd><dt>50%</dt><dd>6.7</dd><dt>75%</dt><dd>9</dd><dt>100%</dt><dd>10</dd></dl>\n"
            ],
            "text/markdown": "0%\n:   025%\n:   550%\n:   6.775%\n:   9100%\n:   10\n\n",
            "text/latex": "\\begin{description*}\n\\item[0\\textbackslash{}\\%] 0\n\\item[25\\textbackslash{}\\%] 5\n\\item[50\\textbackslash{}\\%] 6.7\n\\item[75\\textbackslash{}\\%] 9\n\\item[100\\textbackslash{}\\%] 10\n\\end{description*}\n",
            "text/plain": [
              "  0%  25%  50%  75% 100% \n",
              " 0.0  5.0  6.7  9.0 10.0 "
            ]
          },
          "metadata": {}
        }
      ]
    },
    {
      "cell_type": "code",
      "source": [
        "quantile(conversion_after_long_time ,probs = seq(0,1,0.25),na.rm = T)"
      ],
      "metadata": {
        "colab": {
          "base_uri": "https://localhost:8080/",
          "height": 34
        },
        "id": "rb7jJZ6Wtods",
        "outputId": "97d78f0d-2803-48f4-88b2-4936aab63861"
      },
      "execution_count": null,
      "outputs": [
        {
          "output_type": "display_data",
          "data": {
            "text/html": [
              "<style>\n",
              ".dl-inline {width: auto; margin:0; padding: 0}\n",
              ".dl-inline>dt, .dl-inline>dd {float: none; width: auto; display: inline-block}\n",
              ".dl-inline>dt::after {content: \":\\0020\"; padding-right: .5ex}\n",
              ".dl-inline>dt:not(:first-of-type) {padding-left: .5ex}\n",
              "</style><dl class=dl-inline><dt>0%</dt><dd>0</dd><dt>25%</dt><dd>5.95</dd><dt>50%</dt><dd>7.5</dd><dt>75%</dt><dd>9.125</dd><dt>100%</dt><dd>10</dd></dl>\n"
            ],
            "text/markdown": "0%\n:   025%\n:   5.9550%\n:   7.575%\n:   9.125100%\n:   10\n\n",
            "text/latex": "\\begin{description*}\n\\item[0\\textbackslash{}\\%] 0\n\\item[25\\textbackslash{}\\%] 5.95\n\\item[50\\textbackslash{}\\%] 7.5\n\\item[75\\textbackslash{}\\%] 9.125\n\\item[100\\textbackslash{}\\%] 10\n\\end{description*}\n",
            "text/plain": [
              "    0%    25%    50%    75%   100% \n",
              " 0.000  5.950  7.500  9.125 10.000 "
            ]
          },
          "metadata": {}
        }
      ]
    },
    {
      "cell_type": "code",
      "source": [
        "quantile(support_emotionally_or_solve_problem ,probs = seq(0,1,0.25),na.rm = T)"
      ],
      "metadata": {
        "colab": {
          "base_uri": "https://localhost:8080/",
          "height": 34
        },
        "id": "Wi3ruWdxtvbM",
        "outputId": "7e7f618b-b0e5-4b07-d19b-df93d3aaed6e"
      },
      "execution_count": null,
      "outputs": [
        {
          "output_type": "display_data",
          "data": {
            "text/html": [
              "<style>\n",
              ".dl-inline {width: auto; margin:0; padding: 0}\n",
              ".dl-inline>dt, .dl-inline>dd {float: none; width: auto; display: inline-block}\n",
              ".dl-inline>dt::after {content: \":\\0020\"; padding-right: .5ex}\n",
              ".dl-inline>dt:not(:first-of-type) {padding-left: .5ex}\n",
              "</style><dl class=dl-inline><dt>0%</dt><dd>0</dd><dt>25%</dt><dd>4.575</dd><dt>50%</dt><dd>6.55</dd><dt>75%</dt><dd>8.85</dd><dt>100%</dt><dd>10</dd></dl>\n"
            ],
            "text/markdown": "0%\n:   025%\n:   4.57550%\n:   6.5575%\n:   8.85100%\n:   10\n\n",
            "text/latex": "\\begin{description*}\n\\item[0\\textbackslash{}\\%] 0\n\\item[25\\textbackslash{}\\%] 4.575\n\\item[50\\textbackslash{}\\%] 6.55\n\\item[75\\textbackslash{}\\%] 8.85\n\\item[100\\textbackslash{}\\%] 10\n\\end{description*}\n",
            "text/plain": [
              "    0%    25%    50%    75%   100% \n",
              " 0.000  4.575  6.550  8.850 10.000 "
            ]
          },
          "metadata": {}
        }
      ]
    },
    {
      "cell_type": "markdown",
      "source": [
        "### find summary of first five rows"
      ],
      "metadata": {
        "id": "EFnFQsg_t75u"
      }
    },
    {
      "cell_type": "code",
      "source": [
        "summary(participation_in_social_events)"
      ],
      "metadata": {
        "colab": {
          "base_uri": "https://localhost:8080/",
          "height": 52
        },
        "id": "LzUxj7v6t7At",
        "outputId": "0b8a8d10-1144-493c-a828-7251b026fa86"
      },
      "execution_count": null,
      "outputs": [
        {
          "output_type": "display_data",
          "data": {
            "text/plain": [
              "   Min. 1st Qu.  Median    Mean 3rd Qu.    Max. \n",
              "  0.000   5.400   7.350   6.803   8.500  10.000 "
            ]
          },
          "metadata": {}
        }
      ]
    },
    {
      "cell_type": "code",
      "source": [
        "summary(explore_unrealistic)"
      ],
      "metadata": {
        "colab": {
          "base_uri": "https://localhost:8080/",
          "height": 52
        },
        "id": "Qa1o-EnPuEuH",
        "outputId": "c1331150-c420-4888-bc90-2e66013a859b"
      },
      "execution_count": null,
      "outputs": [
        {
          "output_type": "display_data",
          "data": {
            "text/plain": [
              "   Min. 1st Qu.  Median    Mean 3rd Qu.    Max. \n",
              "  0.000   5.075   7.100   6.569   8.550   9.800 "
            ]
          },
          "metadata": {}
        }
      ]
    },
    {
      "cell_type": "code",
      "source": [
        "summary(not_listed_plans_of_travel)"
      ],
      "metadata": {
        "colab": {
          "base_uri": "https://localhost:8080/",
          "height": 52
        },
        "id": "TsKQAmW_uMT7",
        "outputId": "3c886e64-15ce-4b92-9e77-ee600be8c16d"
      },
      "execution_count": null,
      "outputs": [
        {
          "output_type": "display_data",
          "data": {
            "text/plain": [
              "   Min. 1st Qu.  Median    Mean 3rd Qu.    Max. \n",
              "   0.00    5.00    6.70    6.43    9.00   10.00 "
            ]
          },
          "metadata": {}
        }
      ]
    },
    {
      "cell_type": "code",
      "source": [
        "summary(conversion_after_long_time)"
      ],
      "metadata": {
        "colab": {
          "base_uri": "https://localhost:8080/",
          "height": 52
        },
        "id": "OMZyMvm_uSXO",
        "outputId": "6bc9ee18-fb36-433f-e046-8c5eefd37154"
      },
      "execution_count": null,
      "outputs": [
        {
          "output_type": "display_data",
          "data": {
            "text/plain": [
              "   Min. 1st Qu.  Median    Mean 3rd Qu.    Max. \n",
              "  0.000   5.950   7.500   7.124   9.125  10.000 "
            ]
          },
          "metadata": {}
        }
      ]
    },
    {
      "cell_type": "code",
      "source": [
        "summary(support_emotionally_or_solve_problem)"
      ],
      "metadata": {
        "colab": {
          "base_uri": "https://localhost:8080/",
          "height": 52
        },
        "id": "HNSgarsRuc8w",
        "outputId": "6bf5be93-1598-46a2-dda5-0cb550ada287"
      },
      "execution_count": null,
      "outputs": [
        {
          "output_type": "display_data",
          "data": {
            "text/plain": [
              "   Min. 1st Qu.  Median    Mean 3rd Qu.    Max. \n",
              "  0.000   4.575   6.550   6.338   8.850  10.000 "
            ]
          },
          "metadata": {}
        }
      ]
    },
    {
      "cell_type": "markdown",
      "source": [
        "## Linear regression\n",
        "first upload basic library which is required to plot the graph such as ggplot2,\n",
        "dplyr,broom"
      ],
      "metadata": {
        "id": "SkAHcScfvOOf"
      }
    },
    {
      "cell_type": "code",
      "source": [
        "install.packages(\"ggplot2\")\n",
        "install.packages(\"dplyr\")\n",
        "install.packages(\"broom\")\n"
      ],
      "metadata": {
        "colab": {
          "base_uri": "https://localhost:8080/"
        },
        "id": "i2Phb-0Hum7H",
        "outputId": "a7e9cc68-471c-41df-834d-65d2cc0d832a"
      },
      "execution_count": null,
      "outputs": [
        {
          "output_type": "stream",
          "name": "stderr",
          "text": [
            "Installing package into ‘/usr/local/lib/R/site-library’\n",
            "(as ‘lib’ is unspecified)\n",
            "\n",
            "Installing package into ‘/usr/local/lib/R/site-library’\n",
            "(as ‘lib’ is unspecified)\n",
            "\n",
            "Installing package into ‘/usr/local/lib/R/site-library’\n",
            "(as ‘lib’ is unspecified)\n",
            "\n"
          ]
        }
      ]
    },
    {
      "cell_type": "code",
      "source": [
        "library(ggplot2)\n",
        "library(dplyr)\n",
        "library(broom)"
      ],
      "metadata": {
        "id": "Jx3w-fhRwDfZ"
      },
      "execution_count": null,
      "outputs": []
    },
    {
      "cell_type": "markdown",
      "source": [
        "I make model of not listed plans of travel and conversion after long time, model shows that every participation are intersted on more than 8 to 10."
      ],
      "metadata": {
        "id": "QlYXURCvYwJz"
      }
    },
    {
      "cell_type": "code",
      "source": [
        "model1 <- lm(df$`not listed plans of yravel` ~ df$`conversion after long time`, data = df)\n",
        "model1\n",
        "summary(model1)\n"
      ],
      "metadata": {
        "colab": {
          "base_uri": "https://localhost:8080/",
          "height": 486
        },
        "id": "o0ynSCoL34Rz",
        "outputId": "d16db49e-c171-446a-9a2e-90406b8f456c"
      },
      "execution_count": null,
      "outputs": [
        {
          "output_type": "display_data",
          "data": {
            "text/plain": [
              "\n",
              "Call:\n",
              "lm(formula = df$`not listed plans of yravel` ~ df$`conversion after long time`, \n",
              "    data = df)\n",
              "\n",
              "Coefficients:\n",
              "                    (Intercept)  df$`conversion after long time`  \n",
              "                          5.205                            0.172  \n"
            ]
          },
          "metadata": {}
        },
        {
          "output_type": "display_data",
          "data": {
            "text/plain": [
              "\n",
              "Call:\n",
              "lm(formula = df$`not listed plans of yravel` ~ df$`conversion after long time`, \n",
              "    data = df)\n",
              "\n",
              "Residuals:\n",
              "    Min      1Q  Median      3Q     Max \n",
              "-5.7559 -1.7226  0.3133  2.2591  3.9512 \n",
              "\n",
              "Coefficients:\n",
              "                                Estimate Std. Error t value Pr(>|t|)    \n",
              "(Intercept)                       5.2048     1.2929   4.026 0.000262 ***\n",
              "df$`conversion after long time`   0.1720     0.1705   1.009 0.319477    \n",
              "---\n",
              "Signif. codes:  0 ‘***’ 0.001 ‘**’ 0.01 ‘*’ 0.05 ‘.’ 0.1 ‘ ’ 1\n",
              "\n",
              "Residual standard error: 2.803 on 38 degrees of freedom\n",
              "Multiple R-squared:  0.02608,\tAdjusted R-squared:  0.0004502 \n",
              "F-statistic: 1.018 on 1 and 38 DF,  p-value: 0.3195\n"
            ]
          },
          "metadata": {}
        }
      ]
    },
    {
      "cell_type": "code",
      "source": [
        "plot(df$`not listed plans of yravel` ~ df$`conversion after long time`, data = df, pch=20,col = \"blue\")\n",
        "abline(model1)"
      ],
      "metadata": {
        "colab": {
          "base_uri": "https://localhost:8080/",
          "height": 437
        },
        "id": "WucyWzOKFyLs",
        "outputId": "f50401eb-b0d0-4884-c5cd-33d0f5721985"
      },
      "execution_count": null,
      "outputs": [
        {
          "output_type": "display_data",
          "data": {
            "text/plain": [
              "plot without title"
            ],
            "image/png": "[encoded data removed]"
          },
          "metadata": {
            "image/png": {
              "width": 420,
              "height": 420
            }
          }
        }
      ]
    },
    {
      "cell_type": "markdown",
      "source": [
        "I make model2 of go ahead in life and focus on goal, model shows that every participation are linearly increase."
      ],
      "metadata": {
        "id": "5jIc8TEZaNwG"
      }
    },
    {
      "cell_type": "code",
      "source": [
        "model2 <- lm(df$`go ahead in life` ~ df$`focus on goals`, data = df)\n",
        "model2\n",
        "summary(model2)"
      ],
      "metadata": {
        "colab": {
          "base_uri": "https://localhost:8080/",
          "height": 451
        },
        "id": "sJVfWy3OMmaZ",
        "outputId": "9fa58a1d-713c-4f84-aace-db12de8729da"
      },
      "execution_count": null,
      "outputs": [
        {
          "output_type": "display_data",
          "data": {
            "text/plain": [
              "\n",
              "Call:\n",
              "lm(formula = df$`go ahead in life` ~ df$`focus on goals`, data = df)\n",
              "\n",
              "Coefficients:\n",
              "        (Intercept)  df$`focus on goals`  \n",
              "             1.7496               0.3622  \n"
            ]
          },
          "metadata": {}
        },
        {
          "output_type": "display_data",
          "data": {
            "text/plain": [
              "\n",
              "Call:\n",
              "lm(formula = df$`go ahead in life` ~ df$`focus on goals`, data = df)\n",
              "\n",
              "Residuals:\n",
              "    Min      1Q  Median      3Q     Max \n",
              "-5.0091 -1.6077 -0.1823  1.9236  5.3018 \n",
              "\n",
              "Coefficients:\n",
              "                    Estimate Std. Error t value Pr(>|t|)  \n",
              "(Intercept)           1.7496     0.9451   1.851   0.0719 .\n",
              "df$`focus on goals`   0.3622     0.1403   2.581   0.0138 *\n",
              "---\n",
              "Signif. codes:  0 ‘***’ 0.001 ‘**’ 0.01 ‘*’ 0.05 ‘.’ 0.1 ‘ ’ 1\n",
              "\n",
              "Residual standard error: 2.404 on 38 degrees of freedom\n",
              "Multiple R-squared:  0.1492,\tAdjusted R-squared:  0.1268 \n",
              "F-statistic: 6.664 on 1 and 38 DF,  p-value: 0.01382\n"
            ]
          },
          "metadata": {}
        }
      ]
    },
    {
      "cell_type": "code",
      "source": [
        "plot(df$`go ahead in life` ~ df$`focus on goals`, data = df, pch=20,col = \"green\")\n",
        "abline(model2)"
      ],
      "metadata": {
        "colab": {
          "base_uri": "https://localhost:8080/",
          "height": 437
        },
        "id": "TKOta8y-Pm21",
        "outputId": "f59a7ce0-6c92-4a51-f081-841218d85b08"
      },
      "execution_count": null,
      "outputs": [
        {
          "output_type": "display_data",
          "data": {
            "text/plain": [
              "plot without title"
            ],
            "image/png": "[encoded data removed]"
          },
          "metadata": {
            "image/png": {
              "width": 420,
              "height": 420
            }
          }
        }
      ]
    },
    {
      "cell_type": "markdown",
      "source": [
        "I make model of support emotionally or solve problem and cry infront of others , model shows that every participation are intersted on more than 8 to 10."
      ],
      "metadata": {
        "id": "J2FJrdUKaqjg"
      }
    },
    {
      "cell_type": "code",
      "source": [
        "model3 <- lm(df$`support emotionally or solve problem` ~ df$`cry infront of others`, data = df)\n",
        "model3\n",
        "summary(model3)"
      ],
      "metadata": {
        "colab": {
          "base_uri": "https://localhost:8080/",
          "height": 486
        },
        "id": "6_tzn0trO33E",
        "outputId": "ad7629e1-55c7-4534-c72c-d6d1bc88f936"
      },
      "execution_count": null,
      "outputs": [
        {
          "output_type": "display_data",
          "data": {
            "text/plain": [
              "\n",
              "Call:\n",
              "lm(formula = df$`support emotionally or solve problem` ~ df$`cry infront of others`, \n",
              "    data = df)\n",
              "\n",
              "Coefficients:\n",
              "               (Intercept)  df$`cry infront of others`  \n",
              "                    6.4528                     -0.0169  \n"
            ]
          },
          "metadata": {}
        },
        {
          "output_type": "display_data",
          "data": {
            "text/plain": [
              "\n",
              "Call:\n",
              "lm(formula = df$`support emotionally or solve problem` ~ df$`cry infront of others`, \n",
              "    data = df)\n",
              "\n",
              "Residuals:\n",
              "    Min      1Q  Median      3Q     Max \n",
              "-6.4528 -1.7928  0.1893  2.4779  3.6993 \n",
              "\n",
              "Coefficients:\n",
              "                           Estimate Std. Error t value Pr(>|t|)    \n",
              "(Intercept)                  6.4528     1.0484   6.155 3.49e-07 ***\n",
              "df$`cry infront of others`  -0.0169     0.1407  -0.120    0.905    \n",
              "---\n",
              "Signif. codes:  0 ‘***’ 0.001 ‘**’ 0.01 ‘*’ 0.05 ‘.’ 0.1 ‘ ’ 1\n",
              "\n",
              "Residual standard error: 2.667 on 38 degrees of freedom\n",
              "Multiple R-squared:  0.0003794,\tAdjusted R-squared:  -0.02593 \n",
              "F-statistic: 0.01442 on 1 and 38 DF,  p-value: 0.905\n"
            ]
          },
          "metadata": {}
        }
      ]
    },
    {
      "cell_type": "code",
      "source": [
        "plot(df$`support emotionally or solve problem` ~ df$`cry infront of others`, data = df, pch=20,col = \"orange\")\n",
        "abline(model3)"
      ],
      "metadata": {
        "colab": {
          "base_uri": "https://localhost:8080/",
          "height": 437
        },
        "id": "cmCYz4vtO3z6",
        "outputId": "c5c7758e-2e80-4bf6-89d6-f44b73143bd6"
      },
      "execution_count": null,
      "outputs": [
        {
          "output_type": "display_data",
          "data": {
            "text/plain": [
              "plot without title"
            ],
            "image/png": "[encoded data removed]"
          },
          "metadata": {
            "image/png": {
              "width": 420,
              "height": 420
            }
          }
        }
      ]
    },
    {
      "cell_type": "markdown",
      "source": [
        "I make model of mood change and feeling and emotion, model shows that every participation are different from others or there is no corelation on the graph."
      ],
      "metadata": {
        "id": "3B6mOFMKbSAM"
      }
    },
    {
      "cell_type": "code",
      "source": [
        "model4  <- lm(df$`mood change` ~ df$`feeling and emotion`, data = df)\n",
        "model4\n",
        "summary(model4)"
      ],
      "metadata": {
        "colab": {
          "base_uri": "https://localhost:8080/",
          "height": 451
        },
        "id": "7zyq4aXiO3w0",
        "outputId": "e8c2465e-d258-4c15-9624-7f7f3713a8a8"
      },
      "execution_count": null,
      "outputs": [
        {
          "output_type": "display_data",
          "data": {
            "text/plain": [
              "\n",
              "Call:\n",
              "lm(formula = df$`mood change` ~ df$`feeling and emotion`, data = df)\n",
              "\n",
              "Coefficients:\n",
              "             (Intercept)  df$`feeling and emotion`  \n",
              "                  4.7431                    0.2218  \n"
            ]
          },
          "metadata": {}
        },
        {
          "output_type": "display_data",
          "data": {
            "text/plain": [
              "\n",
              "Call:\n",
              "lm(formula = df$`mood change` ~ df$`feeling and emotion`, data = df)\n",
              "\n",
              "Residuals:\n",
              "    Min      1Q  Median      3Q     Max \n",
              "-4.7431 -1.8964 -0.0634  2.6198  4.8329 \n",
              "\n",
              "Coefficients:\n",
              "                         Estimate Std. Error t value Pr(>|t|)    \n",
              "(Intercept)                4.7431     0.9011   5.264 5.81e-06 ***\n",
              "df$`feeling and emotion`   0.2218     0.1552   1.429    0.161    \n",
              "---\n",
              "Signif. codes:  0 ‘***’ 0.001 ‘**’ 0.01 ‘*’ 0.05 ‘.’ 0.1 ‘ ’ 1\n",
              "\n",
              "Residual standard error: 2.698 on 38 degrees of freedom\n",
              "Multiple R-squared:  0.05101,\tAdjusted R-squared:  0.02604 \n",
              "F-statistic: 2.043 on 1 and 38 DF,  p-value: 0.1611\n"
            ]
          },
          "metadata": {}
        }
      ]
    },
    {
      "cell_type": "code",
      "source": [
        "plot(df$`mood change` ~ df$`feeling and emotion`, data = df, pch=20,col = \"brown\")\n",
        "abline(model4)"
      ],
      "metadata": {
        "colab": {
          "base_uri": "https://localhost:8080/",
          "height": 437
        },
        "id": "PSlm0rycQuFK",
        "outputId": "b4f47b49-16f1-4151-8f08-5237c4bcf59b"
      },
      "execution_count": null,
      "outputs": [
        {
          "output_type": "display_data",
          "data": {
            "text/plain": [
              "plot without title"
            ],
            "image/png": "[encoded data removed]"
          },
          "metadata": {
            "image/png": {
              "width": 420,
              "height": 420
            }
          }
        }
      ]
    },
    {
      "cell_type": "markdown",
      "source": [
        "I make model5 of disappointment and emotion control, model shows that every participation are incerasing by incerasing disappointment and emotion control.\n",
        "\n",
        "this graph is linear."
      ],
      "metadata": {
        "id": "soozIAGSb4n_"
      }
    },
    {
      "cell_type": "code",
      "source": [
        "model5 <- lm(df$disappointment ~ df$`emotion control`, data = df)\n",
        "model5\n",
        "summary(model5)"
      ],
      "metadata": {
        "colab": {
          "base_uri": "https://localhost:8080/",
          "height": 451
        },
        "id": "LPwhBNxIO3tV",
        "outputId": "36581df4-4717-4aae-e83d-dfb2c35dca6d"
      },
      "execution_count": null,
      "outputs": [
        {
          "output_type": "display_data",
          "data": {
            "text/plain": [
              "\n",
              "Call:\n",
              "lm(formula = df$disappointment ~ df$`emotion control`, data = df)\n",
              "\n",
              "Coefficients:\n",
              "         (Intercept)  df$`emotion control`  \n",
              "              3.0330                0.3952  \n"
            ]
          },
          "metadata": {}
        },
        {
          "output_type": "display_data",
          "data": {
            "text/plain": [
              "\n",
              "Call:\n",
              "lm(formula = df$disappointment ~ df$`emotion control`, data = df)\n",
              "\n",
              "Residuals:\n",
              "    Min      1Q  Median      3Q     Max \n",
              "-3.0330 -1.7969  0.0826  1.5026  4.2861 \n",
              "\n",
              "Coefficients:\n",
              "                     Estimate Std. Error t value Pr(>|t|)    \n",
              "(Intercept)            3.0330     0.6593   4.600 4.59e-05 ***\n",
              "df$`emotion control`   0.3952     0.1230   3.214  0.00267 ** \n",
              "---\n",
              "Signif. codes:  0 ‘***’ 0.001 ‘**’ 0.01 ‘*’ 0.05 ‘.’ 0.1 ‘ ’ 1\n",
              "\n",
              "Residual standard error: 2.145 on 38 degrees of freedom\n",
              "Multiple R-squared:  0.2137,\tAdjusted R-squared:  0.1931 \n",
              "F-statistic: 10.33 on 1 and 38 DF,  p-value: 0.002669\n"
            ]
          },
          "metadata": {}
        }
      ]
    },
    {
      "cell_type": "code",
      "source": [
        "plot(df$disappointment ~ df$`emotion control`, data = df, pch=20,col = \"red\")\n",
        "abline(model5)"
      ],
      "metadata": {
        "colab": {
          "base_uri": "https://localhost:8080/",
          "height": 437
        },
        "id": "g_ARbHGPO3ph",
        "outputId": "e6283c4b-39c7-42f5-c3e3-c85e1197ebce"
      },
      "execution_count": null,
      "outputs": [
        {
          "output_type": "display_data",
          "data": {
            "text/plain": [
              "plot without title"
            ],
            "image/png": "[encoded data removed]"
          },
          "metadata": {
            "image/png": {
              "width": 420,
              "height": 420
            }
          }
        }
      ]
    },
    {
      "cell_type": "markdown",
      "source": [
        "## Model Comparison"
      ],
      "metadata": {
        "id": "2jGTDbKYcaeV"
      }
    },
    {
      "cell_type": "markdown",
      "source": [
        "I did model comparison by using anova function. i did five comparison of different linear regression."
      ],
      "metadata": {
        "id": "z-MGkRa0dgIj"
      }
    },
    {
      "cell_type": "markdown",
      "source": [
        "I compare my first and second model and find sum and mean of two model.\n",
        "so, I can see that mean is very close of two model.whereas the sum is very different for this two model."
      ],
      "metadata": {
        "id": "Q1KQEvASdK1t"
      }
    },
    {
      "cell_type": "code",
      "source": [
        "anova(model1, model2)"
      ],
      "metadata": {
        "colab": {
          "base_uri": "https://localhost:8080/",
          "height": 196
        },
        "id": "vx_DCk1DKCG0",
        "outputId": "07d9c557-4d28-4319-a72e-e5787db6c132"
      },
      "execution_count": null,
      "outputs": [
        {
          "output_type": "stream",
          "name": "stderr",
          "text": [
            "Warning message in anova.lmlist(object, ...):\n",
            "“models with response ‘\"df$`go ahead in life`\"’ removed because response differs from model 1”\n"
          ]
        },
        {
          "output_type": "display_data",
          "data": {
            "text/html": [
              "<table class=\"dataframe\">\n",
              "<caption>A anova: 2 × 5</caption>\n",
              "<thead>\n",
              "\t<tr><th></th><th scope=col>Df</th><th scope=col>Sum Sq</th><th scope=col>Mean Sq</th><th scope=col>F value</th><th scope=col>Pr(&gt;F)</th></tr>\n",
              "\t<tr><th></th><th scope=col>&lt;int&gt;</th><th scope=col>&lt;dbl&gt;</th><th scope=col>&lt;dbl&gt;</th><th scope=col>&lt;dbl&gt;</th><th scope=col>&lt;dbl&gt;</th></tr>\n",
              "</thead>\n",
              "<tbody>\n",
              "\t<tr><th scope=row>df$`conversion after long time`</th><td> 1</td><td>  7.995099</td><td>7.995099</td><td>1.017567</td><td>0.3194773</td></tr>\n",
              "\t<tr><th scope=row>Residuals</th><td>38</td><td>298.568901</td><td>7.857076</td><td>      NA</td><td>       NA</td></tr>\n",
              "</tbody>\n",
              "</table>\n"
            ],
            "text/markdown": "\nA anova: 2 × 5\n\n| <!--/--> | Df &lt;int&gt; | Sum Sq &lt;dbl&gt; | Mean Sq &lt;dbl&gt; | F value &lt;dbl&gt; | Pr(&gt;F) &lt;dbl&gt; |\n|---|---|---|---|---|---|\n| df$`conversion after long time` |  1 |   7.995099 | 7.995099 | 1.017567 | 0.3194773 |\n| Residuals | 38 | 298.568901 | 7.857076 |       NA |        NA |\n\n",
            "text/latex": "A anova: 2 × 5\n\\begin{tabular}{r|lllll}\n  & Df & Sum Sq & Mean Sq & F value & Pr(>F)\\\\\n  & <int> & <dbl> & <dbl> & <dbl> & <dbl>\\\\\n\\hline\n\tdf\\$`conversion after long time` &  1 &   7.995099 & 7.995099 & 1.017567 & 0.3194773\\\\\n\tResiduals & 38 & 298.568901 & 7.857076 &       NA &        NA\\\\\n\\end{tabular}\n",
            "text/plain": [
              "                                Df Sum Sq     Mean Sq  F value  Pr(>F)   \n",
              "df$`conversion after long time`  1   7.995099 7.995099 1.017567 0.3194773\n",
              "Residuals                       38 298.568901 7.857076       NA        NA"
            ]
          },
          "metadata": {}
        }
      ]
    },
    {
      "cell_type": "markdown",
      "source": [
        "I compare my second and third model and find sum and mean of two model. so, I can see that mean and sum is very different in two model.\n"
      ],
      "metadata": {
        "id": "Sa_6oBLseY5x"
      }
    },
    {
      "cell_type": "code",
      "source": [
        "anova(model2, model3)"
      ],
      "metadata": {
        "colab": {
          "base_uri": "https://localhost:8080/",
          "height": 196
        },
        "id": "5Z7x0zb1M9H6",
        "outputId": "eedad5b6-f0a6-418b-8b20-6e6db1e3bbab"
      },
      "execution_count": null,
      "outputs": [
        {
          "output_type": "stream",
          "name": "stderr",
          "text": [
            "Warning message in anova.lmlist(object, ...):\n",
            "“models with response ‘\"df$`support emotionally or solve problem`\"’ removed because response differs from model 1”\n"
          ]
        },
        {
          "output_type": "display_data",
          "data": {
            "text/html": [
              "<table class=\"dataframe\">\n",
              "<caption>A anova: 2 × 5</caption>\n",
              "<thead>\n",
              "\t<tr><th></th><th scope=col>Df</th><th scope=col>Sum Sq</th><th scope=col>Mean Sq</th><th scope=col>F value</th><th scope=col>Pr(&gt;F)</th></tr>\n",
              "\t<tr><th></th><th scope=col>&lt;int&gt;</th><th scope=col>&lt;dbl&gt;</th><th scope=col>&lt;dbl&gt;</th><th scope=col>&lt;dbl&gt;</th><th scope=col>&lt;dbl&gt;</th></tr>\n",
              "</thead>\n",
              "<tbody>\n",
              "\t<tr><th scope=row>df$`focus on goals`</th><td> 1</td><td> 38.50628</td><td>38.506283</td><td>6.663656</td><td>0.0138227</td></tr>\n",
              "\t<tr><th scope=row>Residuals</th><td>38</td><td>219.58499</td><td> 5.778552</td><td>      NA</td><td>       NA</td></tr>\n",
              "</tbody>\n",
              "</table>\n"
            ],
            "text/markdown": "\nA anova: 2 × 5\n\n| <!--/--> | Df &lt;int&gt; | Sum Sq &lt;dbl&gt; | Mean Sq &lt;dbl&gt; | F value &lt;dbl&gt; | Pr(&gt;F) &lt;dbl&gt; |\n|---|---|---|---|---|---|\n| df$`focus on goals` |  1 |  38.50628 | 38.506283 | 6.663656 | 0.0138227 |\n| Residuals | 38 | 219.58499 |  5.778552 |       NA |        NA |\n\n",
            "text/latex": "A anova: 2 × 5\n\\begin{tabular}{r|lllll}\n  & Df & Sum Sq & Mean Sq & F value & Pr(>F)\\\\\n  & <int> & <dbl> & <dbl> & <dbl> & <dbl>\\\\\n\\hline\n\tdf\\$`focus on goals` &  1 &  38.50628 & 38.506283 & 6.663656 & 0.0138227\\\\\n\tResiduals & 38 & 219.58499 &  5.778552 &       NA &        NA\\\\\n\\end{tabular}\n",
            "text/plain": [
              "                    Df Sum Sq    Mean Sq   F value  Pr(>F)   \n",
              "df$`focus on goals`  1  38.50628 38.506283 6.663656 0.0138227\n",
              "Residuals           38 219.58499  5.778552       NA        NA"
            ]
          },
          "metadata": {}
        }
      ]
    },
    {
      "cell_type": "markdown",
      "source": [
        "I compare my third and fourth model and find sum and mean of two model. so, I can see that in cry infront of others, sum and mean is very close to zero. "
      ],
      "metadata": {
        "id": "rJas1vxpetz9"
      }
    },
    {
      "cell_type": "code",
      "source": [
        "anova(model3,model4)"
      ],
      "metadata": {
        "colab": {
          "base_uri": "https://localhost:8080/",
          "height": 196
        },
        "id": "_E82T63ySXGH",
        "outputId": "33344d0d-5cff-4ea7-cf05-23439228c329"
      },
      "execution_count": null,
      "outputs": [
        {
          "output_type": "stream",
          "name": "stderr",
          "text": [
            "Warning message in anova.lmlist(object, ...):\n",
            "“models with response ‘\"df$`mood change`\"’ removed because response differs from model 1”\n"
          ]
        },
        {
          "output_type": "display_data",
          "data": {
            "text/html": [
              "<table class=\"dataframe\">\n",
              "<caption>A anova: 2 × 5</caption>\n",
              "<thead>\n",
              "\t<tr><th></th><th scope=col>Df</th><th scope=col>Sum Sq</th><th scope=col>Mean Sq</th><th scope=col>F value</th><th scope=col>Pr(&gt;F)</th></tr>\n",
              "\t<tr><th></th><th scope=col>&lt;int&gt;</th><th scope=col>&lt;dbl&gt;</th><th scope=col>&lt;dbl&gt;</th><th scope=col>&lt;dbl&gt;</th><th scope=col>&lt;dbl&gt;</th></tr>\n",
              "</thead>\n",
              "<tbody>\n",
              "\t<tr><th scope=row>df$`cry infront of others`</th><td> 1</td><td>  0.1025966</td><td>0.1025966</td><td>0.0144229</td><td>0.9050403</td></tr>\n",
              "\t<tr><th scope=row>Residuals</th><td>38</td><td>270.3111534</td><td>7.1134514</td><td>       NA</td><td>       NA</td></tr>\n",
              "</tbody>\n",
              "</table>\n"
            ],
            "text/markdown": "\nA anova: 2 × 5\n\n| <!--/--> | Df &lt;int&gt; | Sum Sq &lt;dbl&gt; | Mean Sq &lt;dbl&gt; | F value &lt;dbl&gt; | Pr(&gt;F) &lt;dbl&gt; |\n|---|---|---|---|---|---|\n| df$`cry infront of others` |  1 |   0.1025966 | 0.1025966 | 0.0144229 | 0.9050403 |\n| Residuals | 38 | 270.3111534 | 7.1134514 |        NA |        NA |\n\n",
            "text/latex": "A anova: 2 × 5\n\\begin{tabular}{r|lllll}\n  & Df & Sum Sq & Mean Sq & F value & Pr(>F)\\\\\n  & <int> & <dbl> & <dbl> & <dbl> & <dbl>\\\\\n\\hline\n\tdf\\$`cry infront of others` &  1 &   0.1025966 & 0.1025966 & 0.0144229 & 0.9050403\\\\\n\tResiduals & 38 & 270.3111534 & 7.1134514 &        NA &        NA\\\\\n\\end{tabular}\n",
            "text/plain": [
              "                           Df Sum Sq      Mean Sq   F value   Pr(>F)   \n",
              "df$`cry infront of others`  1   0.1025966 0.1025966 0.0144229 0.9050403\n",
              "Residuals                  38 270.3111534 7.1134514        NA        NA"
            ]
          },
          "metadata": {}
        }
      ]
    },
    {
      "cell_type": "markdown",
      "source": [
        "I compare my fouth and fifth model and find sum and mean of two model. so, I can see that in feeling and emotion, sum and mean is very close to 15. "
      ],
      "metadata": {
        "id": "oATlbozWfAnn"
      }
    },
    {
      "cell_type": "code",
      "source": [
        "anova(model4, model5)"
      ],
      "metadata": {
        "colab": {
          "base_uri": "https://localhost:8080/",
          "height": 196
        },
        "id": "wQmZzHAQSbdl",
        "outputId": "1a5e67c1-ce74-4245-8f5a-cd10cf4ae0b3"
      },
      "execution_count": null,
      "outputs": [
        {
          "output_type": "stream",
          "name": "stderr",
          "text": [
            "Warning message in anova.lmlist(object, ...):\n",
            "“models with response ‘\"df$disappointment\"’ removed because response differs from model 1”\n"
          ]
        },
        {
          "output_type": "display_data",
          "data": {
            "text/html": [
              "<table class=\"dataframe\">\n",
              "<caption>A anova: 2 × 5</caption>\n",
              "<thead>\n",
              "\t<tr><th></th><th scope=col>Df</th><th scope=col>Sum Sq</th><th scope=col>Mean Sq</th><th scope=col>F value</th><th scope=col>Pr(&gt;F)</th></tr>\n",
              "\t<tr><th></th><th scope=col>&lt;int&gt;</th><th scope=col>&lt;dbl&gt;</th><th scope=col>&lt;dbl&gt;</th><th scope=col>&lt;dbl&gt;</th><th scope=col>&lt;dbl&gt;</th></tr>\n",
              "</thead>\n",
              "<tbody>\n",
              "\t<tr><th scope=row>df$`feeling and emotion`</th><td> 1</td><td> 14.87047</td><td>14.870467</td><td>2.042652</td><td>0.1611126</td></tr>\n",
              "\t<tr><th scope=row>Residuals</th><td>38</td><td>276.63928</td><td> 7.279981</td><td>      NA</td><td>       NA</td></tr>\n",
              "</tbody>\n",
              "</table>\n"
            ],
            "text/markdown": "\nA anova: 2 × 5\n\n| <!--/--> | Df &lt;int&gt; | Sum Sq &lt;dbl&gt; | Mean Sq &lt;dbl&gt; | F value &lt;dbl&gt; | Pr(&gt;F) &lt;dbl&gt; |\n|---|---|---|---|---|---|\n| df$`feeling and emotion` |  1 |  14.87047 | 14.870467 | 2.042652 | 0.1611126 |\n| Residuals | 38 | 276.63928 |  7.279981 |       NA |        NA |\n\n",
            "text/latex": "A anova: 2 × 5\n\\begin{tabular}{r|lllll}\n  & Df & Sum Sq & Mean Sq & F value & Pr(>F)\\\\\n  & <int> & <dbl> & <dbl> & <dbl> & <dbl>\\\\\n\\hline\n\tdf\\$`feeling and emotion` &  1 &  14.87047 & 14.870467 & 2.042652 & 0.1611126\\\\\n\tResiduals & 38 & 276.63928 &  7.279981 &       NA &        NA\\\\\n\\end{tabular}\n",
            "text/plain": [
              "                         Df Sum Sq    Mean Sq   F value  Pr(>F)   \n",
              "df$`feeling and emotion`  1  14.87047 14.870467 2.042652 0.1611126\n",
              "Residuals                38 276.63928  7.279981       NA        NA"
            ]
          },
          "metadata": {}
        }
      ]
    },
    {
      "cell_type": "markdown",
      "source": [
        "## Multiple Linear Regression\n",
        "In the multiple regression, compare one column with other many columns and find summary of the data."
      ],
      "metadata": {
        "id": "74c2jrGpfqe3"
      }
    },
    {
      "cell_type": "markdown",
      "source": [
        "In the first multiple linear regression, I compared participation in social ivents with philosophical interest,imagine life,revenge or forgive ,decision on whim and focus on today or future.<br>\n",
        "And plot summary."
      ],
      "metadata": {
        "id": "T8lPbOH9gdeC"
      }
    },
    {
      "cell_type": "code",
      "source": [
        "m1 <- lm(df$`participation in social events` ~ +df$`philosophical interest`+df$`imagine life`+df$`revenge or forgive`+df$`decision on whim`+df$`focus on today or future` , data = df)\n",
        "summary(m1)"
      ],
      "metadata": {
        "colab": {
          "base_uri": "https://localhost:8080/",
          "height": 434
        },
        "id": "yNrZ7FikSeAC",
        "outputId": "40281206-cf8f-4321-8360-b09f3e30026f"
      },
      "execution_count": null,
      "outputs": [
        {
          "output_type": "display_data",
          "data": {
            "text/plain": [
              "\n",
              "Call:\n",
              "lm(formula = df$`participation in social events` ~ +df$`philosophical interest` + \n",
              "    df$`imagine life` + df$`revenge or forgive` + df$`decision on whim` + \n",
              "    df$`focus on today or future`, data = df)\n",
              "\n",
              "Residuals:\n",
              "    Min      1Q  Median      3Q     Max \n",
              "-6.4902 -1.1598  0.3664  1.5595  4.7689 \n",
              "\n",
              "Coefficients:\n",
              "                              Estimate Std. Error t value Pr(>|t|)   \n",
              "(Intercept)                    4.08782    1.33783   3.056  0.00435 **\n",
              "df$`philosophical interest`   -0.02200    0.16819  -0.131  0.89672   \n",
              "df$`imagine life`              0.21871    0.18535   1.180  0.24619   \n",
              "df$`revenge or forgive`       -0.04702    0.16750  -0.281  0.78062   \n",
              "df$`decision on whim`         -0.08872    0.16925  -0.524  0.60354   \n",
              "df$`focus on today or future`  0.37957    0.18148   2.091  0.04403 * \n",
              "---\n",
              "Signif. codes:  0 ‘***’ 0.001 ‘**’ 0.01 ‘*’ 0.05 ‘.’ 0.1 ‘ ’ 1\n",
              "\n",
              "Residual standard error: 2.396 on 34 degrees of freedom\n",
              "Multiple R-squared:  0.2224,\tAdjusted R-squared:  0.1081 \n",
              "F-statistic: 1.945 on 5 and 34 DF,  p-value: 0.1125\n"
            ]
          },
          "metadata": {}
        }
      ]
    },
    {
      "cell_type": "code",
      "source": [
        "summary(m1)$coefficient"
      ],
      "metadata": {
        "colab": {
          "base_uri": "https://localhost:8080/",
          "height": 255
        },
        "id": "CoylfU_QVdf8",
        "outputId": "f3915c5c-5c91-44ed-8661-ff6373a66d3b"
      },
      "execution_count": null,
      "outputs": [
        {
          "output_type": "display_data",
          "data": {
            "text/html": [
              "<table class=\"dataframe\">\n",
              "<caption>A matrix: 6 × 4 of type dbl</caption>\n",
              "<thead>\n",
              "\t<tr><th></th><th scope=col>Estimate</th><th scope=col>Std. Error</th><th scope=col>t value</th><th scope=col>Pr(&gt;|t|)</th></tr>\n",
              "</thead>\n",
              "<tbody>\n",
              "\t<tr><th scope=row>(Intercept)</th><td> 4.08781630</td><td>1.3378260</td><td> 3.0555666</td><td>0.004350016</td></tr>\n",
              "\t<tr><th scope=row>df$`philosophical interest`</th><td>-0.02199577</td><td>0.1681886</td><td>-0.1307804</td><td>0.896719769</td></tr>\n",
              "\t<tr><th scope=row>df$`imagine life`</th><td> 0.21870827</td><td>0.1853454</td><td> 1.1800039</td><td>0.246189063</td></tr>\n",
              "\t<tr><th scope=row>df$`revenge or forgive`</th><td>-0.04702339</td><td>0.1675039</td><td>-0.2807300</td><td>0.780618710</td></tr>\n",
              "\t<tr><th scope=row>df$`decision on whim`</th><td>-0.08872064</td><td>0.1692500</td><td>-0.5241987</td><td>0.603541260</td></tr>\n",
              "\t<tr><th scope=row>df$`focus on today or future`</th><td> 0.37956735</td><td>0.1814820</td><td> 2.0914873</td><td>0.044027748</td></tr>\n",
              "</tbody>\n",
              "</table>\n"
            ],
            "text/markdown": "\nA matrix: 6 × 4 of type dbl\n\n| <!--/--> | Estimate | Std. Error | t value | Pr(&gt;|t|) |\n|---|---|---|---|---|\n| (Intercept) |  4.08781630 | 1.3378260 |  3.0555666 | 0.004350016 |\n| df$`philosophical interest` | -0.02199577 | 0.1681886 | -0.1307804 | 0.896719769 |\n| df$`imagine life` |  0.21870827 | 0.1853454 |  1.1800039 | 0.246189063 |\n| df$`revenge or forgive` | -0.04702339 | 0.1675039 | -0.2807300 | 0.780618710 |\n| df$`decision on whim` | -0.08872064 | 0.1692500 | -0.5241987 | 0.603541260 |\n| df$`focus on today or future` |  0.37956735 | 0.1814820 |  2.0914873 | 0.044027748 |\n\n",
            "text/latex": "A matrix: 6 × 4 of type dbl\n\\begin{tabular}{r|llll}\n  & Estimate & Std. Error & t value & Pr(>\\textbar{}t\\textbar{})\\\\\n\\hline\n\t(Intercept) &  4.08781630 & 1.3378260 &  3.0555666 & 0.004350016\\\\\n\tdf\\$`philosophical interest` & -0.02199577 & 0.1681886 & -0.1307804 & 0.896719769\\\\\n\tdf\\$`imagine life` &  0.21870827 & 0.1853454 &  1.1800039 & 0.246189063\\\\\n\tdf\\$`revenge or forgive` & -0.04702339 & 0.1675039 & -0.2807300 & 0.780618710\\\\\n\tdf\\$`decision on whim` & -0.08872064 & 0.1692500 & -0.5241987 & 0.603541260\\\\\n\tdf\\$`focus on today or future` &  0.37956735 & 0.1814820 &  2.0914873 & 0.044027748\\\\\n\\end{tabular}\n",
            "text/plain": [
              "                              Estimate    Std. Error t value    Pr(>|t|)   \n",
              "(Intercept)                    4.08781630 1.3378260   3.0555666 0.004350016\n",
              "df$`philosophical interest`   -0.02199577 0.1681886  -0.1307804 0.896719769\n",
              "df$`imagine life`              0.21870827 0.1853454   1.1800039 0.246189063\n",
              "df$`revenge or forgive`       -0.04702339 0.1675039  -0.2807300 0.780618710\n",
              "df$`decision on whim`         -0.08872064 0.1692500  -0.5241987 0.603541260\n",
              "df$`focus on today or future`  0.37956735 0.1814820   2.0914873 0.044027748"
            ]
          },
          "metadata": {}
        }
      ]
    },
    {
      "cell_type": "markdown",
      "source": [
        "In the second multiple linear regression, I compared explore unrealistic with ,back to plans,bothered about mistake,alone in parties ,go ahead in life, goal fix and emotion control.<br>\n",
        "And plot summary."
      ],
      "metadata": {
        "id": "TLmORaQihJ1c"
      }
    },
    {
      "cell_type": "code",
      "source": [
        "m2 <- lm(df$`explore unrealistic` ~ df$`back to plans`+df$`bothered about mistake`+df$`alone in parties`+df$`go ahead in life`+df$`focus on goals`+df$`goal fix`+df$`emotion control` , data = df)\n",
        "summary(m2)"
      ],
      "metadata": {
        "colab": {
          "base_uri": "https://localhost:8080/",
          "height": 486
        },
        "id": "OLgbNEkdVfUV",
        "outputId": "2f59c370-317d-4ae8-f235-e900c40de1c6"
      },
      "execution_count": null,
      "outputs": [
        {
          "output_type": "display_data",
          "data": {
            "text/plain": [
              "\n",
              "Call:\n",
              "lm(formula = df$`explore unrealistic` ~ df$`back to plans` + \n",
              "    df$`bothered about mistake` + df$`alone in parties` + df$`go ahead in life` + \n",
              "    df$`focus on goals` + df$`goal fix` + df$`emotion control`, \n",
              "    data = df)\n",
              "\n",
              "Residuals:\n",
              "    Min      1Q  Median      3Q     Max \n",
              "-4.5951 -1.3657  0.3386  1.3585  3.6100 \n",
              "\n",
              "Coefficients:\n",
              "                            Estimate Std. Error t value Pr(>|t|)   \n",
              "(Intercept)                  2.46496    1.47532   1.671  0.10451   \n",
              "df$`back to plans`           0.27423    0.18921   1.449  0.15696   \n",
              "df$`bothered about mistake`  0.12639    0.15044   0.840  0.40705   \n",
              "df$`alone in parties`        0.11562    0.14129   0.818  0.41923   \n",
              "df$`go ahead in life`        0.03015    0.18192   0.166  0.86940   \n",
              "df$`focus on goals`         -0.25812    0.20082  -1.285  0.20789   \n",
              "df$`goal fix`                0.57682    0.17950   3.214  0.00299 **\n",
              "df$`emotion control`        -0.21852    0.19121  -1.143  0.26158   \n",
              "---\n",
              "Signif. codes:  0 ‘***’ 0.001 ‘**’ 0.01 ‘*’ 0.05 ‘.’ 0.1 ‘ ’ 1\n",
              "\n",
              "Residual standard error: 2.256 on 32 degrees of freedom\n",
              "Multiple R-squared:  0.349,\tAdjusted R-squared:  0.2066 \n",
              "F-statistic: 2.451 on 7 and 32 DF,  p-value: 0.03938\n"
            ]
          },
          "metadata": {}
        }
      ]
    },
    {
      "cell_type": "code",
      "source": [
        "summary(m2)$coefficient"
      ],
      "metadata": {
        "colab": {
          "base_uri": "https://localhost:8080/",
          "height": 318
        },
        "id": "nRtUxE_lWbLm",
        "outputId": "e93f4ea8-022e-45d9-d2d5-71a9046af064"
      },
      "execution_count": null,
      "outputs": [
        {
          "output_type": "display_data",
          "data": {
            "text/html": [
              "<table class=\"dataframe\">\n",
              "<caption>A matrix: 8 × 4 of type dbl</caption>\n",
              "<thead>\n",
              "\t<tr><th></th><th scope=col>Estimate</th><th scope=col>Std. Error</th><th scope=col>t value</th><th scope=col>Pr(&gt;|t|)</th></tr>\n",
              "</thead>\n",
              "<tbody>\n",
              "\t<tr><th scope=row>(Intercept)</th><td> 2.46496119</td><td>1.4753176</td><td> 1.6708003</td><td>0.104514842</td></tr>\n",
              "\t<tr><th scope=row>df$`back to plans`</th><td> 0.27423004</td><td>0.1892064</td><td> 1.4493695</td><td>0.156964621</td></tr>\n",
              "\t<tr><th scope=row>df$`bothered about mistake`</th><td> 0.12639166</td><td>0.1504356</td><td> 0.8401711</td><td>0.407046305</td></tr>\n",
              "\t<tr><th scope=row>df$`alone in parties`</th><td> 0.11561929</td><td>0.1412888</td><td> 0.8183190</td><td>0.419227277</td></tr>\n",
              "\t<tr><th scope=row>df$`go ahead in life`</th><td> 0.03015058</td><td>0.1819153</td><td> 0.1657396</td><td>0.869404563</td></tr>\n",
              "\t<tr><th scope=row>df$`focus on goals`</th><td>-0.25812309</td><td>0.2008164</td><td>-1.2853688</td><td>0.207888592</td></tr>\n",
              "\t<tr><th scope=row>df$`goal fix`</th><td> 0.57682338</td><td>0.1794988</td><td> 3.2135228</td><td>0.002988668</td></tr>\n",
              "\t<tr><th scope=row>df$`emotion control`</th><td>-0.21851992</td><td>0.1912075</td><td>-1.1428417</td><td>0.261582978</td></tr>\n",
              "</tbody>\n",
              "</table>\n"
            ],
            "text/markdown": "\nA matrix: 8 × 4 of type dbl\n\n| <!--/--> | Estimate | Std. Error | t value | Pr(&gt;|t|) |\n|---|---|---|---|---|\n| (Intercept) |  2.46496119 | 1.4753176 |  1.6708003 | 0.104514842 |\n| df$`back to plans` |  0.27423004 | 0.1892064 |  1.4493695 | 0.156964621 |\n| df$`bothered about mistake` |  0.12639166 | 0.1504356 |  0.8401711 | 0.407046305 |\n| df$`alone in parties` |  0.11561929 | 0.1412888 |  0.8183190 | 0.419227277 |\n| df$`go ahead in life` |  0.03015058 | 0.1819153 |  0.1657396 | 0.869404563 |\n| df$`focus on goals` | -0.25812309 | 0.2008164 | -1.2853688 | 0.207888592 |\n| df$`goal fix` |  0.57682338 | 0.1794988 |  3.2135228 | 0.002988668 |\n| df$`emotion control` | -0.21851992 | 0.1912075 | -1.1428417 | 0.261582978 |\n\n",
            "text/latex": "A matrix: 8 × 4 of type dbl\n\\begin{tabular}{r|llll}\n  & Estimate & Std. Error & t value & Pr(>\\textbar{}t\\textbar{})\\\\\n\\hline\n\t(Intercept) &  2.46496119 & 1.4753176 &  1.6708003 & 0.104514842\\\\\n\tdf\\$`back to plans` &  0.27423004 & 0.1892064 &  1.4493695 & 0.156964621\\\\\n\tdf\\$`bothered about mistake` &  0.12639166 & 0.1504356 &  0.8401711 & 0.407046305\\\\\n\tdf\\$`alone in parties` &  0.11561929 & 0.1412888 &  0.8183190 & 0.419227277\\\\\n\tdf\\$`go ahead in life` &  0.03015058 & 0.1819153 &  0.1657396 & 0.869404563\\\\\n\tdf\\$`focus on goals` & -0.25812309 & 0.2008164 & -1.2853688 & 0.207888592\\\\\n\tdf\\$`goal fix` &  0.57682338 & 0.1794988 &  3.2135228 & 0.002988668\\\\\n\tdf\\$`emotion control` & -0.21851992 & 0.1912075 & -1.1428417 & 0.261582978\\\\\n\\end{tabular}\n",
            "text/plain": [
              "                            Estimate    Std. Error t value    Pr(>|t|)   \n",
              "(Intercept)                  2.46496119 1.4753176   1.6708003 0.104514842\n",
              "df$`back to plans`           0.27423004 0.1892064   1.4493695 0.156964621\n",
              "df$`bothered about mistake`  0.12639166 0.1504356   0.8401711 0.407046305\n",
              "df$`alone in parties`        0.11561929 0.1412888   0.8183190 0.419227277\n",
              "df$`go ahead in life`        0.03015058 0.1819153   0.1657396 0.869404563\n",
              "df$`focus on goals`         -0.25812309 0.2008164  -1.2853688 0.207888592\n",
              "df$`goal fix`                0.57682338 0.1794988   3.2135228 0.002988668\n",
              "df$`emotion control`        -0.21851992 0.1912075  -1.1428417 0.261582978"
            ]
          },
          "metadata": {}
        }
      ]
    },
    {
      "cell_type": "markdown",
      "source": [
        "\n",
        "## **summary**\n"
      ],
      "metadata": {
        "id": "yhvbhWhrhw-l"
      }
    },
    {
      "cell_type": "markdown",
      "source": [
        "\n",
        "\n",
        "*   First, I upload xlsx file and convert into the csv file.\n",
        "\n",
        "*   Then I merge the two file and make one file.\n",
        "\n",
        "\n",
        "*   then, I start data cleaning, In that ,I clear unnessary column and rows in the data.\n",
        "\n",
        "*   After that,I remove Na file.\n",
        "\n",
        "*   Then, I convert character to numeric column.\n",
        "\n",
        "*   Then , I find linear regression of different 5 models.\n",
        "\n",
        "\n",
        "*   then , I find two model comparison.\n",
        "\n",
        "*   Then, I find two multiple linear regression.\n",
        "\n",
        "\n",
        "\n",
        "\n",
        "\n"
      ],
      "metadata": {
        "id": "-ZWPP5MviALe"
      }
    },
    {
      "cell_type": "markdown",
      "source": [
        "## Recommendations"
      ],
      "metadata": {
        "id": "lpqdtx9vjf0N"
      }
    },
    {
      "cell_type": "markdown",
      "source": [
        "As a result of the above study's references, I may suggest to San Francisco County's representatives that they analyze the personality of data science students in order to enhance the legislation and the quality of life of the residents of San Francisco before making judgments based on the study's findings.\n",
        "People's travel plans and other variables, such as those involving extroverts and social events, are frequently canceled, according to my research. Therefore, it seems simple for people to enjoy themselves and show their personalities through representative art. In the end, because each person's character varies, it is challenging to apply the same standards to all individuals, but San Francisco County's leaders have taken some steps to ensure the study's findings are accurate."
      ],
      "metadata": {
        "id": "Krlru6LyjsUo"
      }
    }
  ]
}