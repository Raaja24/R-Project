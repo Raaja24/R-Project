{
  "nbformat": 4,
  "nbformat_minor": 0,
  "metadata": {
    "colab": {
      "provenance": [],
      "include_colab_link": true
    },
    "kernelspec": {
      "name": "ir",
      "display_name": "R"
    },
    "language_info": {
      "name": "R"
    }
  },
  "cells": [
    {
      "cell_type": "markdown",
      "metadata": {
        "id": "view-in-github",
        "colab_type": "text"
      },
      "source": [
        "<a href=\"https://colab.research.google.com/github/Raaja24/R-Project/blob/main/Jobs_Project.ipynb\" target=\"_parent\"><img src=\"https://colab.research.google.com/assets/colab-badge.svg\" alt=\"Open In Colab\"/></a>"
      ]
    },
    {
      "cell_type": "markdown",
      "source": [
        "**Name:** Harsh Sanjay Shah <BR>\n",
        "**Project Name:** Jobs data \n"
      ],
      "metadata": {
        "id": "oEvl4Q0YECjn"
      }
    },
    {
      "cell_type": "markdown",
      "source": [
        "# Objective of the Proposed Research \n",
        "\n",
        "\n",
        "*   This datasets aims to analyze  data about San Francisco Controller's Office of the salary and benefits paid to City employees since fiscal year 2013.\n",
        "*   The main aim in this project to analyze and represents the various factors which have contributed in the Evolution of the Employee compensation over the time in Graphical Format an perform a comparative study between various factors.\n",
        "\n",
        "\n",
        "*   To find factors like organization group, department name of empolyees jobs on basis of year and job positions.\n",
        "* To find out the total number of over time hours and get given benefits and their compensations also other benefits Helth,Retirement,other.salary and many more.   \n",
        "\n",
        "\n",
        "\n"
      ],
      "metadata": {
        "id": "4grzK7gCFT9A"
      }
    },
    {
      "cell_type": "markdown",
      "source": [
        "\n",
        "Using the read.csv code to upload file in colab and sort first the 40 rows."
      ],
      "metadata": {
        "id": "nWQhRxQVgzgl"
      }
    },
    {
      "cell_type": "code",
      "source": [
        "data <- read.csv(\"/content/employee-compensation.csv\")"
      ],
      "metadata": {
        "id": "7yd89tFVgpD1"
      },
      "execution_count": null,
      "outputs": []
    },
    {
      "cell_type": "markdown",
      "source": [
        "##Use the head command and make 40 rows file."
      ],
      "metadata": {
        "id": "miTkAUnFzOd8"
      }
    },
    {
      "cell_type": "code",
      "source": [
        "head(data,40)"
      ],
      "metadata": {
        "colab": {
          "base_uri": "https://localhost:8080/",
          "height": 1000
        },
        "id": "hGlC7rLHj485",
        "outputId": "02843706-296a-4b75-9c83-6fc1fed82d26"
      },
      "execution_count": null,
      "outputs": [
        {
          "output_type": "display_data",
          "data": {
            "text/html": [
              "<table class=\"dataframe\">\n",
              "<caption>A data.frame: 40 × 22</caption>\n",
              "<thead>\n",
              "\t<tr><th></th><th scope=col>Organization.Group.Code</th><th scope=col>Job.Family.Code</th><th scope=col>Job.Code</th><th scope=col>Year.Type</th><th scope=col>Year</th><th scope=col>Organization.Group</th><th scope=col>Department.Code</th><th scope=col>Department</th><th scope=col>Union.Code</th><th scope=col>Union</th><th scope=col>⋯</th><th scope=col>Employee.Identifier</th><th scope=col>Salaries</th><th scope=col>Overtime</th><th scope=col>Other.Salaries</th><th scope=col>Total.Salary</th><th scope=col>Retirement</th><th scope=col>Health.and.Dental</th><th scope=col>Other.Benefits</th><th scope=col>Total.Benefits</th><th scope=col>Total.Compensation</th></tr>\n",
              "\t<tr><th></th><th scope=col>&lt;int&gt;</th><th scope=col>&lt;chr&gt;</th><th scope=col>&lt;chr&gt;</th><th scope=col>&lt;chr&gt;</th><th scope=col>&lt;int&gt;</th><th scope=col>&lt;chr&gt;</th><th scope=col>&lt;chr&gt;</th><th scope=col>&lt;chr&gt;</th><th scope=col>&lt;int&gt;</th><th scope=col>&lt;chr&gt;</th><th scope=col>⋯</th><th scope=col>&lt;int&gt;</th><th scope=col>&lt;dbl&gt;</th><th scope=col>&lt;dbl&gt;</th><th scope=col>&lt;dbl&gt;</th><th scope=col>&lt;dbl&gt;</th><th scope=col>&lt;dbl&gt;</th><th scope=col>&lt;dbl&gt;</th><th scope=col>&lt;dbl&gt;</th><th scope=col>&lt;dbl&gt;</th><th scope=col>&lt;dbl&gt;</th></tr>\n",
              "</thead>\n",
              "<tbody>\n",
              "\t<tr><th scope=row>1</th><td>1</td><td>1000</td><td>1021</td><td>Calendar</td><td>2013</td><td>Public Protection</td><td>ADP</td><td>ADP Adult Probation</td><td> 21</td><td>Prof &amp; Tech Engineers - Miscellaneous, Local 21</td><td>⋯</td><td>37730</td><td> 57534.65</td><td>0</td><td><span style=white-space:pre-wrap>    0.00</span></td><td> 57534.65</td><td>11253.16</td><td>11961.34</td><td> 4532.63</td><td>27747.13</td><td> 85281.78</td></tr>\n",
              "\t<tr><th scope=row>2</th><td>1</td><td>1000</td><td>1023</td><td>Calendar</td><td>2013</td><td>Public Protection</td><td>ADP</td><td>ADP Adult Probation</td><td> 21</td><td>Prof &amp; Tech Engineers - Miscellaneous, Local 21</td><td>⋯</td><td>26574</td><td> 57678.50</td><td>0</td><td><span style=white-space:pre-wrap>    0.00</span></td><td> 57678.50</td><td>10284.88</td><td> 7176.80</td><td> 4755.14</td><td>22216.82</td><td> 79895.32</td></tr>\n",
              "\t<tr><th scope=row>3</th><td>1</td><td>1000</td><td>1031</td><td>Calendar</td><td>2013</td><td>Public Protection</td><td>ADP</td><td>ADP Adult Probation</td><td> 21</td><td>Prof &amp; Tech Engineers - Miscellaneous, Local 21</td><td>⋯</td><td> 8148</td><td> 63532.93</td><td>0</td><td><span style=white-space:pre-wrap>    0.00</span></td><td> 63532.93</td><td>12495.83</td><td>12918.24</td><td> 4702.71</td><td>30116.78</td><td> 93649.71</td></tr>\n",
              "\t<tr><th scope=row>4</th><td>1</td><td>1000</td><td>1054</td><td>Calendar</td><td>2013</td><td>Public Protection</td><td>ADP</td><td>ADP Adult Probation</td><td> 21</td><td>Prof &amp; Tech Engineers - Miscellaneous, Local 21</td><td>⋯</td><td>27436</td><td>101274.51</td><td>0</td><td>-7058.59</td><td> 94215.92</td><td>19644.45</td><td>12918.24</td><td> 7458.76</td><td>40021.45</td><td>134237.37</td></tr>\n",
              "\t<tr><th scope=row>5</th><td>1</td><td>1000</td><td>1062</td><td>Calendar</td><td>2013</td><td>Public Protection</td><td>ADP</td><td>ADP Adult Probation</td><td> 21</td><td>Prof &amp; Tech Engineers - Miscellaneous, Local 21</td><td>⋯</td><td>37730</td><td><span style=white-space:pre-wrap>  5084.00</span></td><td>0</td><td><span style=white-space:pre-wrap>    0.00</span></td><td><span style=white-space:pre-wrap>  5084.00</span></td><td> 1083.90</td><td><span style=white-space:pre-wrap>  956.91</span></td><td><span style=white-space:pre-wrap>  387.50</span></td><td> 2428.31</td><td><span style=white-space:pre-wrap>  7512.31</span></td></tr>\n",
              "\t<tr><th scope=row>6</th><td>1</td><td>1000</td><td>1064</td><td>Calendar</td><td>2013</td><td>Public Protection</td><td>ADP</td><td>ADP Adult Probation</td><td> 21</td><td>Prof &amp; Tech Engineers - Miscellaneous, Local 21</td><td>⋯</td><td>36223</td><td> 34456.00</td><td>0</td><td><span style=white-space:pre-wrap>    0.00</span></td><td> 34456.00</td><td> 7346.00</td><td> 3827.63</td><td> 2579.95</td><td>13753.58</td><td> 48209.58</td></tr>\n",
              "\t<tr><th scope=row>7</th><td>1</td><td>1000</td><td>1070</td><td>Calendar</td><td>2013</td><td>Public Protection</td><td>ADP</td><td>ADP Adult Probation</td><td> 21</td><td>Prof &amp; Tech Engineers - Miscellaneous, Local 21</td><td>⋯</td><td>51426</td><td>139889.00</td><td>0</td><td><span style=white-space:pre-wrap>    0.00</span></td><td>139889.00</td><td>26799.23</td><td>12918.24</td><td> 9791.54</td><td>49509.01</td><td>189398.01</td></tr>\n",
              "\t<tr><th scope=row>8</th><td>1</td><td>1000</td><td>1094</td><td>Calendar</td><td>2013</td><td>Public Protection</td><td>ADP</td><td>ADP Adult Probation</td><td> 21</td><td>Prof &amp; Tech Engineers - Miscellaneous, Local 21</td><td>⋯</td><td>26574</td><td> 46572.00</td><td>0</td><td><span style=white-space:pre-wrap>    0.00</span></td><td> 46572.00</td><td> 9929.16</td><td> 5741.44</td><td> 3822.28</td><td>19492.88</td><td> 66064.88</td></tr>\n",
              "\t<tr><th scope=row>9</th><td>1</td><td>1200</td><td>1232</td><td>Calendar</td><td>2013</td><td>Public Protection</td><td>ADP</td><td>ADP Adult Probation</td><td> 21</td><td>Prof &amp; Tech Engineers - Miscellaneous, Local 21</td><td>⋯</td><td>37983</td><td> 84681.53</td><td>0</td><td><span style=white-space:pre-wrap>    0.00</span></td><td> 84681.53</td><td>16661.84</td><td>12918.24</td><td> 6838.44</td><td>36418.52</td><td>121100.05</td></tr>\n",
              "\t<tr><th scope=row>10</th><td>1</td><td>1600</td><td>1654</td><td>Calendar</td><td>2013</td><td>Public Protection</td><td>ADP</td><td>ADP Adult Probation</td><td> 21</td><td>Prof &amp; Tech Engineers - Miscellaneous, Local 21</td><td>⋯</td><td>16858</td><td> 10611.01</td><td>0</td><td><span style=white-space:pre-wrap>    0.00</span></td><td> 10611.01</td><td> 1879.20</td><td> 1435.36</td><td><span style=white-space:pre-wrap>  827.09</span></td><td> 4141.65</td><td> 14752.66</td></tr>\n",
              "\t<tr><th scope=row>11</th><td>1</td><td>1600</td><td>1654</td><td>Calendar</td><td>2013</td><td>Public Protection</td><td>ADP</td><td>ADP Adult Probation</td><td> 21</td><td>Prof &amp; Tech Engineers - Miscellaneous, Local 21</td><td>⋯</td><td>32693</td><td> 43171.50</td><td>0</td><td><span style=white-space:pre-wrap>    0.00</span></td><td> 43171.50</td><td> 9061.62</td><td> 6698.35</td><td> 3502.18</td><td>19262.15</td><td> 62433.65</td></tr>\n",
              "\t<tr><th scope=row>12</th><td>1</td><td>1600</td><td>1654</td><td>Calendar</td><td>2013</td><td>Public Protection</td><td>ADP</td><td>ADP Adult Probation</td><td> 21</td><td>Prof &amp; Tech Engineers - Miscellaneous, Local 21</td><td>⋯</td><td>43501</td><td><span style=white-space:pre-wrap>  3155.01</span></td><td>0</td><td><span style=white-space:pre-wrap>    0.00</span></td><td><span style=white-space:pre-wrap>  3155.01</span></td><td><span style=white-space:pre-wrap>  574.53</span></td><td><span style=white-space:pre-wrap>    0.00</span></td><td><span style=white-space:pre-wrap>  218.78</span></td><td><span style=white-space:pre-wrap>  793.31</span></td><td><span style=white-space:pre-wrap>  3948.32</span></td></tr>\n",
              "\t<tr><th scope=row>13</th><td>1</td><td>1600</td><td>1657</td><td>Calendar</td><td>2013</td><td>Public Protection</td><td>ADP</td><td>ADP Adult Probation</td><td> 21</td><td>Prof &amp; Tech Engineers - Miscellaneous, Local 21</td><td>⋯</td><td>16858</td><td> 10611.00</td><td>0</td><td><span style=white-space:pre-wrap>    0.00</span></td><td> 10611.00</td><td> 1879.20</td><td> 1435.36</td><td><span style=white-space:pre-wrap>  804.35</span></td><td> 4118.91</td><td> 14729.91</td></tr>\n",
              "\t<tr><th scope=row>14</th><td>1</td><td>1800</td><td>1823</td><td>Calendar</td><td>2013</td><td>Public Protection</td><td>ADP</td><td>ADP Adult Probation</td><td> 21</td><td>Prof &amp; Tech Engineers - Miscellaneous, Local 21</td><td>⋯</td><td>21653</td><td> 38491.83</td><td>0</td><td><span style=white-space:pre-wrap>    0.00</span></td><td> 38491.83</td><td> 8161.75</td><td> 6028.51</td><td> 3094.21</td><td>17284.47</td><td> 55776.30</td></tr>\n",
              "\t<tr><th scope=row>15</th><td>1</td><td>1800</td><td>1823</td><td>Calendar</td><td>2013</td><td>Public Protection</td><td>ADP</td><td>ADP Adult Probation</td><td> 21</td><td>Prof &amp; Tech Engineers - Miscellaneous, Local 21</td><td>⋯</td><td>34205</td><td> 54645.50</td><td>0</td><td><span style=white-space:pre-wrap>    0.00</span></td><td> 54645.50</td><td>10473.72</td><td> 8612.16</td><td> 4389.44</td><td>23475.32</td><td> 78120.82</td></tr>\n",
              "\t<tr><th scope=row>16</th><td>1</td><td>1800</td><td>1823</td><td>Calendar</td><td>2013</td><td>Public Protection</td><td>ADP</td><td>ADP Adult Probation</td><td> 21</td><td>Prof &amp; Tech Engineers - Miscellaneous, Local 21</td><td>⋯</td><td>35965</td><td> 91826.22</td><td>0</td><td><span style=white-space:pre-wrap>    0.00</span></td><td> 91826.22</td><td>18072.56</td><td>12918.24</td><td> 7811.62</td><td>38802.42</td><td>130628.64</td></tr>\n",
              "\t<tr><th scope=row>17</th><td>1</td><td>1800</td><td>1823</td><td>Calendar</td><td>2013</td><td>Public Protection</td><td>ADP</td><td>ADP Adult Probation</td><td> 21</td><td>Prof &amp; Tech Engineers - Miscellaneous, Local 21</td><td>⋯</td><td>39039</td><td> 77486.52</td><td>0</td><td><span style=white-space:pre-wrap>    0.00</span></td><td> 77486.52</td><td>14861.12</td><td>10047.52</td><td> 6402.01</td><td>31310.65</td><td>108797.17</td></tr>\n",
              "\t<tr><th scope=row>18</th><td>1</td><td>1800</td><td>1823</td><td>Calendar</td><td>2013</td><td>Public Protection</td><td>ADP</td><td>ADP Adult Probation</td><td> 21</td><td>Prof &amp; Tech Engineers - Miscellaneous, Local 21</td><td>⋯</td><td>45754</td><td> 40380.11</td><td>0</td><td><span style=white-space:pre-wrap>    0.00</span></td><td> 40380.11</td><td> 7872.99</td><td> 5262.99</td><td> 3227.20</td><td>16363.18</td><td> 56743.29</td></tr>\n",
              "\t<tr><th scope=row>19</th><td>1</td><td>1800</td><td>1823</td><td>Calendar</td><td>2013</td><td>Public Protection</td><td>ADP</td><td>ADP Adult Probation</td><td> 21</td><td>Prof &amp; Tech Engineers - Miscellaneous, Local 21</td><td>⋯</td><td>46770</td><td> 88016.50</td><td>0</td><td><span style=white-space:pre-wrap>    0.00</span></td><td> 88016.50</td><td>17332.00</td><td>12918.24</td><td> 6760.28</td><td>37010.52</td><td>125027.02</td></tr>\n",
              "\t<tr><th scope=row>20</th><td>1</td><td>1800</td><td>1823</td><td>Calendar</td><td>2013</td><td>Public Protection</td><td>ADP</td><td>ADP Adult Probation</td><td> 21</td><td>Prof &amp; Tech Engineers - Miscellaneous, Local 21</td><td>⋯</td><td>48264</td><td> 91540.61</td><td>0</td><td><span style=white-space:pre-wrap>    0.00</span></td><td> 91540.61</td><td>18011.68</td><td>12918.24</td><td> 7268.43</td><td>38198.35</td><td>129738.96</td></tr>\n",
              "\t<tr><th scope=row>21</th><td>1</td><td>1800</td><td>1824</td><td>Calendar</td><td>2013</td><td>Public Protection</td><td>ADP</td><td>ADP Adult Probation</td><td> 21</td><td>Prof &amp; Tech Engineers - Miscellaneous, Local 21</td><td>⋯</td><td>33068</td><td>101787.06</td><td>0</td><td><span style=white-space:pre-wrap>    0.00</span></td><td>101787.06</td><td>20042.02</td><td>12918.24</td><td> 7988.47</td><td>40948.73</td><td>142735.79</td></tr>\n",
              "\t<tr><th scope=row>22</th><td>1</td><td>1800</td><td>1824</td><td>Calendar</td><td>2013</td><td>Public Protection</td><td>ADP</td><td>ADP Adult Probation</td><td> 21</td><td>Prof &amp; Tech Engineers - Miscellaneous, Local 21</td><td>⋯</td><td>45754</td><td><span style=white-space:pre-wrap>  3503.00</span></td><td>0</td><td><span style=white-space:pre-wrap>    0.00</span></td><td><span style=white-space:pre-wrap>  3503.00</span></td><td><span style=white-space:pre-wrap>  637.90</span></td><td><span style=white-space:pre-wrap>  478.45</span></td><td><span style=white-space:pre-wrap>  299.49</span></td><td> 1415.84</td><td><span style=white-space:pre-wrap>  4918.84</span></td></tr>\n",
              "\t<tr><th scope=row>23</th><td>1</td><td>1800</td><td>1824</td><td>Calendar</td><td>2013</td><td>Public Protection</td><td>ADP</td><td>ADP Adult Probation</td><td> 21</td><td>Prof &amp; Tech Engineers - Miscellaneous, Local 21</td><td>⋯</td><td> 5021</td><td>104022.86</td><td>0</td><td><span style=white-space:pre-wrap>    0.00</span></td><td>104022.86</td><td>20458.35</td><td>12918.24</td><td> 7878.74</td><td>41255.33</td><td>145278.19</td></tr>\n",
              "\t<tr><th scope=row>24</th><td>1</td><td>1200</td><td>1244</td><td>Calendar</td><td>2013</td><td>Public Protection</td><td>ADP</td><td>ADP Adult Probation</td><td> 22</td><td><span style=white-space:pre-wrap>Prof &amp; Tech Engineers - Personnel, Local 21    </span></td><td>⋯</td><td>20957</td><td>104250.50</td><td>0</td><td><span style=white-space:pre-wrap>    0.00</span></td><td>104250.50</td><td>20214.04</td><td>12918.24</td><td> 8498.47</td><td>41630.75</td><td>145881.25</td></tr>\n",
              "\t<tr><th scope=row>25</th><td>1</td><td>1200</td><td>1246</td><td>Calendar</td><td>2013</td><td>Public Protection</td><td>ADP</td><td>ADP Adult Probation</td><td> 22</td><td><span style=white-space:pre-wrap>Prof &amp; Tech Engineers - Personnel, Local 21    </span></td><td>⋯</td><td>17388</td><td>133022.51</td><td>0</td><td><span style=white-space:pre-wrap>    0.00</span></td><td>133022.51</td><td>25483.48</td><td>12918.24</td><td> 9759.01</td><td>48160.73</td><td>181183.24</td></tr>\n",
              "\t<tr><th scope=row>26</th><td>1</td><td>1400</td><td>1454</td><td>Calendar</td><td>2013</td><td>Public Protection</td><td>ADP</td><td>ADP Adult Probation</td><td> 22</td><td><span style=white-space:pre-wrap>Prof &amp; Tech Engineers - Personnel, Local 21    </span></td><td>⋯</td><td>19930</td><td> 67071.60</td><td>0</td><td> 2077.06</td><td> 69148.66</td><td>12973.88</td><td>10744.27</td><td> 5439.34</td><td>29157.49</td><td> 98306.15</td></tr>\n",
              "\t<tr><th scope=row>27</th><td>1</td><td>0900</td><td>0923</td><td>Calendar</td><td>2013</td><td>Public Protection</td><td>ADP</td><td>ADP Adult Probation</td><td>351</td><td>Municipal Executive Association - Miscellaneous</td><td>⋯</td><td> 1815</td><td>145343.93</td><td>0</td><td>    0.00</td><td>145343.93</td><td>27869.24</td><td>12918.24</td><td>12335.56</td><td>53123.04</td><td>198466.97</td></tr>\n",
              "\t<tr><th scope=row>28</th><td>1</td><td>0900</td><td>0923</td><td>Calendar</td><td>2013</td><td>Public Protection</td><td>ADP</td><td>ADP Adult Probation</td><td>351</td><td>Municipal Executive Association - Miscellaneous</td><td>⋯</td><td> 3034</td><td>123825.66</td><td>0</td><td>    0.00</td><td>123825.66</td><td>23728.23</td><td>12918.24</td><td> 9480.88</td><td>46127.35</td><td>169953.01</td></tr>\n",
              "\t<tr><th scope=row>29</th><td>1</td><td>0900</td><td>0932</td><td>Calendar</td><td>2013</td><td>Public Protection</td><td>ADP</td><td>ADP Adult Probation</td><td>351</td><td>Municipal Executive Association - Miscellaneous</td><td>⋯</td><td>43208</td><td>155934.26</td><td>0</td><td>    0.00</td><td>155934.26</td><td>29873.14</td><td>    0.00</td><td>18500.13</td><td>48373.27</td><td>204307.53</td></tr>\n",
              "\t<tr><th scope=row>30</th><td>1</td><td>0900</td><td>8435</td><td>Calendar</td><td>2013</td><td>Public Protection</td><td>ADP</td><td>ADP Adult Probation</td><td>351</td><td>Municipal Executive Association - Miscellaneous</td><td>⋯</td><td>14308</td><td>122302.25</td><td>0</td><td>    0.00</td><td>122302.25</td><td>21538.39</td><td>12918.24</td><td>10318.94</td><td>44775.57</td><td>167077.82</td></tr>\n",
              "\t<tr><th scope=row>31</th><td>1</td><td>0900</td><td>8435</td><td>Calendar</td><td>2013</td><td>Public Protection</td><td>ADP</td><td>ADP Adult Probation</td><td>351</td><td>Municipal Executive Association - Miscellaneous</td><td>⋯</td><td>15189</td><td>122302.27</td><td>0</td><td>    0.00</td><td>122302.27</td><td>21538.37</td><td>12918.24</td><td>10890.91</td><td>45347.52</td><td>167649.79</td></tr>\n",
              "\t<tr><th scope=row>32</th><td>1</td><td>0900</td><td>8435</td><td>Calendar</td><td>2013</td><td>Public Protection</td><td>ADP</td><td>ADP Adult Probation</td><td>351</td><td>Municipal Executive Association - Miscellaneous</td><td>⋯</td><td>17353</td><td>122302.26</td><td>0</td><td>    0.00</td><td>122302.26</td><td>21538.37</td><td>12918.24</td><td>10493.35</td><td>44949.96</td><td>167252.22</td></tr>\n",
              "\t<tr><th scope=row>33</th><td>1</td><td>0900</td><td>8435</td><td>Calendar</td><td>2013</td><td>Public Protection</td><td>ADP</td><td>ADP Adult Probation</td><td>351</td><td>Municipal Executive Association - Miscellaneous</td><td>⋯</td><td>30068</td><td>122302.24</td><td>0</td><td>    0.00</td><td>122302.24</td><td>21538.36</td><td>12918.24</td><td>10811.11</td><td>45267.71</td><td>167569.95</td></tr>\n",
              "\t<tr><th scope=row>34</th><td>1</td><td>0900</td><td>8436</td><td>Calendar</td><td>2013</td><td>Public Protection</td><td>ADP</td><td>ADP Adult Probation</td><td>351</td><td>Municipal Executive Association - Miscellaneous</td><td>⋯</td><td>43952</td><td>209697.02</td><td>0</td><td>    0.00</td><td>209697.02</td><td>36944.94</td><td>12918.24</td><td>12228.03</td><td>62091.21</td><td>271788.23</td></tr>\n",
              "\t<tr><th scope=row>35</th><td>1</td><td>8400</td><td>8438</td><td>Calendar</td><td>2013</td><td>Public Protection</td><td>ADP</td><td>ADP Adult Probation</td><td>351</td><td>Municipal Executive Association - Miscellaneous</td><td>⋯</td><td> 5635</td><td> 69257.89</td><td>0</td><td>    0.00</td><td> 69257.89</td><td>    0.00</td><td> 6653.49</td><td> 5361.94</td><td>12015.43</td><td> 81273.32</td></tr>\n",
              "\t<tr><th scope=row>36</th><td>1</td><td>8400</td><td>8592</td><td>Calendar</td><td>2013</td><td>Public Protection</td><td>ADP</td><td>ADP Adult Probation</td><td>351</td><td>Municipal Executive Association - Miscellaneous</td><td>⋯</td><td>41629</td><td>162953.50</td><td>0</td><td>    0.00</td><td>162953.50</td><td>31217.66</td><td>12918.24</td><td> 2608.57</td><td>46744.47</td><td>209697.97</td></tr>\n",
              "\t<tr><th scope=row>37</th><td>1</td><td>8400</td><td>8444</td><td>Calendar</td><td>2013</td><td>Public Protection</td><td>ADP</td><td>ADP Adult Probation</td><td>651</td><td>Deputy Probation Officers' Association         </td><td>⋯</td><td>10922</td><td> 93300.65</td><td>0</td><td>    0.00</td><td> 93300.65</td><td>16454.93</td><td>12537.33</td><td> 1585.09</td><td>30577.35</td><td>123878.00</td></tr>\n",
              "\t<tr><th scope=row>38</th><td>1</td><td>8400</td><td>8444</td><td>Calendar</td><td>2013</td><td>Public Protection</td><td>ADP</td><td>ADP Adult Probation</td><td>651</td><td>Deputy Probation Officers' Association         </td><td>⋯</td><td>10988</td><td> 66139.71</td><td>0</td><td>    0.00</td><td> 66139.71</td><td>11647.69</td><td>12918.24</td><td> 1099.15</td><td>25665.08</td><td> 91804.79</td></tr>\n",
              "\t<tr><th scope=row>39</th><td>1</td><td>8400</td><td>8444</td><td>Calendar</td><td>2013</td><td>Public Protection</td><td>ADP</td><td>ADP Adult Probation</td><td>651</td><td>Deputy Probation Officers' Association         </td><td>⋯</td><td>11294</td><td> 96595.64</td><td>0</td><td>    0.00</td><td> 96595.64</td><td>17020.61</td><td>12918.25</td><td> 1600.19</td><td>31539.05</td><td>128134.69</td></tr>\n",
              "\t<tr><th scope=row>40</th><td>1</td><td>8400</td><td>8444</td><td>Calendar</td><td>2013</td><td>Public Protection</td><td>ADP</td><td>ADP Adult Probation</td><td>651</td><td>Deputy Probation Officers' Association         </td><td>⋯</td><td>12948</td><td> 76487.01</td><td>0</td><td>    0.00</td><td> 76487.01</td><td>13469.78</td><td>12918.25</td><td> 1300.28</td><td>27688.31</td><td>104175.32</td></tr>\n",
              "</tbody>\n",
              "</table>\n"
            ],
            "text/markdown": "\nA data.frame: 40 × 22\n\n| <!--/--> | Organization.Group.Code &lt;int&gt; | Job.Family.Code &lt;chr&gt; | Job.Code &lt;chr&gt; | Year.Type &lt;chr&gt; | Year &lt;int&gt; | Organization.Group &lt;chr&gt; | Department.Code &lt;chr&gt; | Department &lt;chr&gt; | Union.Code &lt;int&gt; | Union &lt;chr&gt; | ⋯ ⋯ | Employee.Identifier &lt;int&gt; | Salaries &lt;dbl&gt; | Overtime &lt;dbl&gt; | Other.Salaries &lt;dbl&gt; | Total.Salary &lt;dbl&gt; | Retirement &lt;dbl&gt; | Health.and.Dental &lt;dbl&gt; | Other.Benefits &lt;dbl&gt; | Total.Benefits &lt;dbl&gt; | Total.Compensation &lt;dbl&gt; |\n|---|---|---|---|---|---|---|---|---|---|---|---|---|---|---|---|---|---|---|---|---|---|\n| 1 | 1 | 1000 | 1021 | Calendar | 2013 | Public Protection | ADP | ADP Adult Probation |  21 | Prof &amp; Tech Engineers - Miscellaneous, Local 21 | ⋯ | 37730 |  57534.65 | 0 |     0.00 |  57534.65 | 11253.16 | 11961.34 |  4532.63 | 27747.13 |  85281.78 |\n| 2 | 1 | 1000 | 1023 | Calendar | 2013 | Public Protection | ADP | ADP Adult Probation |  21 | Prof &amp; Tech Engineers - Miscellaneous, Local 21 | ⋯ | 26574 |  57678.50 | 0 |     0.00 |  57678.50 | 10284.88 |  7176.80 |  4755.14 | 22216.82 |  79895.32 |\n| 3 | 1 | 1000 | 1031 | Calendar | 2013 | Public Protection | ADP | ADP Adult Probation |  21 | Prof &amp; Tech Engineers - Miscellaneous, Local 21 | ⋯ |  8148 |  63532.93 | 0 |     0.00 |  63532.93 | 12495.83 | 12918.24 |  4702.71 | 30116.78 |  93649.71 |\n| 4 | 1 | 1000 | 1054 | Calendar | 2013 | Public Protection | ADP | ADP Adult Probation |  21 | Prof &amp; Tech Engineers - Miscellaneous, Local 21 | ⋯ | 27436 | 101274.51 | 0 | -7058.59 |  94215.92 | 19644.45 | 12918.24 |  7458.76 | 40021.45 | 134237.37 |\n| 5 | 1 | 1000 | 1062 | Calendar | 2013 | Public Protection | ADP | ADP Adult Probation |  21 | Prof &amp; Tech Engineers - Miscellaneous, Local 21 | ⋯ | 37730 |   5084.00 | 0 |     0.00 |   5084.00 |  1083.90 |   956.91 |   387.50 |  2428.31 |   7512.31 |\n| 6 | 1 | 1000 | 1064 | Calendar | 2013 | Public Protection | ADP | ADP Adult Probation |  21 | Prof &amp; Tech Engineers - Miscellaneous, Local 21 | ⋯ | 36223 |  34456.00 | 0 |     0.00 |  34456.00 |  7346.00 |  3827.63 |  2579.95 | 13753.58 |  48209.58 |\n| 7 | 1 | 1000 | 1070 | Calendar | 2013 | Public Protection | ADP | ADP Adult Probation |  21 | Prof &amp; Tech Engineers - Miscellaneous, Local 21 | ⋯ | 51426 | 139889.00 | 0 |     0.00 | 139889.00 | 26799.23 | 12918.24 |  9791.54 | 49509.01 | 189398.01 |\n| 8 | 1 | 1000 | 1094 | Calendar | 2013 | Public Protection | ADP | ADP Adult Probation |  21 | Prof &amp; Tech Engineers - Miscellaneous, Local 21 | ⋯ | 26574 |  46572.00 | 0 |     0.00 |  46572.00 |  9929.16 |  5741.44 |  3822.28 | 19492.88 |  66064.88 |\n| 9 | 1 | 1200 | 1232 | Calendar | 2013 | Public Protection | ADP | ADP Adult Probation |  21 | Prof &amp; Tech Engineers - Miscellaneous, Local 21 | ⋯ | 37983 |  84681.53 | 0 |     0.00 |  84681.53 | 16661.84 | 12918.24 |  6838.44 | 36418.52 | 121100.05 |\n| 10 | 1 | 1600 | 1654 | Calendar | 2013 | Public Protection | ADP | ADP Adult Probation |  21 | Prof &amp; Tech Engineers - Miscellaneous, Local 21 | ⋯ | 16858 |  10611.01 | 0 |     0.00 |  10611.01 |  1879.20 |  1435.36 |   827.09 |  4141.65 |  14752.66 |\n| 11 | 1 | 1600 | 1654 | Calendar | 2013 | Public Protection | ADP | ADP Adult Probation |  21 | Prof &amp; Tech Engineers - Miscellaneous, Local 21 | ⋯ | 32693 |  43171.50 | 0 |     0.00 |  43171.50 |  9061.62 |  6698.35 |  3502.18 | 19262.15 |  62433.65 |\n| 12 | 1 | 1600 | 1654 | Calendar | 2013 | Public Protection | ADP | ADP Adult Probation |  21 | Prof &amp; Tech Engineers - Miscellaneous, Local 21 | ⋯ | 43501 |   3155.01 | 0 |     0.00 |   3155.01 |   574.53 |     0.00 |   218.78 |   793.31 |   3948.32 |\n| 13 | 1 | 1600 | 1657 | Calendar | 2013 | Public Protection | ADP | ADP Adult Probation |  21 | Prof &amp; Tech Engineers - Miscellaneous, Local 21 | ⋯ | 16858 |  10611.00 | 0 |     0.00 |  10611.00 |  1879.20 |  1435.36 |   804.35 |  4118.91 |  14729.91 |\n| 14 | 1 | 1800 | 1823 | Calendar | 2013 | Public Protection | ADP | ADP Adult Probation |  21 | Prof &amp; Tech Engineers - Miscellaneous, Local 21 | ⋯ | 21653 |  38491.83 | 0 |     0.00 |  38491.83 |  8161.75 |  6028.51 |  3094.21 | 17284.47 |  55776.30 |\n| 15 | 1 | 1800 | 1823 | Calendar | 2013 | Public Protection | ADP | ADP Adult Probation |  21 | Prof &amp; Tech Engineers - Miscellaneous, Local 21 | ⋯ | 34205 |  54645.50 | 0 |     0.00 |  54645.50 | 10473.72 |  8612.16 |  4389.44 | 23475.32 |  78120.82 |\n| 16 | 1 | 1800 | 1823 | Calendar | 2013 | Public Protection | ADP | ADP Adult Probation |  21 | Prof &amp; Tech Engineers - Miscellaneous, Local 21 | ⋯ | 35965 |  91826.22 | 0 |     0.00 |  91826.22 | 18072.56 | 12918.24 |  7811.62 | 38802.42 | 130628.64 |\n| 17 | 1 | 1800 | 1823 | Calendar | 2013 | Public Protection | ADP | ADP Adult Probation |  21 | Prof &amp; Tech Engineers - Miscellaneous, Local 21 | ⋯ | 39039 |  77486.52 | 0 |     0.00 |  77486.52 | 14861.12 | 10047.52 |  6402.01 | 31310.65 | 108797.17 |\n| 18 | 1 | 1800 | 1823 | Calendar | 2013 | Public Protection | ADP | ADP Adult Probation |  21 | Prof &amp; Tech Engineers - Miscellaneous, Local 21 | ⋯ | 45754 |  40380.11 | 0 |     0.00 |  40380.11 |  7872.99 |  5262.99 |  3227.20 | 16363.18 |  56743.29 |\n| 19 | 1 | 1800 | 1823 | Calendar | 2013 | Public Protection | ADP | ADP Adult Probation |  21 | Prof &amp; Tech Engineers - Miscellaneous, Local 21 | ⋯ | 46770 |  88016.50 | 0 |     0.00 |  88016.50 | 17332.00 | 12918.24 |  6760.28 | 37010.52 | 125027.02 |\n| 20 | 1 | 1800 | 1823 | Calendar | 2013 | Public Protection | ADP | ADP Adult Probation |  21 | Prof &amp; Tech Engineers - Miscellaneous, Local 21 | ⋯ | 48264 |  91540.61 | 0 |     0.00 |  91540.61 | 18011.68 | 12918.24 |  7268.43 | 38198.35 | 129738.96 |\n| 21 | 1 | 1800 | 1824 | Calendar | 2013 | Public Protection | ADP | ADP Adult Probation |  21 | Prof &amp; Tech Engineers - Miscellaneous, Local 21 | ⋯ | 33068 | 101787.06 | 0 |     0.00 | 101787.06 | 20042.02 | 12918.24 |  7988.47 | 40948.73 | 142735.79 |\n| 22 | 1 | 1800 | 1824 | Calendar | 2013 | Public Protection | ADP | ADP Adult Probation |  21 | Prof &amp; Tech Engineers - Miscellaneous, Local 21 | ⋯ | 45754 |   3503.00 | 0 |     0.00 |   3503.00 |   637.90 |   478.45 |   299.49 |  1415.84 |   4918.84 |\n| 23 | 1 | 1800 | 1824 | Calendar | 2013 | Public Protection | ADP | ADP Adult Probation |  21 | Prof &amp; Tech Engineers - Miscellaneous, Local 21 | ⋯ |  5021 | 104022.86 | 0 |     0.00 | 104022.86 | 20458.35 | 12918.24 |  7878.74 | 41255.33 | 145278.19 |\n| 24 | 1 | 1200 | 1244 | Calendar | 2013 | Public Protection | ADP | ADP Adult Probation |  22 | Prof &amp; Tech Engineers - Personnel, Local 21     | ⋯ | 20957 | 104250.50 | 0 |     0.00 | 104250.50 | 20214.04 | 12918.24 |  8498.47 | 41630.75 | 145881.25 |\n| 25 | 1 | 1200 | 1246 | Calendar | 2013 | Public Protection | ADP | ADP Adult Probation |  22 | Prof &amp; Tech Engineers - Personnel, Local 21     | ⋯ | 17388 | 133022.51 | 0 |     0.00 | 133022.51 | 25483.48 | 12918.24 |  9759.01 | 48160.73 | 181183.24 |\n| 26 | 1 | 1400 | 1454 | Calendar | 2013 | Public Protection | ADP | ADP Adult Probation |  22 | Prof &amp; Tech Engineers - Personnel, Local 21     | ⋯ | 19930 |  67071.60 | 0 |  2077.06 |  69148.66 | 12973.88 | 10744.27 |  5439.34 | 29157.49 |  98306.15 |\n| 27 | 1 | 0900 | 0923 | Calendar | 2013 | Public Protection | ADP | ADP Adult Probation | 351 | Municipal Executive Association - Miscellaneous | ⋯ |  1815 | 145343.93 | 0 |     0.00 | 145343.93 | 27869.24 | 12918.24 | 12335.56 | 53123.04 | 198466.97 |\n| 28 | 1 | 0900 | 0923 | Calendar | 2013 | Public Protection | ADP | ADP Adult Probation | 351 | Municipal Executive Association - Miscellaneous | ⋯ |  3034 | 123825.66 | 0 |     0.00 | 123825.66 | 23728.23 | 12918.24 |  9480.88 | 46127.35 | 169953.01 |\n| 29 | 1 | 0900 | 0932 | Calendar | 2013 | Public Protection | ADP | ADP Adult Probation | 351 | Municipal Executive Association - Miscellaneous | ⋯ | 43208 | 155934.26 | 0 |     0.00 | 155934.26 | 29873.14 |     0.00 | 18500.13 | 48373.27 | 204307.53 |\n| 30 | 1 | 0900 | 8435 | Calendar | 2013 | Public Protection | ADP | ADP Adult Probation | 351 | Municipal Executive Association - Miscellaneous | ⋯ | 14308 | 122302.25 | 0 |     0.00 | 122302.25 | 21538.39 | 12918.24 | 10318.94 | 44775.57 | 167077.82 |\n| 31 | 1 | 0900 | 8435 | Calendar | 2013 | Public Protection | ADP | ADP Adult Probation | 351 | Municipal Executive Association - Miscellaneous | ⋯ | 15189 | 122302.27 | 0 |     0.00 | 122302.27 | 21538.37 | 12918.24 | 10890.91 | 45347.52 | 167649.79 |\n| 32 | 1 | 0900 | 8435 | Calendar | 2013 | Public Protection | ADP | ADP Adult Probation | 351 | Municipal Executive Association - Miscellaneous | ⋯ | 17353 | 122302.26 | 0 |     0.00 | 122302.26 | 21538.37 | 12918.24 | 10493.35 | 44949.96 | 167252.22 |\n| 33 | 1 | 0900 | 8435 | Calendar | 2013 | Public Protection | ADP | ADP Adult Probation | 351 | Municipal Executive Association - Miscellaneous | ⋯ | 30068 | 122302.24 | 0 |     0.00 | 122302.24 | 21538.36 | 12918.24 | 10811.11 | 45267.71 | 167569.95 |\n| 34 | 1 | 0900 | 8436 | Calendar | 2013 | Public Protection | ADP | ADP Adult Probation | 351 | Municipal Executive Association - Miscellaneous | ⋯ | 43952 | 209697.02 | 0 |     0.00 | 209697.02 | 36944.94 | 12918.24 | 12228.03 | 62091.21 | 271788.23 |\n| 35 | 1 | 8400 | 8438 | Calendar | 2013 | Public Protection | ADP | ADP Adult Probation | 351 | Municipal Executive Association - Miscellaneous | ⋯ |  5635 |  69257.89 | 0 |     0.00 |  69257.89 |     0.00 |  6653.49 |  5361.94 | 12015.43 |  81273.32 |\n| 36 | 1 | 8400 | 8592 | Calendar | 2013 | Public Protection | ADP | ADP Adult Probation | 351 | Municipal Executive Association - Miscellaneous | ⋯ | 41629 | 162953.50 | 0 |     0.00 | 162953.50 | 31217.66 | 12918.24 |  2608.57 | 46744.47 | 209697.97 |\n| 37 | 1 | 8400 | 8444 | Calendar | 2013 | Public Protection | ADP | ADP Adult Probation | 651 | Deputy Probation Officers' Association          | ⋯ | 10922 |  93300.65 | 0 |     0.00 |  93300.65 | 16454.93 | 12537.33 |  1585.09 | 30577.35 | 123878.00 |\n| 38 | 1 | 8400 | 8444 | Calendar | 2013 | Public Protection | ADP | ADP Adult Probation | 651 | Deputy Probation Officers' Association          | ⋯ | 10988 |  66139.71 | 0 |     0.00 |  66139.71 | 11647.69 | 12918.24 |  1099.15 | 25665.08 |  91804.79 |\n| 39 | 1 | 8400 | 8444 | Calendar | 2013 | Public Protection | ADP | ADP Adult Probation | 651 | Deputy Probation Officers' Association          | ⋯ | 11294 |  96595.64 | 0 |     0.00 |  96595.64 | 17020.61 | 12918.25 |  1600.19 | 31539.05 | 128134.69 |\n| 40 | 1 | 8400 | 8444 | Calendar | 2013 | Public Protection | ADP | ADP Adult Probation | 651 | Deputy Probation Officers' Association          | ⋯ | 12948 |  76487.01 | 0 |     0.00 |  76487.01 | 13469.78 | 12918.25 |  1300.28 | 27688.31 | 104175.32 |\n\n",
            "text/latex": "A data.frame: 40 × 22\n\\begin{tabular}{r|lllllllllllllllllllll}\n  & Organization.Group.Code & Job.Family.Code & Job.Code & Year.Type & Year & Organization.Group & Department.Code & Department & Union.Code & Union & ⋯ & Employee.Identifier & Salaries & Overtime & Other.Salaries & Total.Salary & Retirement & Health.and.Dental & Other.Benefits & Total.Benefits & Total.Compensation\\\\\n  & <int> & <chr> & <chr> & <chr> & <int> & <chr> & <chr> & <chr> & <int> & <chr> & ⋯ & <int> & <dbl> & <dbl> & <dbl> & <dbl> & <dbl> & <dbl> & <dbl> & <dbl> & <dbl>\\\\\n\\hline\n\t1 & 1 & 1000 & 1021 & Calendar & 2013 & Public Protection & ADP & ADP Adult Probation &  21 & Prof \\& Tech Engineers - Miscellaneous, Local 21 & ⋯ & 37730 &  57534.65 & 0 &     0.00 &  57534.65 & 11253.16 & 11961.34 &  4532.63 & 27747.13 &  85281.78\\\\\n\t2 & 1 & 1000 & 1023 & Calendar & 2013 & Public Protection & ADP & ADP Adult Probation &  21 & Prof \\& Tech Engineers - Miscellaneous, Local 21 & ⋯ & 26574 &  57678.50 & 0 &     0.00 &  57678.50 & 10284.88 &  7176.80 &  4755.14 & 22216.82 &  79895.32\\\\\n\t3 & 1 & 1000 & 1031 & Calendar & 2013 & Public Protection & ADP & ADP Adult Probation &  21 & Prof \\& Tech Engineers - Miscellaneous, Local 21 & ⋯ &  8148 &  63532.93 & 0 &     0.00 &  63532.93 & 12495.83 & 12918.24 &  4702.71 & 30116.78 &  93649.71\\\\\n\t4 & 1 & 1000 & 1054 & Calendar & 2013 & Public Protection & ADP & ADP Adult Probation &  21 & Prof \\& Tech Engineers - Miscellaneous, Local 21 & ⋯ & 27436 & 101274.51 & 0 & -7058.59 &  94215.92 & 19644.45 & 12918.24 &  7458.76 & 40021.45 & 134237.37\\\\\n\t5 & 1 & 1000 & 1062 & Calendar & 2013 & Public Protection & ADP & ADP Adult Probation &  21 & Prof \\& Tech Engineers - Miscellaneous, Local 21 & ⋯ & 37730 &   5084.00 & 0 &     0.00 &   5084.00 &  1083.90 &   956.91 &   387.50 &  2428.31 &   7512.31\\\\\n\t6 & 1 & 1000 & 1064 & Calendar & 2013 & Public Protection & ADP & ADP Adult Probation &  21 & Prof \\& Tech Engineers - Miscellaneous, Local 21 & ⋯ & 36223 &  34456.00 & 0 &     0.00 &  34456.00 &  7346.00 &  3827.63 &  2579.95 & 13753.58 &  48209.58\\\\\n\t7 & 1 & 1000 & 1070 & Calendar & 2013 & Public Protection & ADP & ADP Adult Probation &  21 & Prof \\& Tech Engineers - Miscellaneous, Local 21 & ⋯ & 51426 & 139889.00 & 0 &     0.00 & 139889.00 & 26799.23 & 12918.24 &  9791.54 & 49509.01 & 189398.01\\\\\n\t8 & 1 & 1000 & 1094 & Calendar & 2013 & Public Protection & ADP & ADP Adult Probation &  21 & Prof \\& Tech Engineers - Miscellaneous, Local 21 & ⋯ & 26574 &  46572.00 & 0 &     0.00 &  46572.00 &  9929.16 &  5741.44 &  3822.28 & 19492.88 &  66064.88\\\\\n\t9 & 1 & 1200 & 1232 & Calendar & 2013 & Public Protection & ADP & ADP Adult Probation &  21 & Prof \\& Tech Engineers - Miscellaneous, Local 21 & ⋯ & 37983 &  84681.53 & 0 &     0.00 &  84681.53 & 16661.84 & 12918.24 &  6838.44 & 36418.52 & 121100.05\\\\\n\t10 & 1 & 1600 & 1654 & Calendar & 2013 & Public Protection & ADP & ADP Adult Probation &  21 & Prof \\& Tech Engineers - Miscellaneous, Local 21 & ⋯ & 16858 &  10611.01 & 0 &     0.00 &  10611.01 &  1879.20 &  1435.36 &   827.09 &  4141.65 &  14752.66\\\\\n\t11 & 1 & 1600 & 1654 & Calendar & 2013 & Public Protection & ADP & ADP Adult Probation &  21 & Prof \\& Tech Engineers - Miscellaneous, Local 21 & ⋯ & 32693 &  43171.50 & 0 &     0.00 &  43171.50 &  9061.62 &  6698.35 &  3502.18 & 19262.15 &  62433.65\\\\\n\t12 & 1 & 1600 & 1654 & Calendar & 2013 & Public Protection & ADP & ADP Adult Probation &  21 & Prof \\& Tech Engineers - Miscellaneous, Local 21 & ⋯ & 43501 &   3155.01 & 0 &     0.00 &   3155.01 &   574.53 &     0.00 &   218.78 &   793.31 &   3948.32\\\\\n\t13 & 1 & 1600 & 1657 & Calendar & 2013 & Public Protection & ADP & ADP Adult Probation &  21 & Prof \\& Tech Engineers - Miscellaneous, Local 21 & ⋯ & 16858 &  10611.00 & 0 &     0.00 &  10611.00 &  1879.20 &  1435.36 &   804.35 &  4118.91 &  14729.91\\\\\n\t14 & 1 & 1800 & 1823 & Calendar & 2013 & Public Protection & ADP & ADP Adult Probation &  21 & Prof \\& Tech Engineers - Miscellaneous, Local 21 & ⋯ & 21653 &  38491.83 & 0 &     0.00 &  38491.83 &  8161.75 &  6028.51 &  3094.21 & 17284.47 &  55776.30\\\\\n\t15 & 1 & 1800 & 1823 & Calendar & 2013 & Public Protection & ADP & ADP Adult Probation &  21 & Prof \\& Tech Engineers - Miscellaneous, Local 21 & ⋯ & 34205 &  54645.50 & 0 &     0.00 &  54645.50 & 10473.72 &  8612.16 &  4389.44 & 23475.32 &  78120.82\\\\\n\t16 & 1 & 1800 & 1823 & Calendar & 2013 & Public Protection & ADP & ADP Adult Probation &  21 & Prof \\& Tech Engineers - Miscellaneous, Local 21 & ⋯ & 35965 &  91826.22 & 0 &     0.00 &  91826.22 & 18072.56 & 12918.24 &  7811.62 & 38802.42 & 130628.64\\\\\n\t17 & 1 & 1800 & 1823 & Calendar & 2013 & Public Protection & ADP & ADP Adult Probation &  21 & Prof \\& Tech Engineers - Miscellaneous, Local 21 & ⋯ & 39039 &  77486.52 & 0 &     0.00 &  77486.52 & 14861.12 & 10047.52 &  6402.01 & 31310.65 & 108797.17\\\\\n\t18 & 1 & 1800 & 1823 & Calendar & 2013 & Public Protection & ADP & ADP Adult Probation &  21 & Prof \\& Tech Engineers - Miscellaneous, Local 21 & ⋯ & 45754 &  40380.11 & 0 &     0.00 &  40380.11 &  7872.99 &  5262.99 &  3227.20 & 16363.18 &  56743.29\\\\\n\t19 & 1 & 1800 & 1823 & Calendar & 2013 & Public Protection & ADP & ADP Adult Probation &  21 & Prof \\& Tech Engineers - Miscellaneous, Local 21 & ⋯ & 46770 &  88016.50 & 0 &     0.00 &  88016.50 & 17332.00 & 12918.24 &  6760.28 & 37010.52 & 125027.02\\\\\n\t20 & 1 & 1800 & 1823 & Calendar & 2013 & Public Protection & ADP & ADP Adult Probation &  21 & Prof \\& Tech Engineers - Miscellaneous, Local 21 & ⋯ & 48264 &  91540.61 & 0 &     0.00 &  91540.61 & 18011.68 & 12918.24 &  7268.43 & 38198.35 & 129738.96\\\\\n\t21 & 1 & 1800 & 1824 & Calendar & 2013 & Public Protection & ADP & ADP Adult Probation &  21 & Prof \\& Tech Engineers - Miscellaneous, Local 21 & ⋯ & 33068 & 101787.06 & 0 &     0.00 & 101787.06 & 20042.02 & 12918.24 &  7988.47 & 40948.73 & 142735.79\\\\\n\t22 & 1 & 1800 & 1824 & Calendar & 2013 & Public Protection & ADP & ADP Adult Probation &  21 & Prof \\& Tech Engineers - Miscellaneous, Local 21 & ⋯ & 45754 &   3503.00 & 0 &     0.00 &   3503.00 &   637.90 &   478.45 &   299.49 &  1415.84 &   4918.84\\\\\n\t23 & 1 & 1800 & 1824 & Calendar & 2013 & Public Protection & ADP & ADP Adult Probation &  21 & Prof \\& Tech Engineers - Miscellaneous, Local 21 & ⋯ &  5021 & 104022.86 & 0 &     0.00 & 104022.86 & 20458.35 & 12918.24 &  7878.74 & 41255.33 & 145278.19\\\\\n\t24 & 1 & 1200 & 1244 & Calendar & 2013 & Public Protection & ADP & ADP Adult Probation &  22 & Prof \\& Tech Engineers - Personnel, Local 21     & ⋯ & 20957 & 104250.50 & 0 &     0.00 & 104250.50 & 20214.04 & 12918.24 &  8498.47 & 41630.75 & 145881.25\\\\\n\t25 & 1 & 1200 & 1246 & Calendar & 2013 & Public Protection & ADP & ADP Adult Probation &  22 & Prof \\& Tech Engineers - Personnel, Local 21     & ⋯ & 17388 & 133022.51 & 0 &     0.00 & 133022.51 & 25483.48 & 12918.24 &  9759.01 & 48160.73 & 181183.24\\\\\n\t26 & 1 & 1400 & 1454 & Calendar & 2013 & Public Protection & ADP & ADP Adult Probation &  22 & Prof \\& Tech Engineers - Personnel, Local 21     & ⋯ & 19930 &  67071.60 & 0 &  2077.06 &  69148.66 & 12973.88 & 10744.27 &  5439.34 & 29157.49 &  98306.15\\\\\n\t27 & 1 & 0900 & 0923 & Calendar & 2013 & Public Protection & ADP & ADP Adult Probation & 351 & Municipal Executive Association - Miscellaneous & ⋯ &  1815 & 145343.93 & 0 &     0.00 & 145343.93 & 27869.24 & 12918.24 & 12335.56 & 53123.04 & 198466.97\\\\\n\t28 & 1 & 0900 & 0923 & Calendar & 2013 & Public Protection & ADP & ADP Adult Probation & 351 & Municipal Executive Association - Miscellaneous & ⋯ &  3034 & 123825.66 & 0 &     0.00 & 123825.66 & 23728.23 & 12918.24 &  9480.88 & 46127.35 & 169953.01\\\\\n\t29 & 1 & 0900 & 0932 & Calendar & 2013 & Public Protection & ADP & ADP Adult Probation & 351 & Municipal Executive Association - Miscellaneous & ⋯ & 43208 & 155934.26 & 0 &     0.00 & 155934.26 & 29873.14 &     0.00 & 18500.13 & 48373.27 & 204307.53\\\\\n\t30 & 1 & 0900 & 8435 & Calendar & 2013 & Public Protection & ADP & ADP Adult Probation & 351 & Municipal Executive Association - Miscellaneous & ⋯ & 14308 & 122302.25 & 0 &     0.00 & 122302.25 & 21538.39 & 12918.24 & 10318.94 & 44775.57 & 167077.82\\\\\n\t31 & 1 & 0900 & 8435 & Calendar & 2013 & Public Protection & ADP & ADP Adult Probation & 351 & Municipal Executive Association - Miscellaneous & ⋯ & 15189 & 122302.27 & 0 &     0.00 & 122302.27 & 21538.37 & 12918.24 & 10890.91 & 45347.52 & 167649.79\\\\\n\t32 & 1 & 0900 & 8435 & Calendar & 2013 & Public Protection & ADP & ADP Adult Probation & 351 & Municipal Executive Association - Miscellaneous & ⋯ & 17353 & 122302.26 & 0 &     0.00 & 122302.26 & 21538.37 & 12918.24 & 10493.35 & 44949.96 & 167252.22\\\\\n\t33 & 1 & 0900 & 8435 & Calendar & 2013 & Public Protection & ADP & ADP Adult Probation & 351 & Municipal Executive Association - Miscellaneous & ⋯ & 30068 & 122302.24 & 0 &     0.00 & 122302.24 & 21538.36 & 12918.24 & 10811.11 & 45267.71 & 167569.95\\\\\n\t34 & 1 & 0900 & 8436 & Calendar & 2013 & Public Protection & ADP & ADP Adult Probation & 351 & Municipal Executive Association - Miscellaneous & ⋯ & 43952 & 209697.02 & 0 &     0.00 & 209697.02 & 36944.94 & 12918.24 & 12228.03 & 62091.21 & 271788.23\\\\\n\t35 & 1 & 8400 & 8438 & Calendar & 2013 & Public Protection & ADP & ADP Adult Probation & 351 & Municipal Executive Association - Miscellaneous & ⋯ &  5635 &  69257.89 & 0 &     0.00 &  69257.89 &     0.00 &  6653.49 &  5361.94 & 12015.43 &  81273.32\\\\\n\t36 & 1 & 8400 & 8592 & Calendar & 2013 & Public Protection & ADP & ADP Adult Probation & 351 & Municipal Executive Association - Miscellaneous & ⋯ & 41629 & 162953.50 & 0 &     0.00 & 162953.50 & 31217.66 & 12918.24 &  2608.57 & 46744.47 & 209697.97\\\\\n\t37 & 1 & 8400 & 8444 & Calendar & 2013 & Public Protection & ADP & ADP Adult Probation & 651 & Deputy Probation Officers' Association          & ⋯ & 10922 &  93300.65 & 0 &     0.00 &  93300.65 & 16454.93 & 12537.33 &  1585.09 & 30577.35 & 123878.00\\\\\n\t38 & 1 & 8400 & 8444 & Calendar & 2013 & Public Protection & ADP & ADP Adult Probation & 651 & Deputy Probation Officers' Association          & ⋯ & 10988 &  66139.71 & 0 &     0.00 &  66139.71 & 11647.69 & 12918.24 &  1099.15 & 25665.08 &  91804.79\\\\\n\t39 & 1 & 8400 & 8444 & Calendar & 2013 & Public Protection & ADP & ADP Adult Probation & 651 & Deputy Probation Officers' Association          & ⋯ & 11294 &  96595.64 & 0 &     0.00 &  96595.64 & 17020.61 & 12918.25 &  1600.19 & 31539.05 & 128134.69\\\\\n\t40 & 1 & 8400 & 8444 & Calendar & 2013 & Public Protection & ADP & ADP Adult Probation & 651 & Deputy Probation Officers' Association          & ⋯ & 12948 &  76487.01 & 0 &     0.00 &  76487.01 & 13469.78 & 12918.25 &  1300.28 & 27688.31 & 104175.32\\\\\n\\end{tabular}\n",
            "text/plain": [
              "   Organization.Group.Code Job.Family.Code Job.Code Year.Type Year\n",
              "1  1                       1000            1021     Calendar  2013\n",
              "2  1                       1000            1023     Calendar  2013\n",
              "3  1                       1000            1031     Calendar  2013\n",
              "4  1                       1000            1054     Calendar  2013\n",
              "5  1                       1000            1062     Calendar  2013\n",
              "6  1                       1000            1064     Calendar  2013\n",
              "7  1                       1000            1070     Calendar  2013\n",
              "8  1                       1000            1094     Calendar  2013\n",
              "9  1                       1200            1232     Calendar  2013\n",
              "10 1                       1600            1654     Calendar  2013\n",
              "11 1                       1600            1654     Calendar  2013\n",
              "12 1                       1600            1654     Calendar  2013\n",
              "13 1                       1600            1657     Calendar  2013\n",
              "14 1                       1800            1823     Calendar  2013\n",
              "15 1                       1800            1823     Calendar  2013\n",
              "16 1                       1800            1823     Calendar  2013\n",
              "17 1                       1800            1823     Calendar  2013\n",
              "18 1                       1800            1823     Calendar  2013\n",
              "19 1                       1800            1823     Calendar  2013\n",
              "20 1                       1800            1823     Calendar  2013\n",
              "21 1                       1800            1824     Calendar  2013\n",
              "22 1                       1800            1824     Calendar  2013\n",
              "23 1                       1800            1824     Calendar  2013\n",
              "24 1                       1200            1244     Calendar  2013\n",
              "25 1                       1200            1246     Calendar  2013\n",
              "26 1                       1400            1454     Calendar  2013\n",
              "27 1                       0900            0923     Calendar  2013\n",
              "28 1                       0900            0923     Calendar  2013\n",
              "29 1                       0900            0932     Calendar  2013\n",
              "30 1                       0900            8435     Calendar  2013\n",
              "31 1                       0900            8435     Calendar  2013\n",
              "32 1                       0900            8435     Calendar  2013\n",
              "33 1                       0900            8435     Calendar  2013\n",
              "34 1                       0900            8436     Calendar  2013\n",
              "35 1                       8400            8438     Calendar  2013\n",
              "36 1                       8400            8592     Calendar  2013\n",
              "37 1                       8400            8444     Calendar  2013\n",
              "38 1                       8400            8444     Calendar  2013\n",
              "39 1                       8400            8444     Calendar  2013\n",
              "40 1                       8400            8444     Calendar  2013\n",
              "   Organization.Group Department.Code Department          Union.Code\n",
              "1  Public Protection  ADP             ADP Adult Probation  21       \n",
              "2  Public Protection  ADP             ADP Adult Probation  21       \n",
              "3  Public Protection  ADP             ADP Adult Probation  21       \n",
              "4  Public Protection  ADP             ADP Adult Probation  21       \n",
              "5  Public Protection  ADP             ADP Adult Probation  21       \n",
              "6  Public Protection  ADP             ADP Adult Probation  21       \n",
              "7  Public Protection  ADP             ADP Adult Probation  21       \n",
              "8  Public Protection  ADP             ADP Adult Probation  21       \n",
              "9  Public Protection  ADP             ADP Adult Probation  21       \n",
              "10 Public Protection  ADP             ADP Adult Probation  21       \n",
              "11 Public Protection  ADP             ADP Adult Probation  21       \n",
              "12 Public Protection  ADP             ADP Adult Probation  21       \n",
              "13 Public Protection  ADP             ADP Adult Probation  21       \n",
              "14 Public Protection  ADP             ADP Adult Probation  21       \n",
              "15 Public Protection  ADP             ADP Adult Probation  21       \n",
              "16 Public Protection  ADP             ADP Adult Probation  21       \n",
              "17 Public Protection  ADP             ADP Adult Probation  21       \n",
              "18 Public Protection  ADP             ADP Adult Probation  21       \n",
              "19 Public Protection  ADP             ADP Adult Probation  21       \n",
              "20 Public Protection  ADP             ADP Adult Probation  21       \n",
              "21 Public Protection  ADP             ADP Adult Probation  21       \n",
              "22 Public Protection  ADP             ADP Adult Probation  21       \n",
              "23 Public Protection  ADP             ADP Adult Probation  21       \n",
              "24 Public Protection  ADP             ADP Adult Probation  22       \n",
              "25 Public Protection  ADP             ADP Adult Probation  22       \n",
              "26 Public Protection  ADP             ADP Adult Probation  22       \n",
              "27 Public Protection  ADP             ADP Adult Probation 351       \n",
              "28 Public Protection  ADP             ADP Adult Probation 351       \n",
              "29 Public Protection  ADP             ADP Adult Probation 351       \n",
              "30 Public Protection  ADP             ADP Adult Probation 351       \n",
              "31 Public Protection  ADP             ADP Adult Probation 351       \n",
              "32 Public Protection  ADP             ADP Adult Probation 351       \n",
              "33 Public Protection  ADP             ADP Adult Probation 351       \n",
              "34 Public Protection  ADP             ADP Adult Probation 351       \n",
              "35 Public Protection  ADP             ADP Adult Probation 351       \n",
              "36 Public Protection  ADP             ADP Adult Probation 351       \n",
              "37 Public Protection  ADP             ADP Adult Probation 651       \n",
              "38 Public Protection  ADP             ADP Adult Probation 651       \n",
              "39 Public Protection  ADP             ADP Adult Probation 651       \n",
              "40 Public Protection  ADP             ADP Adult Probation 651       \n",
              "   Union                                           ⋯ Employee.Identifier\n",
              "1  Prof & Tech Engineers - Miscellaneous, Local 21 ⋯ 37730              \n",
              "2  Prof & Tech Engineers - Miscellaneous, Local 21 ⋯ 26574              \n",
              "3  Prof & Tech Engineers - Miscellaneous, Local 21 ⋯  8148              \n",
              "4  Prof & Tech Engineers - Miscellaneous, Local 21 ⋯ 27436              \n",
              "5  Prof & Tech Engineers - Miscellaneous, Local 21 ⋯ 37730              \n",
              "6  Prof & Tech Engineers - Miscellaneous, Local 21 ⋯ 36223              \n",
              "7  Prof & Tech Engineers - Miscellaneous, Local 21 ⋯ 51426              \n",
              "8  Prof & Tech Engineers - Miscellaneous, Local 21 ⋯ 26574              \n",
              "9  Prof & Tech Engineers - Miscellaneous, Local 21 ⋯ 37983              \n",
              "10 Prof & Tech Engineers - Miscellaneous, Local 21 ⋯ 16858              \n",
              "11 Prof & Tech Engineers - Miscellaneous, Local 21 ⋯ 32693              \n",
              "12 Prof & Tech Engineers - Miscellaneous, Local 21 ⋯ 43501              \n",
              "13 Prof & Tech Engineers - Miscellaneous, Local 21 ⋯ 16858              \n",
              "14 Prof & Tech Engineers - Miscellaneous, Local 21 ⋯ 21653              \n",
              "15 Prof & Tech Engineers - Miscellaneous, Local 21 ⋯ 34205              \n",
              "16 Prof & Tech Engineers - Miscellaneous, Local 21 ⋯ 35965              \n",
              "17 Prof & Tech Engineers - Miscellaneous, Local 21 ⋯ 39039              \n",
              "18 Prof & Tech Engineers - Miscellaneous, Local 21 ⋯ 45754              \n",
              "19 Prof & Tech Engineers - Miscellaneous, Local 21 ⋯ 46770              \n",
              "20 Prof & Tech Engineers - Miscellaneous, Local 21 ⋯ 48264              \n",
              "21 Prof & Tech Engineers - Miscellaneous, Local 21 ⋯ 33068              \n",
              "22 Prof & Tech Engineers - Miscellaneous, Local 21 ⋯ 45754              \n",
              "23 Prof & Tech Engineers - Miscellaneous, Local 21 ⋯  5021              \n",
              "24 Prof & Tech Engineers - Personnel, Local 21     ⋯ 20957              \n",
              "25 Prof & Tech Engineers - Personnel, Local 21     ⋯ 17388              \n",
              "26 Prof & Tech Engineers - Personnel, Local 21     ⋯ 19930              \n",
              "27 Municipal Executive Association - Miscellaneous ⋯  1815              \n",
              "28 Municipal Executive Association - Miscellaneous ⋯  3034              \n",
              "29 Municipal Executive Association - Miscellaneous ⋯ 43208              \n",
              "30 Municipal Executive Association - Miscellaneous ⋯ 14308              \n",
              "31 Municipal Executive Association - Miscellaneous ⋯ 15189              \n",
              "32 Municipal Executive Association - Miscellaneous ⋯ 17353              \n",
              "33 Municipal Executive Association - Miscellaneous ⋯ 30068              \n",
              "34 Municipal Executive Association - Miscellaneous ⋯ 43952              \n",
              "35 Municipal Executive Association - Miscellaneous ⋯  5635              \n",
              "36 Municipal Executive Association - Miscellaneous ⋯ 41629              \n",
              "37 Deputy Probation Officers' Association          ⋯ 10922              \n",
              "38 Deputy Probation Officers' Association          ⋯ 10988              \n",
              "39 Deputy Probation Officers' Association          ⋯ 11294              \n",
              "40 Deputy Probation Officers' Association          ⋯ 12948              \n",
              "   Salaries  Overtime Other.Salaries Total.Salary Retirement Health.and.Dental\n",
              "1   57534.65 0            0.00        57534.65    11253.16   11961.34         \n",
              "2   57678.50 0            0.00        57678.50    10284.88    7176.80         \n",
              "3   63532.93 0            0.00        63532.93    12495.83   12918.24         \n",
              "4  101274.51 0        -7058.59        94215.92    19644.45   12918.24         \n",
              "5    5084.00 0            0.00         5084.00     1083.90     956.91         \n",
              "6   34456.00 0            0.00        34456.00     7346.00    3827.63         \n",
              "7  139889.00 0            0.00       139889.00    26799.23   12918.24         \n",
              "8   46572.00 0            0.00        46572.00     9929.16    5741.44         \n",
              "9   84681.53 0            0.00        84681.53    16661.84   12918.24         \n",
              "10  10611.01 0            0.00        10611.01     1879.20    1435.36         \n",
              "11  43171.50 0            0.00        43171.50     9061.62    6698.35         \n",
              "12   3155.01 0            0.00         3155.01      574.53       0.00         \n",
              "13  10611.00 0            0.00        10611.00     1879.20    1435.36         \n",
              "14  38491.83 0            0.00        38491.83     8161.75    6028.51         \n",
              "15  54645.50 0            0.00        54645.50    10473.72    8612.16         \n",
              "16  91826.22 0            0.00        91826.22    18072.56   12918.24         \n",
              "17  77486.52 0            0.00        77486.52    14861.12   10047.52         \n",
              "18  40380.11 0            0.00        40380.11     7872.99    5262.99         \n",
              "19  88016.50 0            0.00        88016.50    17332.00   12918.24         \n",
              "20  91540.61 0            0.00        91540.61    18011.68   12918.24         \n",
              "21 101787.06 0            0.00       101787.06    20042.02   12918.24         \n",
              "22   3503.00 0            0.00         3503.00      637.90     478.45         \n",
              "23 104022.86 0            0.00       104022.86    20458.35   12918.24         \n",
              "24 104250.50 0            0.00       104250.50    20214.04   12918.24         \n",
              "25 133022.51 0            0.00       133022.51    25483.48   12918.24         \n",
              "26  67071.60 0         2077.06        69148.66    12973.88   10744.27         \n",
              "27 145343.93 0            0.00       145343.93    27869.24   12918.24         \n",
              "28 123825.66 0            0.00       123825.66    23728.23   12918.24         \n",
              "29 155934.26 0            0.00       155934.26    29873.14       0.00         \n",
              "30 122302.25 0            0.00       122302.25    21538.39   12918.24         \n",
              "31 122302.27 0            0.00       122302.27    21538.37   12918.24         \n",
              "32 122302.26 0            0.00       122302.26    21538.37   12918.24         \n",
              "33 122302.24 0            0.00       122302.24    21538.36   12918.24         \n",
              "34 209697.02 0            0.00       209697.02    36944.94   12918.24         \n",
              "35  69257.89 0            0.00        69257.89        0.00    6653.49         \n",
              "36 162953.50 0            0.00       162953.50    31217.66   12918.24         \n",
              "37  93300.65 0            0.00        93300.65    16454.93   12537.33         \n",
              "38  66139.71 0            0.00        66139.71    11647.69   12918.24         \n",
              "39  96595.64 0            0.00        96595.64    17020.61   12918.25         \n",
              "40  76487.01 0            0.00        76487.01    13469.78   12918.25         \n",
              "   Other.Benefits Total.Benefits Total.Compensation\n",
              "1   4532.63       27747.13        85281.78         \n",
              "2   4755.14       22216.82        79895.32         \n",
              "3   4702.71       30116.78        93649.71         \n",
              "4   7458.76       40021.45       134237.37         \n",
              "5    387.50        2428.31         7512.31         \n",
              "6   2579.95       13753.58        48209.58         \n",
              "7   9791.54       49509.01       189398.01         \n",
              "8   3822.28       19492.88        66064.88         \n",
              "9   6838.44       36418.52       121100.05         \n",
              "10   827.09        4141.65        14752.66         \n",
              "11  3502.18       19262.15        62433.65         \n",
              "12   218.78         793.31         3948.32         \n",
              "13   804.35        4118.91        14729.91         \n",
              "14  3094.21       17284.47        55776.30         \n",
              "15  4389.44       23475.32        78120.82         \n",
              "16  7811.62       38802.42       130628.64         \n",
              "17  6402.01       31310.65       108797.17         \n",
              "18  3227.20       16363.18        56743.29         \n",
              "19  6760.28       37010.52       125027.02         \n",
              "20  7268.43       38198.35       129738.96         \n",
              "21  7988.47       40948.73       142735.79         \n",
              "22   299.49        1415.84         4918.84         \n",
              "23  7878.74       41255.33       145278.19         \n",
              "24  8498.47       41630.75       145881.25         \n",
              "25  9759.01       48160.73       181183.24         \n",
              "26  5439.34       29157.49        98306.15         \n",
              "27 12335.56       53123.04       198466.97         \n",
              "28  9480.88       46127.35       169953.01         \n",
              "29 18500.13       48373.27       204307.53         \n",
              "30 10318.94       44775.57       167077.82         \n",
              "31 10890.91       45347.52       167649.79         \n",
              "32 10493.35       44949.96       167252.22         \n",
              "33 10811.11       45267.71       167569.95         \n",
              "34 12228.03       62091.21       271788.23         \n",
              "35  5361.94       12015.43        81273.32         \n",
              "36  2608.57       46744.47       209697.97         \n",
              "37  1585.09       30577.35       123878.00         \n",
              "38  1099.15       25665.08        91804.79         \n",
              "39  1600.19       31539.05       128134.69         \n",
              "40  1300.28       27688.31       104175.32         "
            ]
          },
          "metadata": {}
        }
      ]
    },
    {
      "cell_type": "markdown",
      "source": [
        "\n",
        "\n",
        "\n",
        "\n",
        "\n",
        "\n",
        "## Data Exploration\n",
        "i take first 10 columns using head command and for ncol() and nrow(). For percentiles of the numerical values usage quantile fuction.\n"
      ],
      "metadata": {
        "id": "5XgY4iTiojG_"
      }
    },
    {
      "cell_type": "code",
      "source": [
        "head(data,10)"
      ],
      "metadata": {
        "colab": {
          "base_uri": "https://localhost:8080/",
          "height": 952
        },
        "id": "hdVPptR0orFH",
        "outputId": "1b680ac6-8110-4971-c48d-6b8330b21ec9"
      },
      "execution_count": null,
      "outputs": [
        {
          "output_type": "display_data",
          "data": {
            "text/html": [
              "<table class=\"dataframe\">\n",
              "<caption>A data.frame: 10 × 22</caption>\n",
              "<thead>\n",
              "\t<tr><th></th><th scope=col>Organization.Group.Code</th><th scope=col>Job.Family.Code</th><th scope=col>Job.Code</th><th scope=col>Year.Type</th><th scope=col>Year</th><th scope=col>Organization.Group</th><th scope=col>Department.Code</th><th scope=col>Department</th><th scope=col>Union.Code</th><th scope=col>Union</th><th scope=col>⋯</th><th scope=col>Employee.Identifier</th><th scope=col>Salaries</th><th scope=col>Overtime</th><th scope=col>Other.Salaries</th><th scope=col>Total.Salary</th><th scope=col>Retirement</th><th scope=col>Health.and.Dental</th><th scope=col>Other.Benefits</th><th scope=col>Total.Benefits</th><th scope=col>Total.Compensation</th></tr>\n",
              "\t<tr><th></th><th scope=col>&lt;int&gt;</th><th scope=col>&lt;chr&gt;</th><th scope=col>&lt;chr&gt;</th><th scope=col>&lt;chr&gt;</th><th scope=col>&lt;int&gt;</th><th scope=col>&lt;chr&gt;</th><th scope=col>&lt;chr&gt;</th><th scope=col>&lt;chr&gt;</th><th scope=col>&lt;int&gt;</th><th scope=col>&lt;chr&gt;</th><th scope=col>⋯</th><th scope=col>&lt;int&gt;</th><th scope=col>&lt;dbl&gt;</th><th scope=col>&lt;dbl&gt;</th><th scope=col>&lt;dbl&gt;</th><th scope=col>&lt;dbl&gt;</th><th scope=col>&lt;dbl&gt;</th><th scope=col>&lt;dbl&gt;</th><th scope=col>&lt;dbl&gt;</th><th scope=col>&lt;dbl&gt;</th><th scope=col>&lt;dbl&gt;</th></tr>\n",
              "</thead>\n",
              "<tbody>\n",
              "\t<tr><th scope=row>1</th><td>1</td><td>1000</td><td>1021</td><td>Calendar</td><td>2013</td><td>Public Protection</td><td>ADP</td><td>ADP Adult Probation</td><td>21</td><td>Prof &amp; Tech Engineers - Miscellaneous, Local 21</td><td>⋯</td><td>37730</td><td> 57534.65</td><td>0</td><td><span style=white-space:pre-wrap>    0.00</span></td><td> 57534.65</td><td>11253.16</td><td>11961.34</td><td>4532.63</td><td>27747.13</td><td> 85281.78</td></tr>\n",
              "\t<tr><th scope=row>2</th><td>1</td><td>1000</td><td>1023</td><td>Calendar</td><td>2013</td><td>Public Protection</td><td>ADP</td><td>ADP Adult Probation</td><td>21</td><td>Prof &amp; Tech Engineers - Miscellaneous, Local 21</td><td>⋯</td><td>26574</td><td> 57678.50</td><td>0</td><td><span style=white-space:pre-wrap>    0.00</span></td><td> 57678.50</td><td>10284.88</td><td> 7176.80</td><td>4755.14</td><td>22216.82</td><td> 79895.32</td></tr>\n",
              "\t<tr><th scope=row>3</th><td>1</td><td>1000</td><td>1031</td><td>Calendar</td><td>2013</td><td>Public Protection</td><td>ADP</td><td>ADP Adult Probation</td><td>21</td><td>Prof &amp; Tech Engineers - Miscellaneous, Local 21</td><td>⋯</td><td> 8148</td><td> 63532.93</td><td>0</td><td><span style=white-space:pre-wrap>    0.00</span></td><td> 63532.93</td><td>12495.83</td><td>12918.24</td><td>4702.71</td><td>30116.78</td><td> 93649.71</td></tr>\n",
              "\t<tr><th scope=row>4</th><td>1</td><td>1000</td><td>1054</td><td>Calendar</td><td>2013</td><td>Public Protection</td><td>ADP</td><td>ADP Adult Probation</td><td>21</td><td>Prof &amp; Tech Engineers - Miscellaneous, Local 21</td><td>⋯</td><td>27436</td><td>101274.51</td><td>0</td><td>-7058.59</td><td> 94215.92</td><td>19644.45</td><td>12918.24</td><td>7458.76</td><td>40021.45</td><td>134237.37</td></tr>\n",
              "\t<tr><th scope=row>5</th><td>1</td><td>1000</td><td>1062</td><td>Calendar</td><td>2013</td><td>Public Protection</td><td>ADP</td><td>ADP Adult Probation</td><td>21</td><td>Prof &amp; Tech Engineers - Miscellaneous, Local 21</td><td>⋯</td><td>37730</td><td><span style=white-space:pre-wrap>  5084.00</span></td><td>0</td><td><span style=white-space:pre-wrap>    0.00</span></td><td><span style=white-space:pre-wrap>  5084.00</span></td><td> 1083.90</td><td><span style=white-space:pre-wrap>  956.91</span></td><td> 387.50</td><td> 2428.31</td><td><span style=white-space:pre-wrap>  7512.31</span></td></tr>\n",
              "\t<tr><th scope=row>6</th><td>1</td><td>1000</td><td>1064</td><td>Calendar</td><td>2013</td><td>Public Protection</td><td>ADP</td><td>ADP Adult Probation</td><td>21</td><td>Prof &amp; Tech Engineers - Miscellaneous, Local 21</td><td>⋯</td><td>36223</td><td> 34456.00</td><td>0</td><td><span style=white-space:pre-wrap>    0.00</span></td><td> 34456.00</td><td> 7346.00</td><td> 3827.63</td><td>2579.95</td><td>13753.58</td><td> 48209.58</td></tr>\n",
              "\t<tr><th scope=row>7</th><td>1</td><td>1000</td><td>1070</td><td>Calendar</td><td>2013</td><td>Public Protection</td><td>ADP</td><td>ADP Adult Probation</td><td>21</td><td>Prof &amp; Tech Engineers - Miscellaneous, Local 21</td><td>⋯</td><td>51426</td><td>139889.00</td><td>0</td><td><span style=white-space:pre-wrap>    0.00</span></td><td>139889.00</td><td>26799.23</td><td>12918.24</td><td>9791.54</td><td>49509.01</td><td>189398.01</td></tr>\n",
              "\t<tr><th scope=row>8</th><td>1</td><td>1000</td><td>1094</td><td>Calendar</td><td>2013</td><td>Public Protection</td><td>ADP</td><td>ADP Adult Probation</td><td>21</td><td>Prof &amp; Tech Engineers - Miscellaneous, Local 21</td><td>⋯</td><td>26574</td><td> 46572.00</td><td>0</td><td><span style=white-space:pre-wrap>    0.00</span></td><td> 46572.00</td><td> 9929.16</td><td> 5741.44</td><td>3822.28</td><td>19492.88</td><td> 66064.88</td></tr>\n",
              "\t<tr><th scope=row>9</th><td>1</td><td>1200</td><td>1232</td><td>Calendar</td><td>2013</td><td>Public Protection</td><td>ADP</td><td>ADP Adult Probation</td><td>21</td><td>Prof &amp; Tech Engineers - Miscellaneous, Local 21</td><td>⋯</td><td>37983</td><td> 84681.53</td><td>0</td><td><span style=white-space:pre-wrap>    0.00</span></td><td> 84681.53</td><td>16661.84</td><td>12918.24</td><td>6838.44</td><td>36418.52</td><td>121100.05</td></tr>\n",
              "\t<tr><th scope=row>10</th><td>1</td><td>1600</td><td>1654</td><td>Calendar</td><td>2013</td><td>Public Protection</td><td>ADP</td><td>ADP Adult Probation</td><td>21</td><td>Prof &amp; Tech Engineers - Miscellaneous, Local 21</td><td>⋯</td><td>16858</td><td> 10611.01</td><td>0</td><td><span style=white-space:pre-wrap>    0.00</span></td><td> 10611.01</td><td> 1879.20</td><td> 1435.36</td><td> 827.09</td><td> 4141.65</td><td> 14752.66</td></tr>\n",
              "</tbody>\n",
              "</table>\n"
            ],
            "text/markdown": "\nA data.frame: 10 × 22\n\n| <!--/--> | Organization.Group.Code &lt;int&gt; | Job.Family.Code &lt;chr&gt; | Job.Code &lt;chr&gt; | Year.Type &lt;chr&gt; | Year &lt;int&gt; | Organization.Group &lt;chr&gt; | Department.Code &lt;chr&gt; | Department &lt;chr&gt; | Union.Code &lt;int&gt; | Union &lt;chr&gt; | ⋯ ⋯ | Employee.Identifier &lt;int&gt; | Salaries &lt;dbl&gt; | Overtime &lt;dbl&gt; | Other.Salaries &lt;dbl&gt; | Total.Salary &lt;dbl&gt; | Retirement &lt;dbl&gt; | Health.and.Dental &lt;dbl&gt; | Other.Benefits &lt;dbl&gt; | Total.Benefits &lt;dbl&gt; | Total.Compensation &lt;dbl&gt; |\n|---|---|---|---|---|---|---|---|---|---|---|---|---|---|---|---|---|---|---|---|---|---|\n| 1 | 1 | 1000 | 1021 | Calendar | 2013 | Public Protection | ADP | ADP Adult Probation | 21 | Prof &amp; Tech Engineers - Miscellaneous, Local 21 | ⋯ | 37730 |  57534.65 | 0 |     0.00 |  57534.65 | 11253.16 | 11961.34 | 4532.63 | 27747.13 |  85281.78 |\n| 2 | 1 | 1000 | 1023 | Calendar | 2013 | Public Protection | ADP | ADP Adult Probation | 21 | Prof &amp; Tech Engineers - Miscellaneous, Local 21 | ⋯ | 26574 |  57678.50 | 0 |     0.00 |  57678.50 | 10284.88 |  7176.80 | 4755.14 | 22216.82 |  79895.32 |\n| 3 | 1 | 1000 | 1031 | Calendar | 2013 | Public Protection | ADP | ADP Adult Probation | 21 | Prof &amp; Tech Engineers - Miscellaneous, Local 21 | ⋯ |  8148 |  63532.93 | 0 |     0.00 |  63532.93 | 12495.83 | 12918.24 | 4702.71 | 30116.78 |  93649.71 |\n| 4 | 1 | 1000 | 1054 | Calendar | 2013 | Public Protection | ADP | ADP Adult Probation | 21 | Prof &amp; Tech Engineers - Miscellaneous, Local 21 | ⋯ | 27436 | 101274.51 | 0 | -7058.59 |  94215.92 | 19644.45 | 12918.24 | 7458.76 | 40021.45 | 134237.37 |\n| 5 | 1 | 1000 | 1062 | Calendar | 2013 | Public Protection | ADP | ADP Adult Probation | 21 | Prof &amp; Tech Engineers - Miscellaneous, Local 21 | ⋯ | 37730 |   5084.00 | 0 |     0.00 |   5084.00 |  1083.90 |   956.91 |  387.50 |  2428.31 |   7512.31 |\n| 6 | 1 | 1000 | 1064 | Calendar | 2013 | Public Protection | ADP | ADP Adult Probation | 21 | Prof &amp; Tech Engineers - Miscellaneous, Local 21 | ⋯ | 36223 |  34456.00 | 0 |     0.00 |  34456.00 |  7346.00 |  3827.63 | 2579.95 | 13753.58 |  48209.58 |\n| 7 | 1 | 1000 | 1070 | Calendar | 2013 | Public Protection | ADP | ADP Adult Probation | 21 | Prof &amp; Tech Engineers - Miscellaneous, Local 21 | ⋯ | 51426 | 139889.00 | 0 |     0.00 | 139889.00 | 26799.23 | 12918.24 | 9791.54 | 49509.01 | 189398.01 |\n| 8 | 1 | 1000 | 1094 | Calendar | 2013 | Public Protection | ADP | ADP Adult Probation | 21 | Prof &amp; Tech Engineers - Miscellaneous, Local 21 | ⋯ | 26574 |  46572.00 | 0 |     0.00 |  46572.00 |  9929.16 |  5741.44 | 3822.28 | 19492.88 |  66064.88 |\n| 9 | 1 | 1200 | 1232 | Calendar | 2013 | Public Protection | ADP | ADP Adult Probation | 21 | Prof &amp; Tech Engineers - Miscellaneous, Local 21 | ⋯ | 37983 |  84681.53 | 0 |     0.00 |  84681.53 | 16661.84 | 12918.24 | 6838.44 | 36418.52 | 121100.05 |\n| 10 | 1 | 1600 | 1654 | Calendar | 2013 | Public Protection | ADP | ADP Adult Probation | 21 | Prof &amp; Tech Engineers - Miscellaneous, Local 21 | ⋯ | 16858 |  10611.01 | 0 |     0.00 |  10611.01 |  1879.20 |  1435.36 |  827.09 |  4141.65 |  14752.66 |\n\n",
            "text/latex": "A data.frame: 10 × 22\n\\begin{tabular}{r|lllllllllllllllllllll}\n  & Organization.Group.Code & Job.Family.Code & Job.Code & Year.Type & Year & Organization.Group & Department.Code & Department & Union.Code & Union & ⋯ & Employee.Identifier & Salaries & Overtime & Other.Salaries & Total.Salary & Retirement & Health.and.Dental & Other.Benefits & Total.Benefits & Total.Compensation\\\\\n  & <int> & <chr> & <chr> & <chr> & <int> & <chr> & <chr> & <chr> & <int> & <chr> & ⋯ & <int> & <dbl> & <dbl> & <dbl> & <dbl> & <dbl> & <dbl> & <dbl> & <dbl> & <dbl>\\\\\n\\hline\n\t1 & 1 & 1000 & 1021 & Calendar & 2013 & Public Protection & ADP & ADP Adult Probation & 21 & Prof \\& Tech Engineers - Miscellaneous, Local 21 & ⋯ & 37730 &  57534.65 & 0 &     0.00 &  57534.65 & 11253.16 & 11961.34 & 4532.63 & 27747.13 &  85281.78\\\\\n\t2 & 1 & 1000 & 1023 & Calendar & 2013 & Public Protection & ADP & ADP Adult Probation & 21 & Prof \\& Tech Engineers - Miscellaneous, Local 21 & ⋯ & 26574 &  57678.50 & 0 &     0.00 &  57678.50 & 10284.88 &  7176.80 & 4755.14 & 22216.82 &  79895.32\\\\\n\t3 & 1 & 1000 & 1031 & Calendar & 2013 & Public Protection & ADP & ADP Adult Probation & 21 & Prof \\& Tech Engineers - Miscellaneous, Local 21 & ⋯ &  8148 &  63532.93 & 0 &     0.00 &  63532.93 & 12495.83 & 12918.24 & 4702.71 & 30116.78 &  93649.71\\\\\n\t4 & 1 & 1000 & 1054 & Calendar & 2013 & Public Protection & ADP & ADP Adult Probation & 21 & Prof \\& Tech Engineers - Miscellaneous, Local 21 & ⋯ & 27436 & 101274.51 & 0 & -7058.59 &  94215.92 & 19644.45 & 12918.24 & 7458.76 & 40021.45 & 134237.37\\\\\n\t5 & 1 & 1000 & 1062 & Calendar & 2013 & Public Protection & ADP & ADP Adult Probation & 21 & Prof \\& Tech Engineers - Miscellaneous, Local 21 & ⋯ & 37730 &   5084.00 & 0 &     0.00 &   5084.00 &  1083.90 &   956.91 &  387.50 &  2428.31 &   7512.31\\\\\n\t6 & 1 & 1000 & 1064 & Calendar & 2013 & Public Protection & ADP & ADP Adult Probation & 21 & Prof \\& Tech Engineers - Miscellaneous, Local 21 & ⋯ & 36223 &  34456.00 & 0 &     0.00 &  34456.00 &  7346.00 &  3827.63 & 2579.95 & 13753.58 &  48209.58\\\\\n\t7 & 1 & 1000 & 1070 & Calendar & 2013 & Public Protection & ADP & ADP Adult Probation & 21 & Prof \\& Tech Engineers - Miscellaneous, Local 21 & ⋯ & 51426 & 139889.00 & 0 &     0.00 & 139889.00 & 26799.23 & 12918.24 & 9791.54 & 49509.01 & 189398.01\\\\\n\t8 & 1 & 1000 & 1094 & Calendar & 2013 & Public Protection & ADP & ADP Adult Probation & 21 & Prof \\& Tech Engineers - Miscellaneous, Local 21 & ⋯ & 26574 &  46572.00 & 0 &     0.00 &  46572.00 &  9929.16 &  5741.44 & 3822.28 & 19492.88 &  66064.88\\\\\n\t9 & 1 & 1200 & 1232 & Calendar & 2013 & Public Protection & ADP & ADP Adult Probation & 21 & Prof \\& Tech Engineers - Miscellaneous, Local 21 & ⋯ & 37983 &  84681.53 & 0 &     0.00 &  84681.53 & 16661.84 & 12918.24 & 6838.44 & 36418.52 & 121100.05\\\\\n\t10 & 1 & 1600 & 1654 & Calendar & 2013 & Public Protection & ADP & ADP Adult Probation & 21 & Prof \\& Tech Engineers - Miscellaneous, Local 21 & ⋯ & 16858 &  10611.01 & 0 &     0.00 &  10611.01 &  1879.20 &  1435.36 &  827.09 &  4141.65 &  14752.66\\\\\n\\end{tabular}\n",
            "text/plain": [
              "   Organization.Group.Code Job.Family.Code Job.Code Year.Type Year\n",
              "1  1                       1000            1021     Calendar  2013\n",
              "2  1                       1000            1023     Calendar  2013\n",
              "3  1                       1000            1031     Calendar  2013\n",
              "4  1                       1000            1054     Calendar  2013\n",
              "5  1                       1000            1062     Calendar  2013\n",
              "6  1                       1000            1064     Calendar  2013\n",
              "7  1                       1000            1070     Calendar  2013\n",
              "8  1                       1000            1094     Calendar  2013\n",
              "9  1                       1200            1232     Calendar  2013\n",
              "10 1                       1600            1654     Calendar  2013\n",
              "   Organization.Group Department.Code Department          Union.Code\n",
              "1  Public Protection  ADP             ADP Adult Probation 21        \n",
              "2  Public Protection  ADP             ADP Adult Probation 21        \n",
              "3  Public Protection  ADP             ADP Adult Probation 21        \n",
              "4  Public Protection  ADP             ADP Adult Probation 21        \n",
              "5  Public Protection  ADP             ADP Adult Probation 21        \n",
              "6  Public Protection  ADP             ADP Adult Probation 21        \n",
              "7  Public Protection  ADP             ADP Adult Probation 21        \n",
              "8  Public Protection  ADP             ADP Adult Probation 21        \n",
              "9  Public Protection  ADP             ADP Adult Probation 21        \n",
              "10 Public Protection  ADP             ADP Adult Probation 21        \n",
              "   Union                                           ⋯ Employee.Identifier\n",
              "1  Prof & Tech Engineers - Miscellaneous, Local 21 ⋯ 37730              \n",
              "2  Prof & Tech Engineers - Miscellaneous, Local 21 ⋯ 26574              \n",
              "3  Prof & Tech Engineers - Miscellaneous, Local 21 ⋯  8148              \n",
              "4  Prof & Tech Engineers - Miscellaneous, Local 21 ⋯ 27436              \n",
              "5  Prof & Tech Engineers - Miscellaneous, Local 21 ⋯ 37730              \n",
              "6  Prof & Tech Engineers - Miscellaneous, Local 21 ⋯ 36223              \n",
              "7  Prof & Tech Engineers - Miscellaneous, Local 21 ⋯ 51426              \n",
              "8  Prof & Tech Engineers - Miscellaneous, Local 21 ⋯ 26574              \n",
              "9  Prof & Tech Engineers - Miscellaneous, Local 21 ⋯ 37983              \n",
              "10 Prof & Tech Engineers - Miscellaneous, Local 21 ⋯ 16858              \n",
              "   Salaries  Overtime Other.Salaries Total.Salary Retirement Health.and.Dental\n",
              "1   57534.65 0            0.00        57534.65    11253.16   11961.34         \n",
              "2   57678.50 0            0.00        57678.50    10284.88    7176.80         \n",
              "3   63532.93 0            0.00        63532.93    12495.83   12918.24         \n",
              "4  101274.51 0        -7058.59        94215.92    19644.45   12918.24         \n",
              "5    5084.00 0            0.00         5084.00     1083.90     956.91         \n",
              "6   34456.00 0            0.00        34456.00     7346.00    3827.63         \n",
              "7  139889.00 0            0.00       139889.00    26799.23   12918.24         \n",
              "8   46572.00 0            0.00        46572.00     9929.16    5741.44         \n",
              "9   84681.53 0            0.00        84681.53    16661.84   12918.24         \n",
              "10  10611.01 0            0.00        10611.01     1879.20    1435.36         \n",
              "   Other.Benefits Total.Benefits Total.Compensation\n",
              "1  4532.63        27747.13        85281.78         \n",
              "2  4755.14        22216.82        79895.32         \n",
              "3  4702.71        30116.78        93649.71         \n",
              "4  7458.76        40021.45       134237.37         \n",
              "5   387.50         2428.31         7512.31         \n",
              "6  2579.95        13753.58        48209.58         \n",
              "7  9791.54        49509.01       189398.01         \n",
              "8  3822.28        19492.88        66064.88         \n",
              "9  6838.44        36418.52       121100.05         \n",
              "10  827.09         4141.65        14752.66         "
            ]
          },
          "metadata": {}
        }
      ]
    },
    {
      "cell_type": "markdown",
      "source": [
        " \n",
        "# show numbers of rows and columns\n",
        "\n",
        "By using nrow and ncol function\n",
        "\n"
      ],
      "metadata": {
        "id": "YQAJkJ1BpKuy"
      }
    },
    {
      "cell_type": "code",
      "source": [
        "ncol(data)"
      ],
      "metadata": {
        "colab": {
          "base_uri": "https://localhost:8080/",
          "height": 34
        },
        "id": "jWk3GwoFpMlk",
        "outputId": "20cefd0c-575d-422e-f1e1-6923b481e14b"
      },
      "execution_count": null,
      "outputs": [
        {
          "output_type": "display_data",
          "data": {
            "text/html": [
              "22"
            ],
            "text/markdown": "22",
            "text/latex": "22",
            "text/plain": [
              "[1] 22"
            ]
          },
          "metadata": {}
        }
      ]
    },
    {
      "cell_type": "code",
      "source": [
        "nrow(data)"
      ],
      "metadata": {
        "colab": {
          "base_uri": "https://localhost:8080/",
          "height": 34
        },
        "id": "VDA777PEpX8I",
        "outputId": "f222bc30-86be-4e3f-893e-9b33c872dc6a"
      },
      "execution_count": null,
      "outputs": [
        {
          "output_type": "display_data",
          "data": {
            "text/html": [
              "683277"
            ],
            "text/markdown": "683277",
            "text/latex": "683277",
            "text/plain": [
              "[1] 683277"
            ]
          },
          "metadata": {}
        }
      ]
    },
    {
      "cell_type": "markdown",
      "source": [
        "## types of columns (using str) \n"
      ],
      "metadata": {
        "id": "WIWS8E3wpmZX"
      }
    },
    {
      "cell_type": "code",
      "source": [
        "str(data)"
      ],
      "metadata": {
        "colab": {
          "base_uri": "https://localhost:8080/"
        },
        "id": "xaBDkCiXprLL",
        "outputId": "1c063560-b14b-4e4d-9405-ccb680ad606b"
      },
      "execution_count": null,
      "outputs": [
        {
          "output_type": "stream",
          "name": "stdout",
          "text": [
            "'data.frame':\t683277 obs. of  22 variables:\n",
            " $ Organization.Group.Code: int  1 1 1 1 1 1 1 1 1 1 ...\n",
            " $ Job.Family.Code        : chr  \"1000\" \"1000\" \"1000\" \"1000\" ...\n",
            " $ Job.Code               : chr  \"1021\" \"1023\" \"1031\" \"1054\" ...\n",
            " $ Year.Type              : chr  \"Calendar\" \"Calendar\" \"Calendar\" \"Calendar\" ...\n",
            " $ Year                   : int  2013 2013 2013 2013 2013 2013 2013 2013 2013 2013 ...\n",
            " $ Organization.Group     : chr  \"Public Protection\" \"Public Protection\" \"Public Protection\" \"Public Protection\" ...\n",
            " $ Department.Code        : chr  \"ADP\" \"ADP\" \"ADP\" \"ADP\" ...\n",
            " $ Department             : chr  \"ADP Adult Probation\" \"ADP Adult Probation\" \"ADP Adult Probation\" \"ADP Adult Probation\" ...\n",
            " $ Union.Code             : int  21 21 21 21 21 21 21 21 21 21 ...\n",
            " $ Union                  : chr  \"Prof & Tech Engineers - Miscellaneous, Local 21\" \"Prof & Tech Engineers - Miscellaneous, Local 21\" \"Prof & Tech Engineers - Miscellaneous, Local 21\" \"Prof & Tech Engineers - Miscellaneous, Local 21\" ...\n",
            " $ Job.Family             : chr  \"Information Systems\" \"Information Systems\" \"Information Systems\" \"Information Systems\" ...\n",
            " $ Job                    : chr  \"IS Administrator 1\" \"IS Administrator 3\" \"IS Trainer-Assistant\" \"IS Business Analyst-Principal\" ...\n",
            " $ Employee.Identifier    : int  37730 26574 8148 27436 37730 36223 51426 26574 37983 16858 ...\n",
            " $ Salaries               : num  57535 57678 63533 101275 5084 ...\n",
            " $ Overtime               : num  0 0 0 0 0 0 0 0 0 0 ...\n",
            " $ Other.Salaries         : num  0 0 0 -7059 0 ...\n",
            " $ Total.Salary           : num  57535 57678 63533 94216 5084 ...\n",
            " $ Retirement             : num  11253 10285 12496 19644 1084 ...\n",
            " $ Health.and.Dental      : num  11961 7177 12918 12918 957 ...\n",
            " $ Other.Benefits         : num  4533 4755 4703 7459 388 ...\n",
            " $ Total.Benefits         : num  27747 22217 30117 40021 2428 ...\n",
            " $ Total.Compensation     : num  85282 79895 93650 134237 7512 ...\n"
          ]
        }
      ]
    },
    {
      "cell_type": "markdown",
      "source": [
        "#**Percentiles of the numerical values** <br>\n",
        "Using quantile fuction find with columns of year"
      ],
      "metadata": {
        "id": "gfLs1mnFqqOe"
      }
    },
    {
      "cell_type": "code",
      "source": [
        "quantile(data[,5],probs = seq(0,1,0.25),na.rm= TRUE)\n"
      ],
      "metadata": {
        "colab": {
          "base_uri": "https://localhost:8080/",
          "height": 34
        },
        "id": "oe-ovUc-qtYw",
        "outputId": "83476aef-eabe-4f7c-df6d-f5eb19c3d5e2"
      },
      "execution_count": null,
      "outputs": [
        {
          "output_type": "display_data",
          "data": {
            "text/html": [
              "<style>\n",
              ".dl-inline {width: auto; margin:0; padding: 0}\n",
              ".dl-inline>dt, .dl-inline>dd {float: none; width: auto; display: inline-block}\n",
              ".dl-inline>dt::after {content: \":\\0020\"; padding-right: .5ex}\n",
              ".dl-inline>dt:not(:first-of-type) {padding-left: .5ex}\n",
              "</style><dl class=dl-inline><dt>0%</dt><dd>2013</dd><dt>25%</dt><dd>2015</dd><dt>50%</dt><dd>2017</dd><dt>75%</dt><dd>2018</dd><dt>100%</dt><dd>2020</dd></dl>\n"
            ],
            "text/markdown": "0%\n:   201325%\n:   201550%\n:   201775%\n:   2018100%\n:   2020\n\n",
            "text/latex": "\\begin{description*}\n\\item[0\\textbackslash{}\\%] 2013\n\\item[25\\textbackslash{}\\%] 2015\n\\item[50\\textbackslash{}\\%] 2017\n\\item[75\\textbackslash{}\\%] 2018\n\\item[100\\textbackslash{}\\%] 2020\n\\end{description*}\n",
            "text/plain": [
              "  0%  25%  50%  75% 100% \n",
              "2013 2015 2017 2018 2020 "
            ]
          },
          "metadata": {}
        }
      ]
    },
    {
      "cell_type": "markdown",
      "source": [
        "Using quantile fuction find with columns of Organization.Group.Code <br>\n",
        "Using quantile fuction find with columns of Union.Code <br>\n",
        "Using quantile fuction find with columns of over time <br>\n",
        "Using quantile fuction find with columns of other salary <br>\n",
        "Using quantile fuction find with columns of total salary"
      ],
      "metadata": {
        "id": "1tg1gdIdtocP"
      }
    },
    {
      "cell_type": "code",
      "source": [
        "quantile(data[,1],probs=seq(0,1,0.25),na.rm=T)\n",
        "quantile(data[,9],probs=seq(0,1,0.25),na.rm=T)\n",
        "quantile(data[,13],probs=seq(0,1,0.25),na.rm=T)\n",
        "quantile(data[,14],probs=seq(0,1,0.25),na.rm=T)\n",
        "quantile(data[,15],probs=seq(0,1,0.25),na.rm=T)\n",
        "\n"
      ],
      "metadata": {
        "colab": {
          "base_uri": "https://localhost:8080/",
          "height": 104
        },
        "id": "3_uEJztssOmT",
        "outputId": "286bb7d6-2879-40ca-cdc7-2a7bfd3c9323"
      },
      "execution_count": null,
      "outputs": [
        {
          "output_type": "display_data",
          "data": {
            "text/html": [
              "<style>\n",
              ".dl-inline {width: auto; margin:0; padding: 0}\n",
              ".dl-inline>dt, .dl-inline>dd {float: none; width: auto; display: inline-block}\n",
              ".dl-inline>dt::after {content: \":\\0020\"; padding-right: .5ex}\n",
              ".dl-inline>dt:not(:first-of-type) {padding-left: .5ex}\n",
              "</style><dl class=dl-inline><dt>0%</dt><dd>1</dd><dt>25%</dt><dd>2</dd><dt>50%</dt><dd>2</dd><dt>75%</dt><dd>4</dd><dt>100%</dt><dd>7</dd></dl>\n"
            ],
            "text/markdown": "0%\n:   125%\n:   250%\n:   275%\n:   4100%\n:   7\n\n",
            "text/latex": "\\begin{description*}\n\\item[0\\textbackslash{}\\%] 1\n\\item[25\\textbackslash{}\\%] 2\n\\item[50\\textbackslash{}\\%] 2\n\\item[75\\textbackslash{}\\%] 4\n\\item[100\\textbackslash{}\\%] 7\n\\end{description*}\n",
            "text/plain": [
              "  0%  25%  50%  75% 100% \n",
              "   1    2    2    4    7 "
            ]
          },
          "metadata": {}
        },
        {
          "output_type": "display_data",
          "data": {
            "text/html": [
              "<style>\n",
              ".dl-inline {width: auto; margin:0; padding: 0}\n",
              ".dl-inline>dt, .dl-inline>dd {float: none; width: auto; display: inline-block}\n",
              ".dl-inline>dt::after {content: \":\\0020\"; padding-right: .5ex}\n",
              ".dl-inline>dt:not(:first-of-type) {padding-left: .5ex}\n",
              "</style><dl class=dl-inline><dt>0%</dt><dd>1</dd><dt>25%</dt><dd>250</dd><dt>50%</dt><dd>535</dd><dt>75%</dt><dd>790</dd><dt>100%</dt><dd>990</dd></dl>\n"
            ],
            "text/markdown": "0%\n:   125%\n:   25050%\n:   53575%\n:   790100%\n:   990\n\n",
            "text/latex": "\\begin{description*}\n\\item[0\\textbackslash{}\\%] 1\n\\item[25\\textbackslash{}\\%] 250\n\\item[50\\textbackslash{}\\%] 535\n\\item[75\\textbackslash{}\\%] 790\n\\item[100\\textbackslash{}\\%] 990\n\\end{description*}\n",
            "text/plain": [
              "  0%  25%  50%  75% 100% \n",
              "   1  250  535  790  990 "
            ]
          },
          "metadata": {}
        },
        {
          "output_type": "display_data",
          "data": {
            "text/html": [
              "<style>\n",
              ".dl-inline {width: auto; margin:0; padding: 0}\n",
              ".dl-inline>dt, .dl-inline>dd {float: none; width: auto; display: inline-block}\n",
              ".dl-inline>dt::after {content: \":\\0020\"; padding-right: .5ex}\n",
              ".dl-inline>dt:not(:first-of-type) {padding-left: .5ex}\n",
              "</style><dl class=dl-inline><dt>0%</dt><dd>0</dd><dt>25%</dt><dd>25450</dd><dt>50%</dt><dd>50975</dd><dt>75%</dt><dd>37377031</dd><dt>100%</dt><dd>44346433</dd></dl>\n"
            ],
            "text/markdown": "0%\n:   025%\n:   2545050%\n:   5097575%\n:   37377031100%\n:   44346433\n\n",
            "text/latex": "\\begin{description*}\n\\item[0\\textbackslash{}\\%] 0\n\\item[25\\textbackslash{}\\%] 25450\n\\item[50\\textbackslash{}\\%] 50975\n\\item[75\\textbackslash{}\\%] 37377031\n\\item[100\\textbackslash{}\\%] 44346433\n\\end{description*}\n",
            "text/plain": [
              "      0%      25%      50%      75%     100% \n",
              "       0    25450    50975 37377031 44346433 "
            ]
          },
          "metadata": {}
        },
        {
          "output_type": "display_data",
          "data": {
            "text/html": [
              "<style>\n",
              ".dl-inline {width: auto; margin:0; padding: 0}\n",
              ".dl-inline>dt, .dl-inline>dd {float: none; width: auto; display: inline-block}\n",
              ".dl-inline>dt::after {content: \":\\0020\"; padding-right: .5ex}\n",
              ".dl-inline>dt:not(:first-of-type) {padding-left: .5ex}\n",
              "</style><dl class=dl-inline><dt>0%</dt><dd>-68771.78</dd><dt>25%</dt><dd>29009.54</dd><dt>50%</dt><dd>67899.36</dd><dt>75%</dt><dd>100416.89</dd><dt>100%</dt><dd>651936.71</dd></dl>\n"
            ],
            "text/markdown": "0%\n:   -68771.7825%\n:   29009.5450%\n:   67899.3675%\n:   100416.89100%\n:   651936.71\n\n",
            "text/latex": "\\begin{description*}\n\\item[0\\textbackslash{}\\%] -68771.78\n\\item[25\\textbackslash{}\\%] 29009.54\n\\item[50\\textbackslash{}\\%] 67899.36\n\\item[75\\textbackslash{}\\%] 100416.89\n\\item[100\\textbackslash{}\\%] 651936.71\n\\end{description*}\n",
            "text/plain": [
              "       0%       25%       50%       75%      100% \n",
              "-68771.78  29009.54  67899.36 100416.89 651936.71 "
            ]
          },
          "metadata": {}
        },
        {
          "output_type": "display_data",
          "data": {
            "text/html": [
              "<style>\n",
              ".dl-inline {width: auto; margin:0; padding: 0}\n",
              ".dl-inline>dt, .dl-inline>dd {float: none; width: auto; display: inline-block}\n",
              ".dl-inline>dt::after {content: \":\\0020\"; padding-right: .5ex}\n",
              ".dl-inline>dt:not(:first-of-type) {padding-left: .5ex}\n",
              "</style><dl class=dl-inline><dt>0%</dt><dd>-12308.66</dd><dt>25%</dt><dd>0</dd><dt>50%</dt><dd>0</dd><dt>75%</dt><dd>4223.39</dd><dt>100%</dt><dd>321523.31</dd></dl>\n"
            ],
            "text/markdown": "0%\n:   -12308.6625%\n:   050%\n:   075%\n:   4223.39100%\n:   321523.31\n\n",
            "text/latex": "\\begin{description*}\n\\item[0\\textbackslash{}\\%] -12308.66\n\\item[25\\textbackslash{}\\%] 0\n\\item[50\\textbackslash{}\\%] 0\n\\item[75\\textbackslash{}\\%] 4223.39\n\\item[100\\textbackslash{}\\%] 321523.31\n\\end{description*}\n",
            "text/plain": [
              "       0%       25%       50%       75%      100% \n",
              "-12308.66      0.00      0.00   4223.39 321523.31 "
            ]
          },
          "metadata": {}
        }
      ]
    },
    {
      "cell_type": "markdown",
      "source": [
        "## find a median of specific columns\n",
        "using median fuction and find mean of specific colums year.type,organization group,yaer,total salary and summary of all data"
      ],
      "metadata": {
        "id": "hLMuiS-LuOat"
      }
    },
    {
      "cell_type": "code",
      "source": [
        "median(x[,4])"
      ],
      "metadata": {
        "colab": {
          "base_uri": "https://localhost:8080/",
          "height": 34
        },
        "id": "bi-3moKsswSZ",
        "outputId": "4fed33bd-a4cb-452a-e250-6dd5aa602d5f"
      },
      "execution_count": null,
      "outputs": [
        {
          "output_type": "display_data",
          "data": {
            "text/html": [
              "'Fiscal'"
            ],
            "text/markdown": "'Fiscal'",
            "text/latex": "'Fiscal'",
            "text/plain": [
              "[1] \"Fiscal\""
            ]
          },
          "metadata": {}
        }
      ]
    },
    {
      "cell_type": "code",
      "source": [
        "median(x[,6])"
      ],
      "metadata": {
        "colab": {
          "base_uri": "https://localhost:8080/",
          "height": 34
        },
        "id": "DlLRq29quifo",
        "outputId": "3c19bab5-07e3-40f6-89f3-ea89589d51bd"
      },
      "execution_count": null,
      "outputs": [
        {
          "output_type": "display_data",
          "data": {
            "text/html": [
              "'Public Protection'"
            ],
            "text/markdown": "'Public Protection'",
            "text/latex": "'Public Protection'",
            "text/plain": [
              "[1] \"Public Protection\""
            ]
          },
          "metadata": {}
        }
      ]
    },
    {
      "cell_type": "code",
      "source": [
        "median(x[,5])"
      ],
      "metadata": {
        "colab": {
          "base_uri": "https://localhost:8080/",
          "height": 34
        },
        "id": "JgV01UGKupwM",
        "outputId": "ee66b557-1d51-4be9-ac4d-afa654b960e1"
      },
      "execution_count": null,
      "outputs": [
        {
          "output_type": "display_data",
          "data": {
            "text/html": [
              "2017"
            ],
            "text/markdown": "2017",
            "text/latex": "2017",
            "text/plain": [
              "[1] 2017"
            ]
          },
          "metadata": {}
        }
      ]
    },
    {
      "cell_type": "code",
      "source": [
        "median(x[,14])"
      ],
      "metadata": {
        "colab": {
          "base_uri": "https://localhost:8080/",
          "height": 34
        },
        "id": "6DhEL5cduu5E",
        "outputId": "d25a2d8e-ad8f-479c-d453-cc51a5d1abd3"
      },
      "execution_count": null,
      "outputs": [
        {
          "output_type": "display_data",
          "data": {
            "text/html": [
              "67899.36"
            ],
            "text/markdown": "67899.36",
            "text/latex": "67899.36",
            "text/plain": [
              "[1] 67899.36"
            ]
          },
          "metadata": {}
        }
      ]
    },
    {
      "cell_type": "code",
      "source": [
        "dim(x)"
      ],
      "metadata": {
        "colab": {
          "base_uri": "https://localhost:8080/",
          "height": 34
        },
        "id": "OgZFcXHx0W3i",
        "outputId": "2c4e07d6-cb95-4501-dd1b-15c411aefca1"
      },
      "execution_count": null,
      "outputs": [
        {
          "output_type": "display_data",
          "data": {
            "text/html": [
              "<style>\n",
              ".list-inline {list-style: none; margin:0; padding: 0}\n",
              ".list-inline>li {display: inline-block}\n",
              ".list-inline>li:not(:last-child)::after {content: \"\\00b7\"; padding: 0 .5ex}\n",
              "</style>\n",
              "<ol class=list-inline><li>683277</li><li>22</li></ol>\n"
            ],
            "text/markdown": "1. 683277\n2. 22\n\n\n",
            "text/latex": "\\begin{enumerate*}\n\\item 683277\n\\item 22\n\\end{enumerate*}\n",
            "text/plain": [
              "[1] 683277     22"
            ]
          },
          "metadata": {}
        }
      ]
    },
    {
      "cell_type": "code",
      "source": [
        "summary(x)"
      ],
      "metadata": {
        "colab": {
          "base_uri": "https://localhost:8080/",
          "height": 850
        },
        "id": "AGK-VfkH0g4U",
        "outputId": "4cd8011f-719f-4c39-b6d4-4be664e95b8a"
      },
      "execution_count": null,
      "outputs": [
        {
          "output_type": "display_data",
          "data": {
            "text/plain": [
              " Organization.Group.Code Job.Family.Code      Job.Code        \n",
              " Min.   :1.000           Length:683277      Length:683277     \n",
              " 1st Qu.:2.000           Class :character   Class :character  \n",
              " Median :2.000           Mode  :character   Mode  :character  \n",
              " Mean   :2.978                                                \n",
              " 3rd Qu.:4.000                                                \n",
              " Max.   :7.000                                                \n",
              "                                                              \n",
              "  Year.Type              Year      Organization.Group Department.Code   \n",
              " Length:683277      Min.   :2013   Length:683277      Length:683277     \n",
              " Class :character   1st Qu.:2015   Class :character   Class :character  \n",
              " Mode  :character   Median :2017   Mode  :character   Mode  :character  \n",
              "                    Mean   :2016                                        \n",
              "                    3rd Qu.:2018                                        \n",
              "                    Max.   :2020                                        \n",
              "                                                                        \n",
              "  Department          Union.Code       Union            Job.Family       \n",
              " Length:683277      Min.   :  1.0   Length:683277      Length:683277     \n",
              " Class :character   1st Qu.:250.0   Class :character   Class :character  \n",
              " Mode  :character   Median :535.0   Mode  :character   Mode  :character  \n",
              "                    Mean   :492.5                                        \n",
              "                    3rd Qu.:790.0                                        \n",
              "                    Max.   :990.0                                        \n",
              "                    NA's   :351                                          \n",
              "     Job            Employee.Identifier    Salaries         Overtime     \n",
              " Length:683277      Min.   :       0    Min.   :-68772   Min.   :-12309  \n",
              " Class :character   1st Qu.:   25450    1st Qu.: 29010   1st Qu.:     0  \n",
              " Mode  :character   Median :   50975    Median : 67899   Median :     0  \n",
              "                    Mean   :17087113    Mean   : 69466   Mean   :  5475  \n",
              "                    3rd Qu.:37377031    3rd Qu.:100417   3rd Qu.:  4223  \n",
              "                    Max.   :44346433    Max.   :651937   Max.   :321523  \n",
              "                                                                         \n",
              " Other.Salaries      Total.Salary      Retirement     Health.and.Dental\n",
              " Min.   :-19131.1   Min.   :-68772   Min.   :-30621   Min.   :-3831    \n",
              " 1st Qu.:     0.0   1st Qu.: 31676   1st Qu.:  4663   1st Qu.: 4781    \n",
              " Median :   706.2   Median : 74870   Median : 13858   Median :12501    \n",
              " Mean   :  3820.5   Mean   : 78571   Mean   : 13659   Mean   : 9947    \n",
              " 3rd Qu.:  4362.9   3rd Qu.:112666   3rd Qu.: 20152   3rd Qu.:14037    \n",
              " Max.   :568163.1   Max.   :658868   Max.   :121953   Max.   :59405    \n",
              "                                                                       \n",
              " Other.Benefits   Total.Benefits   Total.Compensation\n",
              " Min.   :-10636   Min.   :-21295   Min.   :-74083    \n",
              " 1st Qu.:  1870   1st Qu.: 11716   1st Qu.: 44439    \n",
              " Median :  4877   Median : 32521   Median :107529    \n",
              " Mean   :  5039   Mean   : 28645   Mean   :107216    \n",
              " 3rd Qu.:  7526   3rd Qu.: 40916   3rd Qu.:154170    \n",
              " Max.   : 36815   Max.   :151645   Max.   :807625    \n",
              "                                                     "
            ]
          },
          "metadata": {}
        }
      ]
    },
    {
      "cell_type": "markdown",
      "source": [
        "# Subsets of data\n",
        "In this data i elected 7 columns of Job.Family.code,Year,Employee.identifier,salaries,total.salaries,retirement,Union.Code inculding this factors of 30 rows data. firstly i install library dplyr and use grp code to make group."
      ],
      "metadata": {
        "id": "qrSL5pdowvCX"
      }
    },
    {
      "cell_type": "code",
      "source": [
        "library(\"dplyr\")"
      ],
      "metadata": {
        "colab": {
          "base_uri": "https://localhost:8080/"
        },
        "id": "E4G3FnUvex6M",
        "outputId": "3a27b2d1-412b-4573-a5d2-c2e104b5acf4"
      },
      "execution_count": null,
      "outputs": [
        {
          "output_type": "stream",
          "name": "stderr",
          "text": [
            "\n",
            "Attaching package: ‘dplyr’\n",
            "\n",
            "\n",
            "The following objects are masked from ‘package:stats’:\n",
            "\n",
            "    filter, lag\n",
            "\n",
            "\n",
            "The following objects are masked from ‘package:base’:\n",
            "\n",
            "    intersect, setdiff, setequal, union\n",
            "\n",
            "\n"
          ]
        }
      ]
    },
    {
      "cell_type": "code",
      "source": [
        "head(x[,c(2,5,9,13,14,17,18)],n=30)"
      ],
      "metadata": {
        "colab": {
          "base_uri": "https://localhost:8080/",
          "height": 1000
        },
        "id": "6iyuEVgFwwPy",
        "outputId": "096e88e8-7329-4223-d0f7-2bcdc9c0b66a"
      },
      "execution_count": null,
      "outputs": [
        {
          "output_type": "display_data",
          "data": {
            "text/html": [
              "<table class=\"dataframe\">\n",
              "<caption>A data.frame: 30 × 7</caption>\n",
              "<thead>\n",
              "\t<tr><th></th><th scope=col>Job.Family.Code</th><th scope=col>Year</th><th scope=col>Union.Code</th><th scope=col>Employee.Identifier</th><th scope=col>Salaries</th><th scope=col>Total.Salary</th><th scope=col>Retirement</th></tr>\n",
              "\t<tr><th></th><th scope=col>&lt;chr&gt;</th><th scope=col>&lt;int&gt;</th><th scope=col>&lt;int&gt;</th><th scope=col>&lt;int&gt;</th><th scope=col>&lt;dbl&gt;</th><th scope=col>&lt;dbl&gt;</th><th scope=col>&lt;dbl&gt;</th></tr>\n",
              "</thead>\n",
              "<tbody>\n",
              "\t<tr><th scope=row>1</th><td>1000</td><td>2013</td><td> 21</td><td>37730</td><td> 57534.65</td><td> 57534.65</td><td>11253.16</td></tr>\n",
              "\t<tr><th scope=row>2</th><td>1000</td><td>2013</td><td> 21</td><td>26574</td><td> 57678.50</td><td> 57678.50</td><td>10284.88</td></tr>\n",
              "\t<tr><th scope=row>3</th><td>1000</td><td>2013</td><td> 21</td><td> 8148</td><td> 63532.93</td><td> 63532.93</td><td>12495.83</td></tr>\n",
              "\t<tr><th scope=row>4</th><td>1000</td><td>2013</td><td> 21</td><td>27436</td><td>101274.51</td><td> 94215.92</td><td>19644.45</td></tr>\n",
              "\t<tr><th scope=row>5</th><td>1000</td><td>2013</td><td> 21</td><td>37730</td><td>  5084.00</td><td>  5084.00</td><td> 1083.90</td></tr>\n",
              "\t<tr><th scope=row>6</th><td>1000</td><td>2013</td><td> 21</td><td>36223</td><td> 34456.00</td><td> 34456.00</td><td> 7346.00</td></tr>\n",
              "\t<tr><th scope=row>7</th><td>1000</td><td>2013</td><td> 21</td><td>51426</td><td>139889.00</td><td>139889.00</td><td>26799.23</td></tr>\n",
              "\t<tr><th scope=row>8</th><td>1000</td><td>2013</td><td> 21</td><td>26574</td><td> 46572.00</td><td> 46572.00</td><td> 9929.16</td></tr>\n",
              "\t<tr><th scope=row>9</th><td>1200</td><td>2013</td><td> 21</td><td>37983</td><td> 84681.53</td><td> 84681.53</td><td>16661.84</td></tr>\n",
              "\t<tr><th scope=row>10</th><td>1600</td><td>2013</td><td> 21</td><td>16858</td><td> 10611.01</td><td> 10611.01</td><td> 1879.20</td></tr>\n",
              "\t<tr><th scope=row>11</th><td>1600</td><td>2013</td><td> 21</td><td>32693</td><td> 43171.50</td><td> 43171.50</td><td> 9061.62</td></tr>\n",
              "\t<tr><th scope=row>12</th><td>1600</td><td>2013</td><td> 21</td><td>43501</td><td>  3155.01</td><td>  3155.01</td><td>  574.53</td></tr>\n",
              "\t<tr><th scope=row>13</th><td>1600</td><td>2013</td><td> 21</td><td>16858</td><td> 10611.00</td><td> 10611.00</td><td> 1879.20</td></tr>\n",
              "\t<tr><th scope=row>14</th><td>1800</td><td>2013</td><td> 21</td><td>21653</td><td> 38491.83</td><td> 38491.83</td><td> 8161.75</td></tr>\n",
              "\t<tr><th scope=row>15</th><td>1800</td><td>2013</td><td> 21</td><td>34205</td><td> 54645.50</td><td> 54645.50</td><td>10473.72</td></tr>\n",
              "\t<tr><th scope=row>16</th><td>1800</td><td>2013</td><td> 21</td><td>35965</td><td> 91826.22</td><td> 91826.22</td><td>18072.56</td></tr>\n",
              "\t<tr><th scope=row>17</th><td>1800</td><td>2013</td><td> 21</td><td>39039</td><td> 77486.52</td><td> 77486.52</td><td>14861.12</td></tr>\n",
              "\t<tr><th scope=row>18</th><td>1800</td><td>2013</td><td> 21</td><td>45754</td><td> 40380.11</td><td> 40380.11</td><td> 7872.99</td></tr>\n",
              "\t<tr><th scope=row>19</th><td>1800</td><td>2013</td><td> 21</td><td>46770</td><td> 88016.50</td><td> 88016.50</td><td>17332.00</td></tr>\n",
              "\t<tr><th scope=row>20</th><td>1800</td><td>2013</td><td> 21</td><td>48264</td><td> 91540.61</td><td> 91540.61</td><td>18011.68</td></tr>\n",
              "\t<tr><th scope=row>21</th><td>1800</td><td>2013</td><td> 21</td><td>33068</td><td>101787.06</td><td>101787.06</td><td>20042.02</td></tr>\n",
              "\t<tr><th scope=row>22</th><td>1800</td><td>2013</td><td> 21</td><td>45754</td><td>  3503.00</td><td>  3503.00</td><td>  637.90</td></tr>\n",
              "\t<tr><th scope=row>23</th><td>1800</td><td>2013</td><td> 21</td><td> 5021</td><td>104022.86</td><td>104022.86</td><td>20458.35</td></tr>\n",
              "\t<tr><th scope=row>24</th><td>1200</td><td>2013</td><td> 22</td><td>20957</td><td>104250.50</td><td>104250.50</td><td>20214.04</td></tr>\n",
              "\t<tr><th scope=row>25</th><td>1200</td><td>2013</td><td> 22</td><td>17388</td><td>133022.51</td><td>133022.51</td><td>25483.48</td></tr>\n",
              "\t<tr><th scope=row>26</th><td>1400</td><td>2013</td><td> 22</td><td>19930</td><td> 67071.60</td><td> 69148.66</td><td>12973.88</td></tr>\n",
              "\t<tr><th scope=row>27</th><td>0900</td><td>2013</td><td>351</td><td> 1815</td><td>145343.93</td><td>145343.93</td><td>27869.24</td></tr>\n",
              "\t<tr><th scope=row>28</th><td>0900</td><td>2013</td><td>351</td><td> 3034</td><td>123825.66</td><td>123825.66</td><td>23728.23</td></tr>\n",
              "\t<tr><th scope=row>29</th><td>0900</td><td>2013</td><td>351</td><td>43208</td><td>155934.26</td><td>155934.26</td><td>29873.14</td></tr>\n",
              "\t<tr><th scope=row>30</th><td>0900</td><td>2013</td><td>351</td><td>14308</td><td>122302.25</td><td>122302.25</td><td>21538.39</td></tr>\n",
              "</tbody>\n",
              "</table>\n"
            ],
            "text/markdown": "\nA data.frame: 30 × 7\n\n| <!--/--> | Job.Family.Code &lt;chr&gt; | Year &lt;int&gt; | Union.Code &lt;int&gt; | Employee.Identifier &lt;int&gt; | Salaries &lt;dbl&gt; | Total.Salary &lt;dbl&gt; | Retirement &lt;dbl&gt; |\n|---|---|---|---|---|---|---|---|\n| 1 | 1000 | 2013 |  21 | 37730 |  57534.65 |  57534.65 | 11253.16 |\n| 2 | 1000 | 2013 |  21 | 26574 |  57678.50 |  57678.50 | 10284.88 |\n| 3 | 1000 | 2013 |  21 |  8148 |  63532.93 |  63532.93 | 12495.83 |\n| 4 | 1000 | 2013 |  21 | 27436 | 101274.51 |  94215.92 | 19644.45 |\n| 5 | 1000 | 2013 |  21 | 37730 |   5084.00 |   5084.00 |  1083.90 |\n| 6 | 1000 | 2013 |  21 | 36223 |  34456.00 |  34456.00 |  7346.00 |\n| 7 | 1000 | 2013 |  21 | 51426 | 139889.00 | 139889.00 | 26799.23 |\n| 8 | 1000 | 2013 |  21 | 26574 |  46572.00 |  46572.00 |  9929.16 |\n| 9 | 1200 | 2013 |  21 | 37983 |  84681.53 |  84681.53 | 16661.84 |\n| 10 | 1600 | 2013 |  21 | 16858 |  10611.01 |  10611.01 |  1879.20 |\n| 11 | 1600 | 2013 |  21 | 32693 |  43171.50 |  43171.50 |  9061.62 |\n| 12 | 1600 | 2013 |  21 | 43501 |   3155.01 |   3155.01 |   574.53 |\n| 13 | 1600 | 2013 |  21 | 16858 |  10611.00 |  10611.00 |  1879.20 |\n| 14 | 1800 | 2013 |  21 | 21653 |  38491.83 |  38491.83 |  8161.75 |\n| 15 | 1800 | 2013 |  21 | 34205 |  54645.50 |  54645.50 | 10473.72 |\n| 16 | 1800 | 2013 |  21 | 35965 |  91826.22 |  91826.22 | 18072.56 |\n| 17 | 1800 | 2013 |  21 | 39039 |  77486.52 |  77486.52 | 14861.12 |\n| 18 | 1800 | 2013 |  21 | 45754 |  40380.11 |  40380.11 |  7872.99 |\n| 19 | 1800 | 2013 |  21 | 46770 |  88016.50 |  88016.50 | 17332.00 |\n| 20 | 1800 | 2013 |  21 | 48264 |  91540.61 |  91540.61 | 18011.68 |\n| 21 | 1800 | 2013 |  21 | 33068 | 101787.06 | 101787.06 | 20042.02 |\n| 22 | 1800 | 2013 |  21 | 45754 |   3503.00 |   3503.00 |   637.90 |\n| 23 | 1800 | 2013 |  21 |  5021 | 104022.86 | 104022.86 | 20458.35 |\n| 24 | 1200 | 2013 |  22 | 20957 | 104250.50 | 104250.50 | 20214.04 |\n| 25 | 1200 | 2013 |  22 | 17388 | 133022.51 | 133022.51 | 25483.48 |\n| 26 | 1400 | 2013 |  22 | 19930 |  67071.60 |  69148.66 | 12973.88 |\n| 27 | 0900 | 2013 | 351 |  1815 | 145343.93 | 145343.93 | 27869.24 |\n| 28 | 0900 | 2013 | 351 |  3034 | 123825.66 | 123825.66 | 23728.23 |\n| 29 | 0900 | 2013 | 351 | 43208 | 155934.26 | 155934.26 | 29873.14 |\n| 30 | 0900 | 2013 | 351 | 14308 | 122302.25 | 122302.25 | 21538.39 |\n\n",
            "text/latex": "A data.frame: 30 × 7\n\\begin{tabular}{r|lllllll}\n  & Job.Family.Code & Year & Union.Code & Employee.Identifier & Salaries & Total.Salary & Retirement\\\\\n  & <chr> & <int> & <int> & <int> & <dbl> & <dbl> & <dbl>\\\\\n\\hline\n\t1 & 1000 & 2013 &  21 & 37730 &  57534.65 &  57534.65 & 11253.16\\\\\n\t2 & 1000 & 2013 &  21 & 26574 &  57678.50 &  57678.50 & 10284.88\\\\\n\t3 & 1000 & 2013 &  21 &  8148 &  63532.93 &  63532.93 & 12495.83\\\\\n\t4 & 1000 & 2013 &  21 & 27436 & 101274.51 &  94215.92 & 19644.45\\\\\n\t5 & 1000 & 2013 &  21 & 37730 &   5084.00 &   5084.00 &  1083.90\\\\\n\t6 & 1000 & 2013 &  21 & 36223 &  34456.00 &  34456.00 &  7346.00\\\\\n\t7 & 1000 & 2013 &  21 & 51426 & 139889.00 & 139889.00 & 26799.23\\\\\n\t8 & 1000 & 2013 &  21 & 26574 &  46572.00 &  46572.00 &  9929.16\\\\\n\t9 & 1200 & 2013 &  21 & 37983 &  84681.53 &  84681.53 & 16661.84\\\\\n\t10 & 1600 & 2013 &  21 & 16858 &  10611.01 &  10611.01 &  1879.20\\\\\n\t11 & 1600 & 2013 &  21 & 32693 &  43171.50 &  43171.50 &  9061.62\\\\\n\t12 & 1600 & 2013 &  21 & 43501 &   3155.01 &   3155.01 &   574.53\\\\\n\t13 & 1600 & 2013 &  21 & 16858 &  10611.00 &  10611.00 &  1879.20\\\\\n\t14 & 1800 & 2013 &  21 & 21653 &  38491.83 &  38491.83 &  8161.75\\\\\n\t15 & 1800 & 2013 &  21 & 34205 &  54645.50 &  54645.50 & 10473.72\\\\\n\t16 & 1800 & 2013 &  21 & 35965 &  91826.22 &  91826.22 & 18072.56\\\\\n\t17 & 1800 & 2013 &  21 & 39039 &  77486.52 &  77486.52 & 14861.12\\\\\n\t18 & 1800 & 2013 &  21 & 45754 &  40380.11 &  40380.11 &  7872.99\\\\\n\t19 & 1800 & 2013 &  21 & 46770 &  88016.50 &  88016.50 & 17332.00\\\\\n\t20 & 1800 & 2013 &  21 & 48264 &  91540.61 &  91540.61 & 18011.68\\\\\n\t21 & 1800 & 2013 &  21 & 33068 & 101787.06 & 101787.06 & 20042.02\\\\\n\t22 & 1800 & 2013 &  21 & 45754 &   3503.00 &   3503.00 &   637.90\\\\\n\t23 & 1800 & 2013 &  21 &  5021 & 104022.86 & 104022.86 & 20458.35\\\\\n\t24 & 1200 & 2013 &  22 & 20957 & 104250.50 & 104250.50 & 20214.04\\\\\n\t25 & 1200 & 2013 &  22 & 17388 & 133022.51 & 133022.51 & 25483.48\\\\\n\t26 & 1400 & 2013 &  22 & 19930 &  67071.60 &  69148.66 & 12973.88\\\\\n\t27 & 0900 & 2013 & 351 &  1815 & 145343.93 & 145343.93 & 27869.24\\\\\n\t28 & 0900 & 2013 & 351 &  3034 & 123825.66 & 123825.66 & 23728.23\\\\\n\t29 & 0900 & 2013 & 351 & 43208 & 155934.26 & 155934.26 & 29873.14\\\\\n\t30 & 0900 & 2013 & 351 & 14308 & 122302.25 & 122302.25 & 21538.39\\\\\n\\end{tabular}\n",
            "text/plain": [
              "   Job.Family.Code Year Union.Code Employee.Identifier Salaries  Total.Salary\n",
              "1  1000            2013  21        37730                57534.65  57534.65   \n",
              "2  1000            2013  21        26574                57678.50  57678.50   \n",
              "3  1000            2013  21         8148                63532.93  63532.93   \n",
              "4  1000            2013  21        27436               101274.51  94215.92   \n",
              "5  1000            2013  21        37730                 5084.00   5084.00   \n",
              "6  1000            2013  21        36223                34456.00  34456.00   \n",
              "7  1000            2013  21        51426               139889.00 139889.00   \n",
              "8  1000            2013  21        26574                46572.00  46572.00   \n",
              "9  1200            2013  21        37983                84681.53  84681.53   \n",
              "10 1600            2013  21        16858                10611.01  10611.01   \n",
              "11 1600            2013  21        32693                43171.50  43171.50   \n",
              "12 1600            2013  21        43501                 3155.01   3155.01   \n",
              "13 1600            2013  21        16858                10611.00  10611.00   \n",
              "14 1800            2013  21        21653                38491.83  38491.83   \n",
              "15 1800            2013  21        34205                54645.50  54645.50   \n",
              "16 1800            2013  21        35965                91826.22  91826.22   \n",
              "17 1800            2013  21        39039                77486.52  77486.52   \n",
              "18 1800            2013  21        45754                40380.11  40380.11   \n",
              "19 1800            2013  21        46770                88016.50  88016.50   \n",
              "20 1800            2013  21        48264                91540.61  91540.61   \n",
              "21 1800            2013  21        33068               101787.06 101787.06   \n",
              "22 1800            2013  21        45754                 3503.00   3503.00   \n",
              "23 1800            2013  21         5021               104022.86 104022.86   \n",
              "24 1200            2013  22        20957               104250.50 104250.50   \n",
              "25 1200            2013  22        17388               133022.51 133022.51   \n",
              "26 1400            2013  22        19930                67071.60  69148.66   \n",
              "27 0900            2013 351         1815               145343.93 145343.93   \n",
              "28 0900            2013 351         3034               123825.66 123825.66   \n",
              "29 0900            2013 351        43208               155934.26 155934.26   \n",
              "30 0900            2013 351        14308               122302.25 122302.25   \n",
              "   Retirement\n",
              "1  11253.16  \n",
              "2  10284.88  \n",
              "3  12495.83  \n",
              "4  19644.45  \n",
              "5   1083.90  \n",
              "6   7346.00  \n",
              "7  26799.23  \n",
              "8   9929.16  \n",
              "9  16661.84  \n",
              "10  1879.20  \n",
              "11  9061.62  \n",
              "12   574.53  \n",
              "13  1879.20  \n",
              "14  8161.75  \n",
              "15 10473.72  \n",
              "16 18072.56  \n",
              "17 14861.12  \n",
              "18  7872.99  \n",
              "19 17332.00  \n",
              "20 18011.68  \n",
              "21 20042.02  \n",
              "22   637.90  \n",
              "23 20458.35  \n",
              "24 20214.04  \n",
              "25 25483.48  \n",
              "26 12973.88  \n",
              "27 27869.24  \n",
              "28 23728.23  \n",
              "29 29873.14  \n",
              "30 21538.39  "
            ]
          },
          "metadata": {}
        }
      ]
    },
    {
      "cell_type": "markdown",
      "source": [
        "use the grp_ code to make group between diffrent columns"
      ],
      "metadata": {
        "id": "53opGniBjwt5"
      }
    },
    {
      "cell_type": "code",
      "source": [
        "grp_job.family.Code <- x %>% group_by(Job.Family.Code,Year)%>%\n",
        "                   summarise(\n",
        "                              sum_of_Salaries=sum(Salaries),\n",
        "                              Union_Code=sum(Union.Code),\n",
        "                   .groups='drop')"
      ],
      "metadata": {
        "id": "1r_Q3Ge4w8Lh"
      },
      "execution_count": null,
      "outputs": []
    },
    {
      "cell_type": "code",
      "source": [
        "head(grp_job.family.Code[order(grp_job.family.Code $ Union_Code,decreasing = TRUE),],10)\n",
        "tail(grp_job.family.Code[order(grp_job.family.Code $ Union_Code,decreasing = TRUE),],10)\n"
      ],
      "metadata": {
        "colab": {
          "base_uri": "https://localhost:8080/",
          "height": 806
        },
        "id": "b62RHELnbU7e",
        "outputId": "c55a5e31-5688-4ce0-8b8b-0519a08378f7"
      },
      "execution_count": null,
      "outputs": [
        {
          "output_type": "display_data",
          "data": {
            "text/html": [
              "<table class=\"dataframe\">\n",
              "<caption>A tibble: 10 × 4</caption>\n",
              "<thead>\n",
              "\t<tr><th scope=col>Job.Family.Code</th><th scope=col>Year</th><th scope=col>sum_of_Salaries</th><th scope=col>Union_Code</th></tr>\n",
              "\t<tr><th scope=col>&lt;chr&gt;</th><th scope=col>&lt;int&gt;</th><th scope=col>&lt;dbl&gt;</th><th scope=col>&lt;int&gt;</th></tr>\n",
              "</thead>\n",
              "<tbody>\n",
              "\t<tr><td>2300</td><td>2017</td><td>986163884</td><td>9098548</td></tr>\n",
              "\t<tr><td>Q000</td><td>2017</td><td>817624241</td><td>7068244</td></tr>\n",
              "\t<tr><td>2300</td><td>2019</td><td>720383607</td><td>6201943</td></tr>\n",
              "\t<tr><td>2300</td><td>2018</td><td>697232991</td><td>6061384</td></tr>\n",
              "\t<tr><td>2300</td><td>2016</td><td>613267394</td><td>5898038</td></tr>\n",
              "\t<tr><td>2300</td><td>2015</td><td>573501471</td><td>5787320</td></tr>\n",
              "\t<tr><td>2300</td><td>2013</td><td>541054864</td><td>5618907</td></tr>\n",
              "\t<tr><td>2300</td><td>2014</td><td>533330888</td><td>5576235</td></tr>\n",
              "\t<tr><td>Q000</td><td>2016</td><td>543107742</td><td>5179946</td></tr>\n",
              "\t<tr><td>Q000</td><td>2013</td><td>536030027</td><td>5124375</td></tr>\n",
              "</tbody>\n",
              "</table>\n"
            ],
            "text/markdown": "\nA tibble: 10 × 4\n\n| Job.Family.Code &lt;chr&gt; | Year &lt;int&gt; | sum_of_Salaries &lt;dbl&gt; | Union_Code &lt;int&gt; |\n|---|---|---|---|\n| 2300 | 2017 | 986163884 | 9098548 |\n| Q000 | 2017 | 817624241 | 7068244 |\n| 2300 | 2019 | 720383607 | 6201943 |\n| 2300 | 2018 | 697232991 | 6061384 |\n| 2300 | 2016 | 613267394 | 5898038 |\n| 2300 | 2015 | 573501471 | 5787320 |\n| 2300 | 2013 | 541054864 | 5618907 |\n| 2300 | 2014 | 533330888 | 5576235 |\n| Q000 | 2016 | 543107742 | 5179946 |\n| Q000 | 2013 | 536030027 | 5124375 |\n\n",
            "text/latex": "A tibble: 10 × 4\n\\begin{tabular}{llll}\n Job.Family.Code & Year & sum\\_of\\_Salaries & Union\\_Code\\\\\n <chr> & <int> & <dbl> & <int>\\\\\n\\hline\n\t 2300 & 2017 & 986163884 & 9098548\\\\\n\t Q000 & 2017 & 817624241 & 7068244\\\\\n\t 2300 & 2019 & 720383607 & 6201943\\\\\n\t 2300 & 2018 & 697232991 & 6061384\\\\\n\t 2300 & 2016 & 613267394 & 5898038\\\\\n\t 2300 & 2015 & 573501471 & 5787320\\\\\n\t 2300 & 2013 & 541054864 & 5618907\\\\\n\t 2300 & 2014 & 533330888 & 5576235\\\\\n\t Q000 & 2016 & 543107742 & 5179946\\\\\n\t Q000 & 2013 & 536030027 & 5124375\\\\\n\\end{tabular}\n",
            "text/plain": [
              "   Job.Family.Code Year sum_of_Salaries Union_Code\n",
              "1  2300            2017 986163884       9098548   \n",
              "2  Q000            2017 817624241       7068244   \n",
              "3  2300            2019 720383607       6201943   \n",
              "4  2300            2018 697232991       6061384   \n",
              "5  2300            2016 613267394       5898038   \n",
              "6  2300            2015 573501471       5787320   \n",
              "7  2300            2013 541054864       5618907   \n",
              "8  2300            2014 533330888       5576235   \n",
              "9  Q000            2016 543107742       5179946   \n",
              "10 Q000            2013 536030027       5124375   "
            ]
          },
          "metadata": {}
        },
        {
          "output_type": "display_data",
          "data": {
            "text/html": [
              "<table class=\"dataframe\">\n",
              "<caption>A tibble: 10 × 4</caption>\n",
              "<thead>\n",
              "\t<tr><th scope=col>Job.Family.Code</th><th scope=col>Year</th><th scope=col>sum_of_Salaries</th><th scope=col>Union_Code</th></tr>\n",
              "\t<tr><th scope=col>&lt;chr&gt;</th><th scope=col>&lt;int&gt;</th><th scope=col>&lt;dbl&gt;</th><th scope=col>&lt;int&gt;</th></tr>\n",
              "</thead>\n",
              "<tbody>\n",
              "\t<tr><td>1500</td><td>2016</td><td>  1349652.7</td><td>354</td></tr>\n",
              "\t<tr><td>5400</td><td>2020</td><td>  1383528.0</td><td>252</td></tr>\n",
              "\t<tr><td>1500</td><td>2018</td><td>   947552.7</td><td>242</td></tr>\n",
              "\t<tr><td>1500</td><td>2019</td><td>   965660.6</td><td>220</td></tr>\n",
              "\t<tr><td>1500</td><td>2020</td><td>   429224.8</td><td>110</td></tr>\n",
              "\t<tr><td>1000</td><td>2017</td><td>326704952.8</td><td> NA</td></tr>\n",
              "\t<tr><td>3200</td><td>2016</td><td> 30442344.9</td><td> NA</td></tr>\n",
              "\t<tr><td>3200</td><td>2017</td><td> 48919250.9</td><td> NA</td></tr>\n",
              "\t<tr><td>9100</td><td>2016</td><td>427449455.4</td><td> NA</td></tr>\n",
              "\t<tr><td>9100</td><td>2017</td><td>675523163.6</td><td> NA</td></tr>\n",
              "</tbody>\n",
              "</table>\n"
            ],
            "text/markdown": "\nA tibble: 10 × 4\n\n| Job.Family.Code &lt;chr&gt; | Year &lt;int&gt; | sum_of_Salaries &lt;dbl&gt; | Union_Code &lt;int&gt; |\n|---|---|---|---|\n| 1500 | 2016 |   1349652.7 | 354 |\n| 5400 | 2020 |   1383528.0 | 252 |\n| 1500 | 2018 |    947552.7 | 242 |\n| 1500 | 2019 |    965660.6 | 220 |\n| 1500 | 2020 |    429224.8 | 110 |\n| 1000 | 2017 | 326704952.8 |  NA |\n| 3200 | 2016 |  30442344.9 |  NA |\n| 3200 | 2017 |  48919250.9 |  NA |\n| 9100 | 2016 | 427449455.4 |  NA |\n| 9100 | 2017 | 675523163.6 |  NA |\n\n",
            "text/latex": "A tibble: 10 × 4\n\\begin{tabular}{llll}\n Job.Family.Code & Year & sum\\_of\\_Salaries & Union\\_Code\\\\\n <chr> & <int> & <dbl> & <int>\\\\\n\\hline\n\t 1500 & 2016 &   1349652.7 & 354\\\\\n\t 5400 & 2020 &   1383528.0 & 252\\\\\n\t 1500 & 2018 &    947552.7 & 242\\\\\n\t 1500 & 2019 &    965660.6 & 220\\\\\n\t 1500 & 2020 &    429224.8 & 110\\\\\n\t 1000 & 2017 & 326704952.8 &  NA\\\\\n\t 3200 & 2016 &  30442344.9 &  NA\\\\\n\t 3200 & 2017 &  48919250.9 &  NA\\\\\n\t 9100 & 2016 & 427449455.4 &  NA\\\\\n\t 9100 & 2017 & 675523163.6 &  NA\\\\\n\\end{tabular}\n",
            "text/plain": [
              "   Job.Family.Code Year sum_of_Salaries Union_Code\n",
              "1  1500            2016   1349652.7     354       \n",
              "2  5400            2020   1383528.0     252       \n",
              "3  1500            2018    947552.7     242       \n",
              "4  1500            2019    965660.6     220       \n",
              "5  1500            2020    429224.8     110       \n",
              "6  1000            2017 326704952.8      NA       \n",
              "7  3200            2016  30442344.9      NA       \n",
              "8  3200            2017  48919250.9      NA       \n",
              "9  9100            2016 427449455.4      NA       \n",
              "10 9100            2017 675523163.6      NA       "
            ]
          },
          "metadata": {}
        }
      ]
    },
    {
      "cell_type": "code",
      "source": [
        "grp_year <- x %>% group_by(Year,Employee.Identifier\t)%>%\n",
        "                   summarise(\n",
        "                              sum_of_total_salaries=sum(Total.Salary),\n",
        "                              retirement=sum(Retirement),\n",
        "                   .groups='drop')"
      ],
      "metadata": {
        "id": "Czw8aRirfj2D"
      },
      "execution_count": null,
      "outputs": []
    },
    {
      "cell_type": "code",
      "source": [
        "head(grp_year[order(grp_year $ retirement,decreasing = TRUE),],10)\n",
        "tail(grp_year[order(grp_year $ retirement,decreasing = TRUE),],10)"
      ],
      "metadata": {
        "colab": {
          "base_uri": "https://localhost:8080/",
          "height": 806
        },
        "id": "qY1MUPKDgP5i",
        "outputId": "45bc5006-701a-4094-d433-b27d5883af2b"
      },
      "execution_count": null,
      "outputs": [
        {
          "output_type": "display_data",
          "data": {
            "text/html": [
              "<table class=\"dataframe\">\n",
              "<caption>A tibble: 10 × 4</caption>\n",
              "<thead>\n",
              "\t<tr><th scope=col>Year</th><th scope=col>Employee.Identifier</th><th scope=col>sum_of_total_salaries</th><th scope=col>retirement</th></tr>\n",
              "\t<tr><th scope=col>&lt;int&gt;</th><th scope=col>&lt;int&gt;</th><th scope=col>&lt;dbl&gt;</th><th scope=col>&lt;dbl&gt;</th></tr>\n",
              "</thead>\n",
              "<tbody>\n",
              "\t<tr><td>2016</td><td>25997</td><td>1042444.9</td><td>196351.6</td></tr>\n",
              "\t<tr><td>2015</td><td>25997</td><td> 887033.3</td><td>187328.0</td></tr>\n",
              "\t<tr><td>2014</td><td> 9981</td><td> 743383.4</td><td>137512.4</td></tr>\n",
              "\t<tr><td>2015</td><td>53428</td><td> 645108.8</td><td>135808.4</td></tr>\n",
              "\t<tr><td>2015</td><td>51150</td><td> 656229.3</td><td>134879.2</td></tr>\n",
              "\t<tr><td>2014</td><td>51150</td><td> 654689.6</td><td>134809.2</td></tr>\n",
              "\t<tr><td>2015</td><td>23490</td><td> 655262.6</td><td>134680.6</td></tr>\n",
              "\t<tr><td>2014</td><td>23490</td><td> 653721.6</td><td>134610.0</td></tr>\n",
              "\t<tr><td>2015</td><td>43906</td><td> 637592.8</td><td>134071.7</td></tr>\n",
              "\t<tr><td>2014</td><td>53428</td><td> 619059.2</td><td>130850.7</td></tr>\n",
              "</tbody>\n",
              "</table>\n"
            ],
            "text/markdown": "\nA tibble: 10 × 4\n\n| Year &lt;int&gt; | Employee.Identifier &lt;int&gt; | sum_of_total_salaries &lt;dbl&gt; | retirement &lt;dbl&gt; |\n|---|---|---|---|\n| 2016 | 25997 | 1042444.9 | 196351.6 |\n| 2015 | 25997 |  887033.3 | 187328.0 |\n| 2014 |  9981 |  743383.4 | 137512.4 |\n| 2015 | 53428 |  645108.8 | 135808.4 |\n| 2015 | 51150 |  656229.3 | 134879.2 |\n| 2014 | 51150 |  654689.6 | 134809.2 |\n| 2015 | 23490 |  655262.6 | 134680.6 |\n| 2014 | 23490 |  653721.6 | 134610.0 |\n| 2015 | 43906 |  637592.8 | 134071.7 |\n| 2014 | 53428 |  619059.2 | 130850.7 |\n\n",
            "text/latex": "A tibble: 10 × 4\n\\begin{tabular}{llll}\n Year & Employee.Identifier & sum\\_of\\_total\\_salaries & retirement\\\\\n <int> & <int> & <dbl> & <dbl>\\\\\n\\hline\n\t 2016 & 25997 & 1042444.9 & 196351.6\\\\\n\t 2015 & 25997 &  887033.3 & 187328.0\\\\\n\t 2014 &  9981 &  743383.4 & 137512.4\\\\\n\t 2015 & 53428 &  645108.8 & 135808.4\\\\\n\t 2015 & 51150 &  656229.3 & 134879.2\\\\\n\t 2014 & 51150 &  654689.6 & 134809.2\\\\\n\t 2015 & 23490 &  655262.6 & 134680.6\\\\\n\t 2014 & 23490 &  653721.6 & 134610.0\\\\\n\t 2015 & 43906 &  637592.8 & 134071.7\\\\\n\t 2014 & 53428 &  619059.2 & 130850.7\\\\\n\\end{tabular}\n",
            "text/plain": [
              "   Year Employee.Identifier sum_of_total_salaries retirement\n",
              "1  2016 25997               1042444.9             196351.6  \n",
              "2  2015 25997                887033.3             187328.0  \n",
              "3  2014  9981                743383.4             137512.4  \n",
              "4  2015 53428                645108.8             135808.4  \n",
              "5  2015 51150                656229.3             134879.2  \n",
              "6  2014 51150                654689.6             134809.2  \n",
              "7  2015 23490                655262.6             134680.6  \n",
              "8  2014 23490                653721.6             134610.0  \n",
              "9  2015 43906                637592.8             134071.7  \n",
              "10 2014 53428                619059.2             130850.7  "
            ]
          },
          "metadata": {}
        },
        {
          "output_type": "display_data",
          "data": {
            "text/html": [
              "<table class=\"dataframe\">\n",
              "<caption>A tibble: 10 × 4</caption>\n",
              "<thead>\n",
              "\t<tr><th scope=col>Year</th><th scope=col>Employee.Identifier</th><th scope=col>sum_of_total_salaries</th><th scope=col>retirement</th></tr>\n",
              "\t<tr><th scope=col>&lt;int&gt;</th><th scope=col>&lt;int&gt;</th><th scope=col>&lt;dbl&gt;</th><th scope=col>&lt;dbl&gt;</th></tr>\n",
              "</thead>\n",
              "<tbody>\n",
              "\t<tr><td>2013</td><td>    1173</td><td>357863.56</td><td>-26308.32</td></tr>\n",
              "\t<tr><td>2018</td><td>37158052</td><td>150611.63</td><td>-26670.15</td></tr>\n",
              "\t<tr><td>2014</td><td>   36486</td><td>165368.48</td><td>-29128.10</td></tr>\n",
              "\t<tr><td>2015</td><td>    9740</td><td> 54049.96</td><td>-29956.88</td></tr>\n",
              "\t<tr><td>2014</td><td>   23424</td><td> 70522.59</td><td>-35092.79</td></tr>\n",
              "\t<tr><td>2013</td><td>   36486</td><td>130463.15</td><td>-38445.55</td></tr>\n",
              "\t<tr><td>2013</td><td>    9740</td><td> 73885.80</td><td>-39923.36</td></tr>\n",
              "\t<tr><td>2013</td><td>   25457</td><td> 31410.86</td><td>-51923.45</td></tr>\n",
              "\t<tr><td>2014</td><td>    9740</td><td> 68948.06</td><td>-57645.29</td></tr>\n",
              "\t<tr><td>2014</td><td>   25457</td><td> 28823.18</td><td>-59192.19</td></tr>\n",
              "</tbody>\n",
              "</table>\n"
            ],
            "text/markdown": "\nA tibble: 10 × 4\n\n| Year &lt;int&gt; | Employee.Identifier &lt;int&gt; | sum_of_total_salaries &lt;dbl&gt; | retirement &lt;dbl&gt; |\n|---|---|---|---|\n| 2013 |     1173 | 357863.56 | -26308.32 |\n| 2018 | 37158052 | 150611.63 | -26670.15 |\n| 2014 |    36486 | 165368.48 | -29128.10 |\n| 2015 |     9740 |  54049.96 | -29956.88 |\n| 2014 |    23424 |  70522.59 | -35092.79 |\n| 2013 |    36486 | 130463.15 | -38445.55 |\n| 2013 |     9740 |  73885.80 | -39923.36 |\n| 2013 |    25457 |  31410.86 | -51923.45 |\n| 2014 |     9740 |  68948.06 | -57645.29 |\n| 2014 |    25457 |  28823.18 | -59192.19 |\n\n",
            "text/latex": "A tibble: 10 × 4\n\\begin{tabular}{llll}\n Year & Employee.Identifier & sum\\_of\\_total\\_salaries & retirement\\\\\n <int> & <int> & <dbl> & <dbl>\\\\\n\\hline\n\t 2013 &     1173 & 357863.56 & -26308.32\\\\\n\t 2018 & 37158052 & 150611.63 & -26670.15\\\\\n\t 2014 &    36486 & 165368.48 & -29128.10\\\\\n\t 2015 &     9740 &  54049.96 & -29956.88\\\\\n\t 2014 &    23424 &  70522.59 & -35092.79\\\\\n\t 2013 &    36486 & 130463.15 & -38445.55\\\\\n\t 2013 &     9740 &  73885.80 & -39923.36\\\\\n\t 2013 &    25457 &  31410.86 & -51923.45\\\\\n\t 2014 &     9740 &  68948.06 & -57645.29\\\\\n\t 2014 &    25457 &  28823.18 & -59192.19\\\\\n\\end{tabular}\n",
            "text/plain": [
              "   Year Employee.Identifier sum_of_total_salaries retirement\n",
              "1  2013     1173            357863.56             -26308.32 \n",
              "2  2018 37158052            150611.63             -26670.15 \n",
              "3  2014    36486            165368.48             -29128.10 \n",
              "4  2015     9740             54049.96             -29956.88 \n",
              "5  2014    23424             70522.59             -35092.79 \n",
              "6  2013    36486            130463.15             -38445.55 \n",
              "7  2013     9740             73885.80             -39923.36 \n",
              "8  2013    25457             31410.86             -51923.45 \n",
              "9  2014     9740             68948.06             -57645.29 \n",
              "10 2014    25457             28823.18             -59192.19 "
            ]
          },
          "metadata": {}
        }
      ]
    }
  ]
}